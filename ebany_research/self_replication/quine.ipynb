{
 "cells": [
  {
   "cell_type": "code",
   "execution_count": 1,
   "metadata": {},
   "outputs": [
    {
     "name": "stdout",
     "output_type": "stream",
     "text": [
      "import base64\n",
      "\n",
      "dna = \"aW1wb3J0IGJhc2U2NAoKZG5hID0gIioiCnJlc3VsdCA9IGJhc2U2NC5iNjRkZWNvZGUoZG5hKS5kZWNvZGUoInV0Zi04IikKcmVzdWx0ID0gcmVzdWx0LnJlcGxhY2UoIioiLCBkbmEsIDEpCnByaW50KHJlc3VsdCkK\"\n",
      "result = base64.b64decode(dna).decode(\"utf-8\")\n",
      "result = result.replace(\"*\", dna, 1)\n",
      "print(result)\n",
      "\n"
     ]
    }
   ],
   "source": [
    "import base64\n",
    "\n",
    "dna = \"aW1wb3J0IGJhc2U2NAoKZG5hID0gIioiCnJlc3VsdCA9IGJhc2U2NC5iNjRkZWNvZGUoZG5hKS5kZWNvZGUoInV0Zi04IikKcmVzdWx0ID0gcmVzdWx0LnJlcGxhY2UoIioiLCBkbmEsIDEpCnByaW50KHJlc3VsdCkK\"\n",
    "result = base64.b64decode(dna).decode(\"utf-8\")\n",
    "result = result.replace(\"*\", dna, 1)\n",
    "print(result)"
   ]
  },
  {
   "cell_type": "code",
   "execution_count": 2,
   "metadata": {},
   "outputs": [
    {
     "name": "stdout",
     "output_type": "stream",
     "text": [
      "aW1wb3J0IGJhc2U2NAoKZG5hID0gIioiCnJlc3VsdCA9IGJhc2U2NC5iNjRkZWNvZGUoZG5hKS5kZWNvZGUoInV0Zi04IikKcmVzdWx0ID0gcmVzdWx0LnJlcGxhY2UoIioiLCBkbmEsIDEpCnByaW50KHJlc3VsdCkK\n"
     ]
    }
   ],
   "source": [
    "import base64\n",
    "\n",
    "a = \"\"\"import base64\n",
    "\n",
    "dna = \"*\"\n",
    "result = base64.b64decode(dna).decode(\"utf-8\")\n",
    "result = result.replace(\"*\", dna, 1)\n",
    "print(result)\n",
    "\"\"\".encode(\n",
    "    \"utf-8\"\n",
    ")\n",
    "print(base64.b64encode(a).decode(\"utf-8\"))"
   ]
  },
  {
   "cell_type": "code",
   "execution_count": 4,
   "metadata": {},
   "outputs": [
    {
     "name": "stdout",
     "output_type": "stream",
     "text": [
      "y = \"\"\"\\ndef quine_replace(q):\\n    q = q.replace('\\\\\\\\', '\\\\\\\\\\\\\\\\')\\n    q = q.replace('\\\\n', '\\\\\\\\n')\\n    q = q.replace('\\\"', '\\\\\\\\\\\"')\\n    return q\\n\\nquine_program = 'y = \\\"\\\"\\\"' + quine_replace(y) + '\\\"\\\"\\\"' + \\\"\\\\nexec(\\\" + 'y)'\\nprint(quine_program)\\n\"\"\"\n",
      "exec(y)\n"
     ]
    }
   ],
   "source": [
    "y = \"\"\"\n",
    "def quine_replace(q):\n",
    "    q = q.replace('\\\\\\\\', '\\\\\\\\\\\\\\\\')\n",
    "    q = q.replace('\\\\n', '\\\\\\\\n')\n",
    "    q = q.replace('\\\"', '\\\\\\\\\\\"')\n",
    "    return q\n",
    "\n",
    "quine_program = 'y = \\\"\\\"\\\"' + quine_replace(y) + '\\\"\\\"\\\"' + \\\"\\\\nexec(\\\" + 'y)'\n",
    "print(quine_program)\n",
    "\"\"\"\n",
    "\n",
    "exec(y)"
   ]
  },
  {
   "cell_type": "code",
   "execution_count": 5,
   "metadata": {},
   "outputs": [
    {
     "name": "stdout",
     "output_type": "stream",
     "text": [
      "y = \"\"\"\\ndef quine_replace(q):\\n    q = q.replace('\\\\\\\\', '\\\\\\\\\\\\\\\\')\\n    q = q.replace('\\\\n', '\\\\\\\\n')\\n    q = q.replace('\\\"', '\\\\\\\\\\\"')\\n    return q\\n\\nquine_program = 'y = \\\"\\\"\\\"' + quine_replace(y) + '\\\"\\\"\\\"' + \\\"\\\\nexec(\\\" + 'y)'\\nprint(quine_program)\\n\"\"\"\n",
      "exec(y)\n"
     ]
    }
   ],
   "source": [
    "print(quine_program)"
   ]
  },
  {
   "cell_type": "code",
   "execution_count": null,
   "metadata": {},
   "outputs": [],
   "source": []
  }
 ],
 "metadata": {
  "kernelspec": {
   "display_name": "base",
   "language": "python",
   "name": "python3"
  },
  "language_info": {
   "codemirror_mode": {
    "name": "ipython",
    "version": 3
   },
   "file_extension": ".py",
   "mimetype": "text/x-python",
   "name": "python",
   "nbconvert_exporter": "python",
   "pygments_lexer": "ipython3",
   "version": "3.10.13"
  }
 },
 "nbformat": 4,
 "nbformat_minor": 2
}
