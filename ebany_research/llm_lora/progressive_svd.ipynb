{
 "cells": [
  {
   "cell_type": "code",
   "execution_count": 1,
   "metadata": {},
   "outputs": [
    {
     "name": "stderr",
     "output_type": "stream",
     "text": [
      "/opt/conda/lib/python3.10/site-packages/tqdm/auto.py:21: TqdmWarning: IProgress not found. Please update jupyter and ipywidgets. See https://ipywidgets.readthedocs.io/en/stable/user_install.html\n",
      "  from .autonotebook import tqdm as notebook_tqdm\n",
      "Loading checkpoint shards:   0%|          | 0/2 [00:00<?, ?it/s]/opt/conda/lib/python3.10/site-packages/torch/_utils.py:831: UserWarning: TypedStorage is deprecated. It will be removed in the future and UntypedStorage will be the only storage class. This should only matter to you if you are using storages directly.  To access UntypedStorage directly, use tensor.untyped_storage() instead of tensor.storage()\n",
      "  return self.fget.__get__(instance, owner)()\n",
      "Loading checkpoint shards: 100%|██████████| 2/2 [00:14<00:00,  7.14s/it]\n"
     ]
    },
    {
     "name": "stdout",
     "output_type": "stream",
     "text": [
      "7241748480\n"
     ]
    },
    {
     "name": "stderr",
     "output_type": "stream",
     "text": [
      "Special tokens have been added in the vocabulary, make sure the associated word embeddings are fine-tuned or trained.\n",
      "Special tokens have been added in the vocabulary, make sure the associated word embeddings are fine-tuned or trained.\n",
      "/home/user-name-goes-here/.local/lib/python3.10/site-packages/datasets/table.py:1421: FutureWarning: promote has been superseded by promote_options='default'.\n",
      "  table = cls._concat_blocks(blocks, axis=0)\n"
     ]
    }
   ],
   "source": [
    "from transformers import AutoTokenizer, AutoConfig\n",
    "from ebany_research.llm_lora.changed_mistral import MistralForCausalLM\n",
    "from datasets import load_dataset\n",
    "import torch\n",
    "\n",
    "\n",
    "def count_parameters(model):\n",
    "    return sum(p.numel() for p in model.parameters() if p.requires_grad)\n",
    "\n",
    "\n",
    "model_name = \"Open-Orca/Mistral-7B-OpenOrca\"\n",
    "config = AutoConfig.from_pretrained(model_name)\n",
    "device = 3\n",
    "model = MistralForCausalLM.from_pretrained(model_name, device_map={\"\": device})\n",
    "model = model.eval()\n",
    "# 29410MiB\n",
    "model = model.half()\n",
    "print(count_parameters(model))\n",
    "# model = MistralForCausalLM.from_pretrained(\n",
    "#     model_name,\n",
    "# )\n",
    "# model = MistralForCausalLM._from_config(config=config)\n",
    "\n",
    "tokenizer = AutoTokenizer.from_pretrained(model_name, padding_side=\"left\")\n",
    "tokenizer.pad_token = tokenizer.eos_token\n",
    "tokenizer.pad_token_id = tokenizer.eos_token_id\n",
    "dataset = load_dataset(\"openaccess-ai-collective/oo-gpt4-filtered\")\n",
    "dataset = dataset[\"train\"].to_list()"
   ]
  },
  {
   "cell_type": "code",
   "execution_count": 7,
   "metadata": {},
   "outputs": [
    {
     "data": {
      "text/plain": [
       "dict_keys(['id', 'system_prompt', 'question', 'response', '__index_level_0__'])"
      ]
     },
     "execution_count": 7,
     "metadata": {},
     "output_type": "execute_result"
    }
   ],
   "source": [
    "dataset[0].keys()"
   ]
  },
  {
   "cell_type": "code",
   "execution_count": 2,
   "metadata": {},
   "outputs": [
    {
     "data": {
      "text/plain": [
       "{'input_ids': tensor([[    1, 32001,  1587,    13,  1976,   460,   396, 16107, 13892, 28723,\n",
       "           995,   622,   347,  2078,   264,  3638, 28723,   995,  1580,  8270,\n",
       "           264, 10537,   304,  1043,  4372, 28723, 32000, 32001,  2188,    13,\n",
       "            13,    13, 28798,   556,   276,  1987, 11285, 28742, 28713,  3487,\n",
       "         20415,   298,  1912,   706,   684,   272,  6400,   354,   272,  8982,\n",
       "          4150, 28723, 28705, 12628,   272,  2996,   345, 11273,   400,  1987,\n",
       "           767,   863, 14151,   927,   298,   511, 28804,   548,   349,   345,\n",
       "         10847,   264,  4150, 28739,   264,  3716,  4372, 28804,    13,  2820,\n",
       "         16981, 28747, 32000, 32001, 13892,    13,  2501, 28725,   345, 10847,\n",
       "           264,  4150, 28739,   349,   459,   264,  3716,  4372,   298,   272,\n",
       "          2996,   345, 11273,   400,  1987,   767,   863, 14151,   927,   298,\n",
       "           511,  1110, 28723,   415,  2996, 21165,   356,   767, 14151,  3236,\n",
       "           298,   511,  1159,  2492,   272,  4126,  1034,   298, 11285, 28742,\n",
       "         28713,  3487, 20415, 28725,  3210,   821,   272,  4695,  1759,   302,\n",
       "          2170,  3864,   304, 15832,   272,  8982,  4150,  3837, 28723,   330,\n",
       "           680,  7658,  4372,   682, 17516,   272,  9796,   304,  1917,   697,\n",
       "         14151,   553,   298, 16353,   621,  4681,   298,  3754,   288, 11285,\n",
       "         28742, 28713,  3487, 20415,   684,   272,  8982,  4150,  6400, 28723,\n",
       "            13,    13, 11600,  2572,  3716, 11194,   298,   272,  2996,   829,\n",
       "          3024, 28747,    13,    13, 28740, 28723,  9116,   272,  8982,  4150,\n",
       "         28747,  7337,  6852, 11285, 28742, 28713,  3487, 20415, 28725, 14151,\n",
       "           682,   927,   298,   506,   264, 12230,  3028,   302,   767,   272,\n",
       "          8982,  4150,   682,   936,   614, 28723,   851,   829, 17516, 24568,\n",
       "           356,   264,  3608, 28725,   727, 28725,   304,  4723, 28725,   390,\n",
       "          1162,   390, 23689,   272, 11683,  1274, 28723,    13,    13, 28750,\n",
       "         28723, 23184,  4296,   395,  2663, 28747, 14151,  1659,   506,  3236,\n",
       "           298,  7731,   395,  2848,  3282,   304,  2005,  3338,   298,  1316,\n",
       "           395,  4150,  7394, 28725, 20083,   369,   272,  8982,  4150,   682,\n",
       "          8753,   395,  3376, 28742, 28713, 22245,  2464,   304, 22731, 28723,\n",
       "            13,    13, 28770, 28723,  5158, 21824,  4150,  4162, 28747,  7337,\n",
       "          6852, 11285, 28742, 28713,  3487, 20415, 28725, 14151,   682,   927,\n",
       "           298,  1917,  4118, 10936,   302,   272,  4150, 28725,  1259,   390,\n",
       "           272,  7335, 28725,  8059,   697, 28725,  2887,   304, 16195, 28725,\n",
       "          6290,   442, 15175, 28725,   304,   707,  8326, 14841, 28723,    13,\n",
       "            13, 28781, 28723,  8648,   442, 10221,  1304, 25964, 28747,  1791,\n",
       "         25491, 19411, 11285, 28742, 28713,  3487, 20415, 28725, 14151,   993,\n",
       "           506,  3236,   298,  2231,  5277,   442,  7153,  1304, 25964,   369,\n",
       "          4658,   544,  8598,  4162,   684,   272,  8982,  4150, 28723,    13,\n",
       "            13, 28782, 28723,  8702,   653,   264,  2796,  2838, 28747,   560,\n",
       "          1745,   298,  9087,   272,  2442,   302,  8982, 28725, 14151,   682,\n",
       "           927,   298,  1847,   864,   264,  2623,   442,  2796,  2838,   369,\n",
       "           682, 18951, 11285,   298,  8986,   272,  1951,  1671, 24593,   871,\n",
       "          1132,  6032, 28723,    13,    13,  2675,   455, 28725,   272,  2996,\n",
       "         21165,   356,   272,  7892,  5377,  5944,  3030,   354, 14151,   298,\n",
       "         10130,  1034, 11285, 28742, 28713,  3487, 20415,   304,  5227,   706,\n",
       "           684,   272,  8982,  4150,  6400, 28723,  8469, 28725,   345, 10847,\n",
       "           264,  4150, 28739,  1235,   459, 24329,  2962,   272,  6768, 14151,\n",
       "          3236,   298,  1388,  1159,  2492,   272,  4126,  1034, 28723, 32000,\n",
       "         32001, 13892,    13],\n",
       "        [32000, 32000, 32000, 32000, 32000, 32000, 32000, 32000, 32000, 32000,\n",
       "         32000, 32000, 32000, 32000, 32000, 32000, 32000, 32000, 32000, 32000,\n",
       "         32000, 32000, 32000, 32000, 32000, 32000, 32000, 32000, 32000, 32000,\n",
       "         32000, 32000, 32000, 32000, 32000, 32000, 32000, 32000, 32000, 32000,\n",
       "         32000, 32000, 32000, 32000, 32000, 32000, 32000, 32000, 32000, 32000,\n",
       "         32000, 32000, 32000, 32000, 32000, 32000, 32000, 32000, 32000, 32000,\n",
       "         32000, 32000, 32000, 32000, 32000, 32000, 32000, 32000, 32000, 32000,\n",
       "         32000, 32000, 32000, 32000, 32000, 32000, 32000, 32000, 32000, 32000,\n",
       "         32000, 32000, 32000, 32000, 32000, 32000, 32000, 32000, 32000, 32000,\n",
       "         32000, 32000, 32000, 32000, 32000, 32000, 32000, 32000, 32000, 32000,\n",
       "         32000, 32000, 32000, 32000, 32000, 32000, 32000, 32000, 32000, 32000,\n",
       "         32000, 32000, 32000, 32000, 32000, 32000, 32000, 32000, 32000, 32000,\n",
       "         32000, 32000, 32000, 32000, 32000, 32000, 32000, 32000, 32000, 32000,\n",
       "         32000, 32000, 32000, 32000, 32000, 32000, 32000, 32000, 32000, 32000,\n",
       "         32000, 32000, 32000, 32000, 32000, 32000, 32000, 32000, 32000, 32000,\n",
       "         32000, 32000, 32000, 32000, 32000, 32000, 32000, 32000, 32000, 32000,\n",
       "         32000, 32000, 32000, 32000, 32000, 32000, 32000, 32000, 32000, 32000,\n",
       "         32000, 32000, 32000, 32000, 32000, 32000, 32000, 32000, 32000, 32000,\n",
       "         32000, 32000, 32000, 32000, 32000, 32000, 32000, 32000, 32000, 32000,\n",
       "         32000, 32000, 32000, 32000, 32000, 32000, 32000, 32000, 32000, 32000,\n",
       "         32000, 32000, 32000, 32000, 32000, 32000, 32000, 32000, 32000, 32000,\n",
       "         32000, 32000, 32000, 32000, 32000, 32000, 32000, 32000, 32000, 32000,\n",
       "         32000,     1, 32001,  1587,    13,  1976,   460,   396, 16107, 13892,\n",
       "         28723,  1247,   622,   368,  2111,   368,   264,  3638, 28723,  3604,\n",
       "          5541,   349,   298,  4160,   272,  3638,   390,  7152,  3071,   390,\n",
       "           368,   541, 28723,  4023, 13801,   272,  3638,  1073,  3707, 28733,\n",
       "          1403, 28733,  7691,   304, 16205,   574,  5944, 28723, 32000, 32001,\n",
       "          2188,    13,  5238,   264, 12271,   297, 10177, 28723, 32000, 32001,\n",
       "         13892,    13,  9977, 28705, 28740, 28747, 21815,   264,  3817,   354,\n",
       "           272, 12271, 28723,    13, 28737,   622,  4987,   345,  5773,   660,\n",
       "           311, 28739,   325,  1237,  3914, 28731,   390,   272,  3817, 28723,\n",
       "            13,    13,  9977, 28705, 28750, 28747, 13341,   264, 12143,   304,\n",
       "           264, 28445, 28723,    13, 28737,   622,   938,   272, 12143,   345,\n",
       "          4754, 17749, 28739,   325,   532,  1482, 28731,   297,   272,  2169,\n",
       "         28445, 28723,    13,    13,  9977, 28705, 28770, 28747,  1325, 28768,\n",
       "           786,   380,   272, 12143, 28723,    13, 24091,   345,  5773,   660,\n",
       "           311, 28739,   349,   264, 15816, 28725,  4008, 28733,  9701,  3817,\n",
       "         28725,   315,   622, 11365,   786,   380,   345,  4754, 17749, 28739,\n",
       "           297,   272,  2169, 28445,   390,   345,  4754,   267,   611,    13,\n",
       "            13,  9977, 28705, 28781, 28747,  4849,   272, 12271, 28723,    13,\n",
       "          8479, 28725,   486, 27698,   272,  3817,   304,   272, 11365,   786,\n",
       "           601, 12143, 28725,   272, 12271,   297, 10177,   349, 28747,   345,\n",
       "          5773,   660,   311,  7952,   611,    13,    13, 10202,  2500, 28747,\n",
       "           851, 12271,   349,  3588, 28725,   847,  6461,  6789,  4714, 28725,\n",
       "           304,  6695,  1002,   272,  4979, 11365,   786,   352,   302,   272,\n",
       "         12143,   345,  4754, 17749, 28739,   297,   272,  2169, 28445,   354,\n",
       "           272,  3817,   345,  5773,   660,   311,   611,   661,  7254,  1002,\n",
       "           298,   345,  1014,  3914,  7825, 28739,   297,  4300, 28723, 32000,\n",
       "         32001, 13892,    13]]), 'attention_mask': tensor([[1, 1, 1, 1, 1, 1, 1, 1, 1, 1, 1, 1, 1, 1, 1, 1, 1, 1, 1, 1, 1, 1, 1, 1,\n",
       "         1, 1, 1, 1, 1, 1, 1, 1, 1, 1, 1, 1, 1, 1, 1, 1, 1, 1, 1, 1, 1, 1, 1, 1,\n",
       "         1, 1, 1, 1, 1, 1, 1, 1, 1, 1, 1, 1, 1, 1, 1, 1, 1, 1, 1, 1, 1, 1, 1, 1,\n",
       "         1, 1, 1, 1, 1, 1, 1, 1, 1, 1, 1, 1, 1, 1, 1, 1, 1, 1, 1, 1, 1, 1, 1, 1,\n",
       "         1, 1, 1, 1, 1, 1, 1, 1, 1, 1, 1, 1, 1, 1, 1, 1, 1, 1, 1, 1, 1, 1, 1, 1,\n",
       "         1, 1, 1, 1, 1, 1, 1, 1, 1, 1, 1, 1, 1, 1, 1, 1, 1, 1, 1, 1, 1, 1, 1, 1,\n",
       "         1, 1, 1, 1, 1, 1, 1, 1, 1, 1, 1, 1, 1, 1, 1, 1, 1, 1, 1, 1, 1, 1, 1, 1,\n",
       "         1, 1, 1, 1, 1, 1, 1, 1, 1, 1, 1, 1, 1, 1, 1, 1, 1, 1, 1, 1, 1, 1, 1, 1,\n",
       "         1, 1, 1, 1, 1, 1, 1, 1, 1, 1, 1, 1, 1, 1, 1, 1, 1, 1, 1, 1, 1, 1, 1, 1,\n",
       "         1, 1, 1, 1, 1, 1, 1, 1, 1, 1, 1, 1, 1, 1, 1, 1, 1, 1, 1, 1, 1, 1, 1, 1,\n",
       "         1, 1, 1, 1, 1, 1, 1, 1, 1, 1, 1, 1, 1, 1, 1, 1, 1, 1, 1, 1, 1, 1, 1, 1,\n",
       "         1, 1, 1, 1, 1, 1, 1, 1, 1, 1, 1, 1, 1, 1, 1, 1, 1, 1, 1, 1, 1, 1, 1, 1,\n",
       "         1, 1, 1, 1, 1, 1, 1, 1, 1, 1, 1, 1, 1, 1, 1, 1, 1, 1, 1, 1, 1, 1, 1, 1,\n",
       "         1, 1, 1, 1, 1, 1, 1, 1, 1, 1, 1, 1, 1, 1, 1, 1, 1, 1, 1, 1, 1, 1, 1, 1,\n",
       "         1, 1, 1, 1, 1, 1, 1, 1, 1, 1, 1, 1, 1, 1, 1, 1, 1, 1, 1, 1, 1, 1, 1, 1,\n",
       "         1, 1, 1, 1, 1, 1, 1, 1, 1, 1, 1, 1, 1, 1, 1, 1, 1, 1, 1, 1, 1, 1, 1, 1,\n",
       "         1, 1, 1, 1, 1, 1, 1, 1, 1, 1, 1, 1, 1, 1, 1, 1, 1, 1, 1, 1, 1, 1, 1, 1,\n",
       "         1, 1, 1, 1, 1, 1, 1, 1, 1, 1, 1, 1, 1, 1, 1, 1, 1, 1, 1, 1, 1, 1, 1, 1,\n",
       "         1, 1, 1, 1, 1, 1, 1, 1, 1, 1, 1, 1, 1, 1, 1, 1, 1, 1, 1, 1, 1, 1, 1, 1,\n",
       "         1, 1, 1, 1, 1, 1, 1, 1, 1, 1, 1, 1, 1, 1, 1, 1, 1, 1, 1, 1, 1, 1, 1, 1,\n",
       "         1, 1, 1],\n",
       "        [0, 0, 0, 0, 0, 0, 0, 0, 0, 0, 0, 0, 0, 0, 0, 0, 0, 0, 0, 0, 0, 0, 0, 0,\n",
       "         0, 0, 0, 0, 0, 0, 0, 0, 0, 0, 0, 0, 0, 0, 0, 0, 0, 0, 0, 0, 0, 0, 0, 0,\n",
       "         0, 0, 0, 0, 0, 0, 0, 0, 0, 0, 0, 0, 0, 0, 0, 0, 0, 0, 0, 0, 0, 0, 0, 0,\n",
       "         0, 0, 0, 0, 0, 0, 0, 0, 0, 0, 0, 0, 0, 0, 0, 0, 0, 0, 0, 0, 0, 0, 0, 0,\n",
       "         0, 0, 0, 0, 0, 0, 0, 0, 0, 0, 0, 0, 0, 0, 0, 0, 0, 0, 0, 0, 0, 0, 0, 0,\n",
       "         0, 0, 0, 0, 0, 0, 0, 0, 0, 0, 0, 0, 0, 0, 0, 0, 0, 0, 0, 0, 0, 0, 0, 0,\n",
       "         0, 0, 0, 0, 0, 0, 0, 0, 0, 0, 0, 0, 0, 0, 0, 0, 0, 0, 0, 0, 0, 0, 0, 0,\n",
       "         0, 0, 0, 0, 0, 0, 0, 0, 0, 0, 0, 0, 0, 0, 0, 0, 0, 0, 0, 0, 0, 0, 0, 0,\n",
       "         0, 0, 0, 0, 0, 0, 0, 0, 0, 0, 0, 0, 0, 0, 0, 0, 0, 0, 0, 0, 0, 0, 0, 0,\n",
       "         0, 0, 0, 0, 0, 1, 1, 1, 1, 1, 1, 1, 1, 1, 1, 1, 1, 1, 1, 1, 1, 1, 1, 1,\n",
       "         1, 1, 1, 1, 1, 1, 1, 1, 1, 1, 1, 1, 1, 1, 1, 1, 1, 1, 1, 1, 1, 1, 1, 1,\n",
       "         1, 1, 1, 1, 1, 1, 1, 1, 1, 1, 1, 1, 1, 1, 1, 1, 1, 1, 1, 1, 1, 1, 1, 1,\n",
       "         1, 1, 1, 1, 1, 1, 1, 1, 1, 1, 1, 1, 1, 1, 1, 1, 1, 1, 1, 1, 1, 1, 1, 1,\n",
       "         1, 1, 1, 1, 1, 1, 1, 1, 1, 1, 1, 1, 1, 1, 1, 1, 1, 1, 1, 1, 1, 1, 1, 1,\n",
       "         1, 1, 1, 1, 1, 1, 1, 1, 1, 1, 1, 1, 1, 1, 1, 1, 1, 1, 1, 1, 1, 1, 1, 1,\n",
       "         1, 1, 1, 1, 1, 1, 1, 1, 1, 1, 1, 1, 1, 1, 1, 1, 1, 1, 1, 1, 1, 1, 1, 1,\n",
       "         1, 1, 1, 1, 1, 1, 1, 1, 1, 1, 1, 1, 1, 1, 1, 1, 1, 1, 1, 1, 1, 1, 1, 1,\n",
       "         1, 1, 1, 1, 1, 1, 1, 1, 1, 1, 1, 1, 1, 1, 1, 1, 1, 1, 1, 1, 1, 1, 1, 1,\n",
       "         1, 1, 1, 1, 1, 1, 1, 1, 1, 1, 1, 1, 1, 1, 1, 1, 1, 1, 1, 1, 1, 1, 1, 1,\n",
       "         1, 1, 1, 1, 1, 1, 1, 1, 1, 1, 1, 1, 1, 1, 1, 1, 1, 1, 1, 1, 1, 1, 1, 1,\n",
       "         1, 1, 1]]), 'labels': tensor([[    1, 32001,  1587,    13,  1976,   460,   396, 16107, 13892, 28723,\n",
       "           995,   622,   347,  2078,   264,  3638, 28723,   995,  1580,  8270,\n",
       "           264, 10537,   304,  1043,  4372, 28723,  -100, 32001,  2188,    13,\n",
       "            13,    13, 28798,   556,   276,  1987, 11285, 28742, 28713,  3487,\n",
       "         20415,   298,  1912,   706,   684,   272,  6400,   354,   272,  8982,\n",
       "          4150, 28723, 28705, 12628,   272,  2996,   345, 11273,   400,  1987,\n",
       "           767,   863, 14151,   927,   298,   511, 28804,   548,   349,   345,\n",
       "         10847,   264,  4150, 28739,   264,  3716,  4372, 28804,    13,  2820,\n",
       "         16981, 28747,  -100, 32001, 13892,    13,  2501, 28725,   345, 10847,\n",
       "           264,  4150, 28739,   349,   459,   264,  3716,  4372,   298,   272,\n",
       "          2996,   345, 11273,   400,  1987,   767,   863, 14151,   927,   298,\n",
       "           511,  1110, 28723,   415,  2996, 21165,   356,   767, 14151,  3236,\n",
       "           298,   511,  1159,  2492,   272,  4126,  1034,   298, 11285, 28742,\n",
       "         28713,  3487, 20415, 28725,  3210,   821,   272,  4695,  1759,   302,\n",
       "          2170,  3864,   304, 15832,   272,  8982,  4150,  3837, 28723,   330,\n",
       "           680,  7658,  4372,   682, 17516,   272,  9796,   304,  1917,   697,\n",
       "         14151,   553,   298, 16353,   621,  4681,   298,  3754,   288, 11285,\n",
       "         28742, 28713,  3487, 20415,   684,   272,  8982,  4150,  6400, 28723,\n",
       "            13,    13, 11600,  2572,  3716, 11194,   298,   272,  2996,   829,\n",
       "          3024, 28747,    13,    13, 28740, 28723,  9116,   272,  8982,  4150,\n",
       "         28747,  7337,  6852, 11285, 28742, 28713,  3487, 20415, 28725, 14151,\n",
       "           682,   927,   298,   506,   264, 12230,  3028,   302,   767,   272,\n",
       "          8982,  4150,   682,   936,   614, 28723,   851,   829, 17516, 24568,\n",
       "           356,   264,  3608, 28725,   727, 28725,   304,  4723, 28725,   390,\n",
       "          1162,   390, 23689,   272, 11683,  1274, 28723,    13,    13, 28750,\n",
       "         28723, 23184,  4296,   395,  2663, 28747, 14151,  1659,   506,  3236,\n",
       "           298,  7731,   395,  2848,  3282,   304,  2005,  3338,   298,  1316,\n",
       "           395,  4150,  7394, 28725, 20083,   369,   272,  8982,  4150,   682,\n",
       "          8753,   395,  3376, 28742, 28713, 22245,  2464,   304, 22731, 28723,\n",
       "            13,    13, 28770, 28723,  5158, 21824,  4150,  4162, 28747,  7337,\n",
       "          6852, 11285, 28742, 28713,  3487, 20415, 28725, 14151,   682,   927,\n",
       "           298,  1917,  4118, 10936,   302,   272,  4150, 28725,  1259,   390,\n",
       "           272,  7335, 28725,  8059,   697, 28725,  2887,   304, 16195, 28725,\n",
       "          6290,   442, 15175, 28725,   304,   707,  8326, 14841, 28723,    13,\n",
       "            13, 28781, 28723,  8648,   442, 10221,  1304, 25964, 28747,  1791,\n",
       "         25491, 19411, 11285, 28742, 28713,  3487, 20415, 28725, 14151,   993,\n",
       "           506,  3236,   298,  2231,  5277,   442,  7153,  1304, 25964,   369,\n",
       "          4658,   544,  8598,  4162,   684,   272,  8982,  4150, 28723,    13,\n",
       "            13, 28782, 28723,  8702,   653,   264,  2796,  2838, 28747,   560,\n",
       "          1745,   298,  9087,   272,  2442,   302,  8982, 28725, 14151,   682,\n",
       "           927,   298,  1847,   864,   264,  2623,   442,  2796,  2838,   369,\n",
       "           682, 18951, 11285,   298,  8986,   272,  1951,  1671, 24593,   871,\n",
       "          1132,  6032, 28723,    13,    13,  2675,   455, 28725,   272,  2996,\n",
       "         21165,   356,   272,  7892,  5377,  5944,  3030,   354, 14151,   298,\n",
       "         10130,  1034, 11285, 28742, 28713,  3487, 20415,   304,  5227,   706,\n",
       "           684,   272,  8982,  4150,  6400, 28723,  8469, 28725,   345, 10847,\n",
       "           264,  4150, 28739,  1235,   459, 24329,  2962,   272,  6768, 14151,\n",
       "          3236,   298,  1388,  1159,  2492,   272,  4126,  1034, 28723,  -100,\n",
       "         32001, 13892,    13],\n",
       "        [ -100,  -100,  -100,  -100,  -100,  -100,  -100,  -100,  -100,  -100,\n",
       "          -100,  -100,  -100,  -100,  -100,  -100,  -100,  -100,  -100,  -100,\n",
       "          -100,  -100,  -100,  -100,  -100,  -100,  -100,  -100,  -100,  -100,\n",
       "          -100,  -100,  -100,  -100,  -100,  -100,  -100,  -100,  -100,  -100,\n",
       "          -100,  -100,  -100,  -100,  -100,  -100,  -100,  -100,  -100,  -100,\n",
       "          -100,  -100,  -100,  -100,  -100,  -100,  -100,  -100,  -100,  -100,\n",
       "          -100,  -100,  -100,  -100,  -100,  -100,  -100,  -100,  -100,  -100,\n",
       "          -100,  -100,  -100,  -100,  -100,  -100,  -100,  -100,  -100,  -100,\n",
       "          -100,  -100,  -100,  -100,  -100,  -100,  -100,  -100,  -100,  -100,\n",
       "          -100,  -100,  -100,  -100,  -100,  -100,  -100,  -100,  -100,  -100,\n",
       "          -100,  -100,  -100,  -100,  -100,  -100,  -100,  -100,  -100,  -100,\n",
       "          -100,  -100,  -100,  -100,  -100,  -100,  -100,  -100,  -100,  -100,\n",
       "          -100,  -100,  -100,  -100,  -100,  -100,  -100,  -100,  -100,  -100,\n",
       "          -100,  -100,  -100,  -100,  -100,  -100,  -100,  -100,  -100,  -100,\n",
       "          -100,  -100,  -100,  -100,  -100,  -100,  -100,  -100,  -100,  -100,\n",
       "          -100,  -100,  -100,  -100,  -100,  -100,  -100,  -100,  -100,  -100,\n",
       "          -100,  -100,  -100,  -100,  -100,  -100,  -100,  -100,  -100,  -100,\n",
       "          -100,  -100,  -100,  -100,  -100,  -100,  -100,  -100,  -100,  -100,\n",
       "          -100,  -100,  -100,  -100,  -100,  -100,  -100,  -100,  -100,  -100,\n",
       "          -100,  -100,  -100,  -100,  -100,  -100,  -100,  -100,  -100,  -100,\n",
       "          -100,  -100,  -100,  -100,  -100,  -100,  -100,  -100,  -100,  -100,\n",
       "          -100,  -100,  -100,  -100,  -100,  -100,  -100,  -100,  -100,  -100,\n",
       "          -100,     1, 32001,  1587,    13,  1976,   460,   396, 16107, 13892,\n",
       "         28723,  1247,   622,   368,  2111,   368,   264,  3638, 28723,  3604,\n",
       "          5541,   349,   298,  4160,   272,  3638,   390,  7152,  3071,   390,\n",
       "           368,   541, 28723,  4023, 13801,   272,  3638,  1073,  3707, 28733,\n",
       "          1403, 28733,  7691,   304, 16205,   574,  5944, 28723,  -100, 32001,\n",
       "          2188,    13,  5238,   264, 12271,   297, 10177, 28723,  -100, 32001,\n",
       "         13892,    13,  9977, 28705, 28740, 28747, 21815,   264,  3817,   354,\n",
       "           272, 12271, 28723,    13, 28737,   622,  4987,   345,  5773,   660,\n",
       "           311, 28739,   325,  1237,  3914, 28731,   390,   272,  3817, 28723,\n",
       "            13,    13,  9977, 28705, 28750, 28747, 13341,   264, 12143,   304,\n",
       "           264, 28445, 28723,    13, 28737,   622,   938,   272, 12143,   345,\n",
       "          4754, 17749, 28739,   325,   532,  1482, 28731,   297,   272,  2169,\n",
       "         28445, 28723,    13,    13,  9977, 28705, 28770, 28747,  1325, 28768,\n",
       "           786,   380,   272, 12143, 28723,    13, 24091,   345,  5773,   660,\n",
       "           311, 28739,   349,   264, 15816, 28725,  4008, 28733,  9701,  3817,\n",
       "         28725,   315,   622, 11365,   786,   380,   345,  4754, 17749, 28739,\n",
       "           297,   272,  2169, 28445,   390,   345,  4754,   267,   611,    13,\n",
       "            13,  9977, 28705, 28781, 28747,  4849,   272, 12271, 28723,    13,\n",
       "          8479, 28725,   486, 27698,   272,  3817,   304,   272, 11365,   786,\n",
       "           601, 12143, 28725,   272, 12271,   297, 10177,   349, 28747,   345,\n",
       "          5773,   660,   311,  7952,   611,    13,    13, 10202,  2500, 28747,\n",
       "           851, 12271,   349,  3588, 28725,   847,  6461,  6789,  4714, 28725,\n",
       "           304,  6695,  1002,   272,  4979, 11365,   786,   352,   302,   272,\n",
       "         12143,   345,  4754, 17749, 28739,   297,   272,  2169, 28445,   354,\n",
       "           272,  3817,   345,  5773,   660,   311,   611,   661,  7254,  1002,\n",
       "           298,   345,  1014,  3914,  7825, 28739,   297,  4300, 28723,  -100,\n",
       "         32001, 13892,    13]])}"
      ]
     },
     "execution_count": 2,
     "metadata": {},
     "output_type": "execute_result"
    }
   ],
   "source": [
    "from torch.utils.data import Dataset, DataLoader\n",
    "from transformers import DataCollatorWithPadding, DataCollatorForLanguageModeling\n",
    "\n",
    "\n",
    "class OpenOrcaDataset(Dataset):\n",
    "    def __init__(\n",
    "        self,\n",
    "        dataset=None,\n",
    "        tokenizer=None,\n",
    "    ):\n",
    "        self.dataset = dataset\n",
    "        self.tokenizer = tokenizer\n",
    "\n",
    "    def __len__(self):\n",
    "        return len(self.dataset)\n",
    "\n",
    "    def __getitem__(self, idx):\n",
    "        dataset_item = self.dataset[idx]\n",
    "        chat = [\n",
    "            {\"role\": \"system\", \"content\": dataset_item[\"system_prompt\"]},\n",
    "            {\"role\": \"user\", \"content\": dataset_item[\"question\"]},\n",
    "            {\"role\": \"assistant\", \"content\": dataset_item[\"response\"]},\n",
    "        ]\n",
    "        inputs = self.tokenizer.apply_chat_template(\n",
    "            chat,\n",
    "            tokenize=False,\n",
    "            add_generation_prompt=True,\n",
    "        )\n",
    "        inputs = self.tokenizer(\n",
    "            inputs,\n",
    "            return_tensors=\"pt\",\n",
    "        )\n",
    "        for key in inputs.keys():\n",
    "            inputs[key] = inputs[key].squeeze(0)\n",
    "        # print(inputs['input_ids'].shape)\n",
    "        return inputs\n",
    "\n",
    "\n",
    "train_elements = 1000\n",
    "valid_elements = 100\n",
    "\n",
    "train_dataset = OpenOrcaDataset(\n",
    "    dataset=dataset[:train_elements],\n",
    "    tokenizer=tokenizer,\n",
    ")\n",
    "\n",
    "valid_dataset = OpenOrcaDataset(\n",
    "    dataset=dataset[train_elements : train_elements + valid_elements],\n",
    "    tokenizer=tokenizer,\n",
    ")\n",
    "\n",
    "pad_datacollator = DataCollatorForLanguageModeling(\n",
    "    tokenizer=tokenizer,\n",
    "    # padding=True,\n",
    "    mlm=False,\n",
    ")\n",
    "\n",
    "train_dataloader = DataLoader(\n",
    "    dataset=train_dataset,\n",
    "    batch_size=2,\n",
    "    collate_fn=pad_datacollator,\n",
    ")\n",
    "valid_dataloader = DataLoader(\n",
    "    dataset=valid_dataset,\n",
    "    batch_size=2,\n",
    "    collate_fn=pad_datacollator,\n",
    ")\n",
    "\n",
    "next(iter(train_dataloader))\n",
    "next(iter(valid_dataloader))\n",
    "# train_dataset[0]"
   ]
  },
  {
   "cell_type": "markdown",
   "metadata": {},
   "source": [
    "### student model"
   ]
  },
  {
   "cell_type": "code",
   "execution_count": 3,
   "metadata": {},
   "outputs": [
    {
     "name": "stderr",
     "output_type": "stream",
     "text": [
      "Loading checkpoint shards: 100%|██████████| 2/2 [00:13<00:00,  6.85s/it]\n"
     ]
    }
   ],
   "source": [
    "device = 2\n",
    "student_model = MistralForCausalLM.from_pretrained(model_name, device_map={\"\": device})\n",
    "student_model = student_model.eval()\n",
    "student_model = student_model.half()"
   ]
  },
  {
   "cell_type": "code",
   "execution_count": 4,
   "metadata": {},
   "outputs": [],
   "source": [
    "distill_layer = 17\n",
    "student_mlp = student_model.model.layers[distill_layer].mlp\n",
    "\n",
    "student_gate_proj = student_mlp.gate_proj.weight.data\n",
    "student_up_proj = student_mlp.up_proj.weight.data\n",
    "student_down_proj = student_mlp.down_proj.weight.data"
   ]
  },
  {
   "cell_type": "code",
   "execution_count": 5,
   "metadata": {},
   "outputs": [
    {
     "data": {
      "image/png": "[encoded data removed]",
      "text/plain": [
       "<Figure size 640x480 with 1 Axes>"
      ]
     },
     "metadata": {},
     "output_type": "display_data"
    },
    {
     "data": {
      "image/png": "[encoded data removed]",
      "text/plain": [
       "<Figure size 640x480 with 1 Axes>"
      ]
     },
     "metadata": {},
     "output_type": "display_data"
    }
   ],
   "source": [
    "import matplotlib.pyplot as plt\n",
    "import numpy as np\n",
    "\n",
    "U, S, Vh = torch.linalg.svd(\n",
    "    student_gate_proj.to(torch.float32),\n",
    "    # student_up_proj.to(torch.float32),\n",
    "    # student_down_proj.to(torch.float32),\n",
    "    # student_model.model.embed_tokens.weight.data.to(torch.float32),\n",
    "    full_matrices=False,\n",
    ")\n",
    "\n",
    "\n",
    "area = 4\n",
    "\n",
    "plt.scatter(\n",
    "    torch.arange(0, S.shape[0]).numpy(),\n",
    "    S.cpu().numpy(),\n",
    "    s=area,\n",
    "    alpha=0.5,\n",
    ")\n",
    "plt.show()\n",
    "\n",
    "threshold = 128\n",
    "plt.scatter(\n",
    "    torch.arange(0, threshold).numpy(),\n",
    "    S[:threshold].cpu().numpy(),\n",
    "    s=area,\n",
    "    alpha=0.5,\n",
    ")\n",
    "plt.show()"
   ]
  },
  {
   "cell_type": "markdown",
   "metadata": {},
   "source": [
    "в целом можно заметить что самые основные значения лежат на первых 8-16"
   ]
  },
  {
   "cell_type": "code",
   "execution_count": 68,
   "metadata": {},
   "outputs": [
    {
     "data": {
      "text/plain": [
       "torch.Size([32002, 4096])"
      ]
     },
     "execution_count": 68,
     "metadata": {},
     "output_type": "execute_result"
    }
   ],
   "source": [
    "student_model.model.embed_tokens.weight.data.shape"
   ]
  },
  {
   "cell_type": "code",
   "execution_count": 69,
   "metadata": {},
   "outputs": [
    {
     "data": {
      "text/plain": [
       "131080192"
      ]
     },
     "execution_count": 69,
     "metadata": {},
     "output_type": "execute_result"
    }
   ],
   "source": [
    "32002 * 4096"
   ]
  },
  {
   "cell_type": "markdown",
   "metadata": {},
   "source": [
    "### Replace to lora"
   ]
  },
  {
   "cell_type": "code",
   "execution_count": 6,
   "metadata": {},
   "outputs": [
    {
     "data": {
      "text/plain": [
       "torch.Size([14336, 4096])"
      ]
     },
     "execution_count": 6,
     "metadata": {},
     "output_type": "execute_result"
    }
   ],
   "source": [
    "(U @ torch.diag(S) @ Vh).shape"
   ]
  },
  {
   "cell_type": "code",
   "execution_count": 6,
   "metadata": {},
   "outputs": [
    {
     "name": "stdout",
     "output_type": "stream",
     "text": [
      "torch.Size([4096, 64]) torch.Size([64, 14336])\n"
     ]
    }
   ],
   "source": [
    "# from ebany_research.llm_lora.changed_neox import LinearLora\n",
    "def get_L_R(weights=None, rank=64):\n",
    "    U, S, Vh = torch.linalg.svd(\n",
    "        weights.to(torch.float32),\n",
    "        full_matrices=False,\n",
    "    )\n",
    "\n",
    "    U = U[:, :rank]\n",
    "    S = torch.diag(S[:rank])\n",
    "    Vh = Vh[:rank, :]\n",
    "\n",
    "    L = U @ S\n",
    "    R = Vh\n",
    "    return L, R\n",
    "\n",
    "\n",
    "L, R = get_L_R(student_down_proj)\n",
    "print(L.shape, R.shape)\n",
    "\n",
    "\n",
    "class LinearLora(torch.nn.Module):\n",
    "    def __init__(self, in_dim=768, out_dim=768, r=16, bias=False):\n",
    "        super().__init__()\n",
    "        self.L = torch.nn.Linear(in_dim, r, bias=bias)\n",
    "        self.R = torch.nn.Linear(r, out_dim, bias=bias)\n",
    "\n",
    "    def forward(self, hidden_states):\n",
    "        hidden_states = self.R(hidden_states)\n",
    "        hidden_states = self.L(hidden_states)\n",
    "        return hidden_states\n",
    "\n",
    "\n",
    "def assign_new_weights(original_module, original_weights):\n",
    "    L, R = get_L_R(original_weights, rank=16)\n",
    "    original_module.L.weight.data = L\n",
    "    original_module.R.weight.data = R\n",
    "\n",
    "\n",
    "lora_gate_proj = LinearLora(\n",
    "    in_dim=config.hidden_size,\n",
    "    out_dim=config.intermediate_size,\n",
    "    bias=False,\n",
    ")\n",
    "lora_up_proj = LinearLora(\n",
    "    in_dim=config.hidden_size,\n",
    "    out_dim=config.intermediate_size,\n",
    "    bias=False,\n",
    ")\n",
    "lora_down_proj = LinearLora(\n",
    "    in_dim=config.intermediate_size,\n",
    "    out_dim=config.hidden_size,\n",
    "    bias=False,\n",
    ")\n",
    "\n",
    "assign_new_weights(\n",
    "    original_module=lora_gate_proj,\n",
    "    original_weights=student_gate_proj,\n",
    ")\n",
    "assign_new_weights(\n",
    "    original_module=lora_up_proj,\n",
    "    original_weights=student_up_proj,\n",
    ")\n",
    "assign_new_weights(\n",
    "    original_module=lora_down_proj,\n",
    "    original_weights=student_down_proj,\n",
    ")\n",
    "\n",
    "student_mlp.gate_proj = lora_gate_proj\n",
    "student_mlp.up_proj = lora_up_proj\n",
    "student_mlp.down_proj = lora_down_proj"
   ]
  },
  {
   "cell_type": "code",
   "execution_count": 7,
   "metadata": {},
   "outputs": [
    {
     "name": "stdout",
     "output_type": "stream",
     "text": [
      "7241748480\n",
      "7066472448\n"
     ]
    }
   ],
   "source": [
    "def count_parameters(model):\n",
    "    return sum(p.numel() for p in model.parameters() if p.requires_grad)\n",
    "\n",
    "\n",
    "print(count_parameters(model))\n",
    "print(count_parameters(student_model))"
   ]
  },
  {
   "cell_type": "markdown",
   "metadata": {},
   "source": [
    "### eval original model"
   ]
  },
  {
   "cell_type": "code",
   "execution_count": 7,
   "metadata": {},
   "outputs": [
    {
     "name": "stderr",
     "output_type": "stream",
     "text": [
      "100%|██████████| 50/50 [00:09<00:00,  5.49it/s]"
     ]
    },
    {
     "name": "stdout",
     "output_type": "stream",
     "text": [
      "2.3748738026618956\n",
      "tensor(10.7497)\n"
     ]
    },
    {
     "name": "stderr",
     "output_type": "stream",
     "text": [
      "\n"
     ]
    }
   ],
   "source": [
    "import tqdm\n",
    "\n",
    "\n",
    "def eval_model(model):\n",
    "    total_eval_loss = 0\n",
    "    with torch.no_grad():\n",
    "        with torch.autocast(device_type=\"cuda\"):\n",
    "            for eval_batch in tqdm.tqdm(valid_dataloader):\n",
    "                # print(eval_batch)\n",
    "\n",
    "                for key in eval_batch.keys():\n",
    "                    eval_batch[key] = eval_batch[key].to(model.device)\n",
    "\n",
    "                loss = model(\n",
    "                    **eval_batch,\n",
    "                )\n",
    "                total_eval_loss += loss.loss.item()\n",
    "    # break\n",
    "    total_eval_loss = total_eval_loss / len(valid_dataloader)\n",
    "    return total_eval_loss\n",
    "\n",
    "\n",
    "teacher_loss = eval_model(model)\n",
    "print(teacher_loss)\n",
    "print(torch.exp(torch.tensor(teacher_loss)))"
   ]
  },
  {
   "cell_type": "code",
   "execution_count": 8,
   "metadata": {},
   "outputs": [
    {
     "name": "stderr",
     "output_type": "stream",
     "text": [
      "100%|██████████| 50/50 [00:08<00:00,  5.75it/s]"
     ]
    },
    {
     "name": "stdout",
     "output_type": "stream",
     "text": [
      "2.3757719230651855\n",
      "tensor(10.7593)\n"
     ]
    },
    {
     "name": "stderr",
     "output_type": "stream",
     "text": [
      "\n"
     ]
    }
   ],
   "source": [
    "student_model = student_model.eval()\n",
    "\n",
    "student_loss = eval_model(student_model)\n",
    "print(student_loss)\n",
    "print(torch.exp(torch.tensor(student_loss)))"
   ]
  },
  {
   "cell_type": "code",
   "execution_count": 9,
   "metadata": {},
   "outputs": [],
   "source": [
    "import gc\n",
    "\n",
    "# model = model.cpu()\n",
    "gc.collect()\n",
    "torch.cuda.empty_cache()"
   ]
  },
  {
   "cell_type": "markdown",
   "metadata": {},
   "source": [
    "### callibrate lora"
   ]
  },
  {
   "cell_type": "code",
   "execution_count": 10,
   "metadata": {},
   "outputs": [
    {
     "name": "stdout",
     "output_type": "stream",
     "text": [
      "model.layers.17.mlp.gate_proj.L.weight\n",
      "model.layers.17.mlp.gate_proj.R.weight\n",
      "model.layers.17.mlp.up_proj.L.weight\n",
      "model.layers.17.mlp.up_proj.R.weight\n",
      "model.layers.17.mlp.down_proj.L.weight\n",
      "model.layers.17.mlp.down_proj.R.weight\n"
     ]
    },
    {
     "name": "stderr",
     "output_type": "stream",
     "text": [
      "165it [00:33,  4.90it/s]\n"
     ]
    },
    {
     "ename": "OutOfMemoryError",
     "evalue": "CUDA out of memory. Tried to allocate 2.38 GiB. GPU 2 has a total capacty of 39.39 GiB of which 1.93 GiB is free. Process 2465559 has 37.45 GiB memory in use. Of the allocated memory 36.33 GiB is allocated by PyTorch, and 598.68 MiB is reserved by PyTorch but unallocated. If reserved but unallocated memory is large try setting max_split_size_mb to avoid fragmentation.  See documentation for Memory Management and PYTORCH_CUDA_ALLOC_CONF",
     "output_type": "error",
     "traceback": [
      "\u001b[0;31m---------------------------------------------------------------------------\u001b[0m",
      "\u001b[0;31mOutOfMemoryError\u001b[0m                          Traceback (most recent call last)",
      "Cell \u001b[0;32mIn[10], line 44\u001b[0m\n\u001b[1;32m     40\u001b[0m     total_train_loss \u001b[38;5;241m=\u001b[39m total_train_loss \u001b[38;5;241m/\u001b[39m \u001b[38;5;28mlen\u001b[39m(train_dataloader)\n\u001b[1;32m     41\u001b[0m     \u001b[38;5;28;01mreturn\u001b[39;00m total_train_loss\n\u001b[0;32m---> 44\u001b[0m \u001b[43mtrain_model\u001b[49m\u001b[43m(\u001b[49m\u001b[43mmodel\u001b[49m\u001b[38;5;241;43m=\u001b[39;49m\u001b[43mstudent_model\u001b[49m\u001b[43m)\u001b[49m\n",
      "Cell \u001b[0;32mIn[10], line 23\u001b[0m, in \u001b[0;36mtrain_model\u001b[0;34m(model)\u001b[0m\n\u001b[1;32m     20\u001b[0m \u001b[38;5;28;01mfor\u001b[39;00m key \u001b[38;5;129;01min\u001b[39;00m train_batch\u001b[38;5;241m.\u001b[39mkeys():\n\u001b[1;32m     21\u001b[0m     train_batch[key] \u001b[38;5;241m=\u001b[39m train_batch[key]\u001b[38;5;241m.\u001b[39mto(model\u001b[38;5;241m.\u001b[39mdevice)\n\u001b[0;32m---> 23\u001b[0m loss \u001b[38;5;241m=\u001b[39m \u001b[43mmodel\u001b[49m\u001b[43m(\u001b[49m\n\u001b[1;32m     24\u001b[0m \u001b[43m    \u001b[49m\u001b[38;5;241;43m*\u001b[39;49m\u001b[38;5;241;43m*\u001b[39;49m\u001b[43mtrain_batch\u001b[49m\u001b[43m,\u001b[49m\n\u001b[1;32m     25\u001b[0m \u001b[43m\u001b[49m\u001b[43m)\u001b[49m\n\u001b[1;32m     26\u001b[0m loss \u001b[38;5;241m=\u001b[39m loss\u001b[38;5;241m.\u001b[39mloss \u001b[38;5;241m/\u001b[39m accum_iter\n\u001b[1;32m     27\u001b[0m \u001b[38;5;66;03m# loss = loss.loss\u001b[39;00m\n",
      "File \u001b[0;32m/opt/conda/lib/python3.10/site-packages/torch/nn/modules/module.py:1518\u001b[0m, in \u001b[0;36mModule._wrapped_call_impl\u001b[0;34m(self, *args, **kwargs)\u001b[0m\n\u001b[1;32m   1516\u001b[0m     \u001b[38;5;28;01mreturn\u001b[39;00m \u001b[38;5;28mself\u001b[39m\u001b[38;5;241m.\u001b[39m_compiled_call_impl(\u001b[38;5;241m*\u001b[39margs, \u001b[38;5;241m*\u001b[39m\u001b[38;5;241m*\u001b[39mkwargs)  \u001b[38;5;66;03m# type: ignore[misc]\u001b[39;00m\n\u001b[1;32m   1517\u001b[0m \u001b[38;5;28;01melse\u001b[39;00m:\n\u001b[0;32m-> 1518\u001b[0m     \u001b[38;5;28;01mreturn\u001b[39;00m \u001b[38;5;28;43mself\u001b[39;49m\u001b[38;5;241;43m.\u001b[39;49m\u001b[43m_call_impl\u001b[49m\u001b[43m(\u001b[49m\u001b[38;5;241;43m*\u001b[39;49m\u001b[43margs\u001b[49m\u001b[43m,\u001b[49m\u001b[43m \u001b[49m\u001b[38;5;241;43m*\u001b[39;49m\u001b[38;5;241;43m*\u001b[39;49m\u001b[43mkwargs\u001b[49m\u001b[43m)\u001b[49m\n",
      "File \u001b[0;32m/opt/conda/lib/python3.10/site-packages/torch/nn/modules/module.py:1527\u001b[0m, in \u001b[0;36mModule._call_impl\u001b[0;34m(self, *args, **kwargs)\u001b[0m\n\u001b[1;32m   1522\u001b[0m \u001b[38;5;66;03m# If we don't have any hooks, we want to skip the rest of the logic in\u001b[39;00m\n\u001b[1;32m   1523\u001b[0m \u001b[38;5;66;03m# this function, and just call forward.\u001b[39;00m\n\u001b[1;32m   1524\u001b[0m \u001b[38;5;28;01mif\u001b[39;00m \u001b[38;5;129;01mnot\u001b[39;00m (\u001b[38;5;28mself\u001b[39m\u001b[38;5;241m.\u001b[39m_backward_hooks \u001b[38;5;129;01mor\u001b[39;00m \u001b[38;5;28mself\u001b[39m\u001b[38;5;241m.\u001b[39m_backward_pre_hooks \u001b[38;5;129;01mor\u001b[39;00m \u001b[38;5;28mself\u001b[39m\u001b[38;5;241m.\u001b[39m_forward_hooks \u001b[38;5;129;01mor\u001b[39;00m \u001b[38;5;28mself\u001b[39m\u001b[38;5;241m.\u001b[39m_forward_pre_hooks\n\u001b[1;32m   1525\u001b[0m         \u001b[38;5;129;01mor\u001b[39;00m _global_backward_pre_hooks \u001b[38;5;129;01mor\u001b[39;00m _global_backward_hooks\n\u001b[1;32m   1526\u001b[0m         \u001b[38;5;129;01mor\u001b[39;00m _global_forward_hooks \u001b[38;5;129;01mor\u001b[39;00m _global_forward_pre_hooks):\n\u001b[0;32m-> 1527\u001b[0m     \u001b[38;5;28;01mreturn\u001b[39;00m \u001b[43mforward_call\u001b[49m\u001b[43m(\u001b[49m\u001b[38;5;241;43m*\u001b[39;49m\u001b[43margs\u001b[49m\u001b[43m,\u001b[49m\u001b[43m \u001b[49m\u001b[38;5;241;43m*\u001b[39;49m\u001b[38;5;241;43m*\u001b[39;49m\u001b[43mkwargs\u001b[49m\u001b[43m)\u001b[49m\n\u001b[1;32m   1529\u001b[0m \u001b[38;5;28;01mtry\u001b[39;00m:\n\u001b[1;32m   1530\u001b[0m     result \u001b[38;5;241m=\u001b[39m \u001b[38;5;28;01mNone\u001b[39;00m\n",
      "File \u001b[0;32m/code/ebany_research/llm_lora/changed_mistral.py:1336\u001b[0m, in \u001b[0;36mMistralForCausalLM.forward\u001b[0;34m(self, input_ids, attention_mask, position_ids, past_key_values, inputs_embeds, labels, use_cache, output_attentions, output_hidden_states, return_dict, max_layer)\u001b[0m\n\u001b[1;32m   1331\u001b[0m return_dict \u001b[38;5;241m=\u001b[39m (\n\u001b[1;32m   1332\u001b[0m     return_dict \u001b[38;5;28;01mif\u001b[39;00m return_dict \u001b[38;5;129;01mis\u001b[39;00m \u001b[38;5;129;01mnot\u001b[39;00m \u001b[38;5;28;01mNone\u001b[39;00m \u001b[38;5;28;01melse\u001b[39;00m \u001b[38;5;28mself\u001b[39m\u001b[38;5;241m.\u001b[39mconfig\u001b[38;5;241m.\u001b[39muse_return_dict\n\u001b[1;32m   1333\u001b[0m )\n\u001b[1;32m   1335\u001b[0m \u001b[38;5;66;03m# decoder outputs consists of (dec_features, layer_state, dec_hidden, dec_attn)\u001b[39;00m\n\u001b[0;32m-> 1336\u001b[0m outputs \u001b[38;5;241m=\u001b[39m \u001b[38;5;28;43mself\u001b[39;49m\u001b[38;5;241;43m.\u001b[39;49m\u001b[43mmodel\u001b[49m\u001b[43m(\u001b[49m\n\u001b[1;32m   1337\u001b[0m \u001b[43m    \u001b[49m\u001b[43minput_ids\u001b[49m\u001b[38;5;241;43m=\u001b[39;49m\u001b[43minput_ids\u001b[49m\u001b[43m,\u001b[49m\n\u001b[1;32m   1338\u001b[0m \u001b[43m    \u001b[49m\u001b[43mattention_mask\u001b[49m\u001b[38;5;241;43m=\u001b[39;49m\u001b[43mattention_mask\u001b[49m\u001b[43m,\u001b[49m\n\u001b[1;32m   1339\u001b[0m \u001b[43m    \u001b[49m\u001b[43mposition_ids\u001b[49m\u001b[38;5;241;43m=\u001b[39;49m\u001b[43mposition_ids\u001b[49m\u001b[43m,\u001b[49m\n\u001b[1;32m   1340\u001b[0m \u001b[43m    \u001b[49m\u001b[43mpast_key_values\u001b[49m\u001b[38;5;241;43m=\u001b[39;49m\u001b[43mpast_key_values\u001b[49m\u001b[43m,\u001b[49m\n\u001b[1;32m   1341\u001b[0m \u001b[43m    \u001b[49m\u001b[43minputs_embeds\u001b[49m\u001b[38;5;241;43m=\u001b[39;49m\u001b[43minputs_embeds\u001b[49m\u001b[43m,\u001b[49m\n\u001b[1;32m   1342\u001b[0m \u001b[43m    \u001b[49m\u001b[43muse_cache\u001b[49m\u001b[38;5;241;43m=\u001b[39;49m\u001b[43muse_cache\u001b[49m\u001b[43m,\u001b[49m\n\u001b[1;32m   1343\u001b[0m \u001b[43m    \u001b[49m\u001b[43moutput_attentions\u001b[49m\u001b[38;5;241;43m=\u001b[39;49m\u001b[43moutput_attentions\u001b[49m\u001b[43m,\u001b[49m\n\u001b[1;32m   1344\u001b[0m \u001b[43m    \u001b[49m\u001b[43moutput_hidden_states\u001b[49m\u001b[38;5;241;43m=\u001b[39;49m\u001b[43moutput_hidden_states\u001b[49m\u001b[43m,\u001b[49m\n\u001b[1;32m   1345\u001b[0m \u001b[43m    \u001b[49m\u001b[43mreturn_dict\u001b[49m\u001b[38;5;241;43m=\u001b[39;49m\u001b[43mreturn_dict\u001b[49m\u001b[43m,\u001b[49m\n\u001b[1;32m   1346\u001b[0m \u001b[43m    \u001b[49m\u001b[43mmax_layer\u001b[49m\u001b[38;5;241;43m=\u001b[39;49m\u001b[43mmax_layer\u001b[49m\n\u001b[1;32m   1347\u001b[0m \u001b[43m\u001b[49m\u001b[43m)\u001b[49m\n\u001b[1;32m   1349\u001b[0m hidden_states \u001b[38;5;241m=\u001b[39m outputs[\u001b[38;5;241m0\u001b[39m]\n\u001b[1;32m   1350\u001b[0m logits \u001b[38;5;241m=\u001b[39m \u001b[38;5;28mself\u001b[39m\u001b[38;5;241m.\u001b[39mlm_head(hidden_states)\n",
      "File \u001b[0;32m/opt/conda/lib/python3.10/site-packages/torch/nn/modules/module.py:1518\u001b[0m, in \u001b[0;36mModule._wrapped_call_impl\u001b[0;34m(self, *args, **kwargs)\u001b[0m\n\u001b[1;32m   1516\u001b[0m     \u001b[38;5;28;01mreturn\u001b[39;00m \u001b[38;5;28mself\u001b[39m\u001b[38;5;241m.\u001b[39m_compiled_call_impl(\u001b[38;5;241m*\u001b[39margs, \u001b[38;5;241m*\u001b[39m\u001b[38;5;241m*\u001b[39mkwargs)  \u001b[38;5;66;03m# type: ignore[misc]\u001b[39;00m\n\u001b[1;32m   1517\u001b[0m \u001b[38;5;28;01melse\u001b[39;00m:\n\u001b[0;32m-> 1518\u001b[0m     \u001b[38;5;28;01mreturn\u001b[39;00m \u001b[38;5;28;43mself\u001b[39;49m\u001b[38;5;241;43m.\u001b[39;49m\u001b[43m_call_impl\u001b[49m\u001b[43m(\u001b[49m\u001b[38;5;241;43m*\u001b[39;49m\u001b[43margs\u001b[49m\u001b[43m,\u001b[49m\u001b[43m \u001b[49m\u001b[38;5;241;43m*\u001b[39;49m\u001b[38;5;241;43m*\u001b[39;49m\u001b[43mkwargs\u001b[49m\u001b[43m)\u001b[49m\n",
      "File \u001b[0;32m/opt/conda/lib/python3.10/site-packages/torch/nn/modules/module.py:1527\u001b[0m, in \u001b[0;36mModule._call_impl\u001b[0;34m(self, *args, **kwargs)\u001b[0m\n\u001b[1;32m   1522\u001b[0m \u001b[38;5;66;03m# If we don't have any hooks, we want to skip the rest of the logic in\u001b[39;00m\n\u001b[1;32m   1523\u001b[0m \u001b[38;5;66;03m# this function, and just call forward.\u001b[39;00m\n\u001b[1;32m   1524\u001b[0m \u001b[38;5;28;01mif\u001b[39;00m \u001b[38;5;129;01mnot\u001b[39;00m (\u001b[38;5;28mself\u001b[39m\u001b[38;5;241m.\u001b[39m_backward_hooks \u001b[38;5;129;01mor\u001b[39;00m \u001b[38;5;28mself\u001b[39m\u001b[38;5;241m.\u001b[39m_backward_pre_hooks \u001b[38;5;129;01mor\u001b[39;00m \u001b[38;5;28mself\u001b[39m\u001b[38;5;241m.\u001b[39m_forward_hooks \u001b[38;5;129;01mor\u001b[39;00m \u001b[38;5;28mself\u001b[39m\u001b[38;5;241m.\u001b[39m_forward_pre_hooks\n\u001b[1;32m   1525\u001b[0m         \u001b[38;5;129;01mor\u001b[39;00m _global_backward_pre_hooks \u001b[38;5;129;01mor\u001b[39;00m _global_backward_hooks\n\u001b[1;32m   1526\u001b[0m         \u001b[38;5;129;01mor\u001b[39;00m _global_forward_hooks \u001b[38;5;129;01mor\u001b[39;00m _global_forward_pre_hooks):\n\u001b[0;32m-> 1527\u001b[0m     \u001b[38;5;28;01mreturn\u001b[39;00m \u001b[43mforward_call\u001b[49m\u001b[43m(\u001b[49m\u001b[38;5;241;43m*\u001b[39;49m\u001b[43margs\u001b[49m\u001b[43m,\u001b[49m\u001b[43m \u001b[49m\u001b[38;5;241;43m*\u001b[39;49m\u001b[38;5;241;43m*\u001b[39;49m\u001b[43mkwargs\u001b[49m\u001b[43m)\u001b[49m\n\u001b[1;32m   1529\u001b[0m \u001b[38;5;28;01mtry\u001b[39;00m:\n\u001b[1;32m   1530\u001b[0m     result \u001b[38;5;241m=\u001b[39m \u001b[38;5;28;01mNone\u001b[39;00m\n",
      "File \u001b[0;32m/code/ebany_research/llm_lora/changed_mistral.py:1199\u001b[0m, in \u001b[0;36mMistralModel.forward\u001b[0;34m(self, input_ids, attention_mask, position_ids, past_key_values, inputs_embeds, use_cache, output_attentions, output_hidden_states, return_dict, max_layer)\u001b[0m\n\u001b[1;32m   1189\u001b[0m     layer_outputs \u001b[38;5;241m=\u001b[39m \u001b[38;5;28mself\u001b[39m\u001b[38;5;241m.\u001b[39m_gradient_checkpointing_func(\n\u001b[1;32m   1190\u001b[0m         decoder_layer\u001b[38;5;241m.\u001b[39m\u001b[38;5;21m__call__\u001b[39m,\n\u001b[1;32m   1191\u001b[0m         hidden_states,\n\u001b[0;32m   (...)\u001b[0m\n\u001b[1;32m   1196\u001b[0m         use_cache,\n\u001b[1;32m   1197\u001b[0m     )\n\u001b[1;32m   1198\u001b[0m \u001b[38;5;28;01melse\u001b[39;00m:\n\u001b[0;32m-> 1199\u001b[0m     layer_outputs \u001b[38;5;241m=\u001b[39m \u001b[43mdecoder_layer\u001b[49m\u001b[43m(\u001b[49m\n\u001b[1;32m   1200\u001b[0m \u001b[43m        \u001b[49m\u001b[43mhidden_states\u001b[49m\u001b[43m,\u001b[49m\n\u001b[1;32m   1201\u001b[0m \u001b[43m        \u001b[49m\u001b[43mattention_mask\u001b[49m\u001b[38;5;241;43m=\u001b[39;49m\u001b[43mattention_mask\u001b[49m\u001b[43m,\u001b[49m\n\u001b[1;32m   1202\u001b[0m \u001b[43m        \u001b[49m\u001b[43mposition_ids\u001b[49m\u001b[38;5;241;43m=\u001b[39;49m\u001b[43mposition_ids\u001b[49m\u001b[43m,\u001b[49m\n\u001b[1;32m   1203\u001b[0m \u001b[43m        \u001b[49m\u001b[43mpast_key_value\u001b[49m\u001b[38;5;241;43m=\u001b[39;49m\u001b[43mpast_key_values\u001b[49m\u001b[43m,\u001b[49m\n\u001b[1;32m   1204\u001b[0m \u001b[43m        \u001b[49m\u001b[43moutput_attentions\u001b[49m\u001b[38;5;241;43m=\u001b[39;49m\u001b[43moutput_attentions\u001b[49m\u001b[43m,\u001b[49m\n\u001b[1;32m   1205\u001b[0m \u001b[43m        \u001b[49m\u001b[43muse_cache\u001b[49m\u001b[38;5;241;43m=\u001b[39;49m\u001b[43muse_cache\u001b[49m\u001b[43m,\u001b[49m\n\u001b[1;32m   1206\u001b[0m \u001b[43m    \u001b[49m\u001b[43m)\u001b[49m\n\u001b[1;32m   1208\u001b[0m hidden_states \u001b[38;5;241m=\u001b[39m layer_outputs[\u001b[38;5;241m0\u001b[39m]\n\u001b[1;32m   1210\u001b[0m \u001b[38;5;28;01mif\u001b[39;00m use_cache:\n",
      "File \u001b[0;32m/opt/conda/lib/python3.10/site-packages/torch/nn/modules/module.py:1518\u001b[0m, in \u001b[0;36mModule._wrapped_call_impl\u001b[0;34m(self, *args, **kwargs)\u001b[0m\n\u001b[1;32m   1516\u001b[0m     \u001b[38;5;28;01mreturn\u001b[39;00m \u001b[38;5;28mself\u001b[39m\u001b[38;5;241m.\u001b[39m_compiled_call_impl(\u001b[38;5;241m*\u001b[39margs, \u001b[38;5;241m*\u001b[39m\u001b[38;5;241m*\u001b[39mkwargs)  \u001b[38;5;66;03m# type: ignore[misc]\u001b[39;00m\n\u001b[1;32m   1517\u001b[0m \u001b[38;5;28;01melse\u001b[39;00m:\n\u001b[0;32m-> 1518\u001b[0m     \u001b[38;5;28;01mreturn\u001b[39;00m \u001b[38;5;28;43mself\u001b[39;49m\u001b[38;5;241;43m.\u001b[39;49m\u001b[43m_call_impl\u001b[49m\u001b[43m(\u001b[49m\u001b[38;5;241;43m*\u001b[39;49m\u001b[43margs\u001b[49m\u001b[43m,\u001b[49m\u001b[43m \u001b[49m\u001b[38;5;241;43m*\u001b[39;49m\u001b[38;5;241;43m*\u001b[39;49m\u001b[43mkwargs\u001b[49m\u001b[43m)\u001b[49m\n",
      "File \u001b[0;32m/opt/conda/lib/python3.10/site-packages/torch/nn/modules/module.py:1527\u001b[0m, in \u001b[0;36mModule._call_impl\u001b[0;34m(self, *args, **kwargs)\u001b[0m\n\u001b[1;32m   1522\u001b[0m \u001b[38;5;66;03m# If we don't have any hooks, we want to skip the rest of the logic in\u001b[39;00m\n\u001b[1;32m   1523\u001b[0m \u001b[38;5;66;03m# this function, and just call forward.\u001b[39;00m\n\u001b[1;32m   1524\u001b[0m \u001b[38;5;28;01mif\u001b[39;00m \u001b[38;5;129;01mnot\u001b[39;00m (\u001b[38;5;28mself\u001b[39m\u001b[38;5;241m.\u001b[39m_backward_hooks \u001b[38;5;129;01mor\u001b[39;00m \u001b[38;5;28mself\u001b[39m\u001b[38;5;241m.\u001b[39m_backward_pre_hooks \u001b[38;5;129;01mor\u001b[39;00m \u001b[38;5;28mself\u001b[39m\u001b[38;5;241m.\u001b[39m_forward_hooks \u001b[38;5;129;01mor\u001b[39;00m \u001b[38;5;28mself\u001b[39m\u001b[38;5;241m.\u001b[39m_forward_pre_hooks\n\u001b[1;32m   1525\u001b[0m         \u001b[38;5;129;01mor\u001b[39;00m _global_backward_pre_hooks \u001b[38;5;129;01mor\u001b[39;00m _global_backward_hooks\n\u001b[1;32m   1526\u001b[0m         \u001b[38;5;129;01mor\u001b[39;00m _global_forward_hooks \u001b[38;5;129;01mor\u001b[39;00m _global_forward_pre_hooks):\n\u001b[0;32m-> 1527\u001b[0m     \u001b[38;5;28;01mreturn\u001b[39;00m \u001b[43mforward_call\u001b[49m\u001b[43m(\u001b[49m\u001b[38;5;241;43m*\u001b[39;49m\u001b[43margs\u001b[49m\u001b[43m,\u001b[49m\u001b[43m \u001b[49m\u001b[38;5;241;43m*\u001b[39;49m\u001b[38;5;241;43m*\u001b[39;49m\u001b[43mkwargs\u001b[49m\u001b[43m)\u001b[49m\n\u001b[1;32m   1529\u001b[0m \u001b[38;5;28;01mtry\u001b[39;00m:\n\u001b[1;32m   1530\u001b[0m     result \u001b[38;5;241m=\u001b[39m \u001b[38;5;28;01mNone\u001b[39;00m\n",
      "File \u001b[0;32m/code/ebany_research/llm_lora/changed_mistral.py:885\u001b[0m, in \u001b[0;36mMistralDecoderLayer.forward\u001b[0;34m(self, hidden_states, attention_mask, position_ids, past_key_value, output_attentions, use_cache, **kwargs)\u001b[0m\n\u001b[1;32m    882\u001b[0m hidden_states \u001b[38;5;241m=\u001b[39m \u001b[38;5;28mself\u001b[39m\u001b[38;5;241m.\u001b[39minput_layernorm(hidden_states)\n\u001b[1;32m    884\u001b[0m \u001b[38;5;66;03m# Self Attention\u001b[39;00m\n\u001b[0;32m--> 885\u001b[0m hidden_states, self_attn_weights, present_key_value \u001b[38;5;241m=\u001b[39m \u001b[38;5;28;43mself\u001b[39;49m\u001b[38;5;241;43m.\u001b[39;49m\u001b[43mself_attn\u001b[49m\u001b[43m(\u001b[49m\n\u001b[1;32m    886\u001b[0m \u001b[43m    \u001b[49m\u001b[43mhidden_states\u001b[49m\u001b[38;5;241;43m=\u001b[39;49m\u001b[43mhidden_states\u001b[49m\u001b[43m,\u001b[49m\n\u001b[1;32m    887\u001b[0m \u001b[43m    \u001b[49m\u001b[43mattention_mask\u001b[49m\u001b[38;5;241;43m=\u001b[39;49m\u001b[43mattention_mask\u001b[49m\u001b[43m,\u001b[49m\n\u001b[1;32m    888\u001b[0m \u001b[43m    \u001b[49m\u001b[43mposition_ids\u001b[49m\u001b[38;5;241;43m=\u001b[39;49m\u001b[43mposition_ids\u001b[49m\u001b[43m,\u001b[49m\n\u001b[1;32m    889\u001b[0m \u001b[43m    \u001b[49m\u001b[43mpast_key_value\u001b[49m\u001b[38;5;241;43m=\u001b[39;49m\u001b[43mpast_key_value\u001b[49m\u001b[43m,\u001b[49m\n\u001b[1;32m    890\u001b[0m \u001b[43m    \u001b[49m\u001b[43moutput_attentions\u001b[49m\u001b[38;5;241;43m=\u001b[39;49m\u001b[43moutput_attentions\u001b[49m\u001b[43m,\u001b[49m\n\u001b[1;32m    891\u001b[0m \u001b[43m    \u001b[49m\u001b[43muse_cache\u001b[49m\u001b[38;5;241;43m=\u001b[39;49m\u001b[43muse_cache\u001b[49m\u001b[43m,\u001b[49m\n\u001b[1;32m    892\u001b[0m \u001b[43m\u001b[49m\u001b[43m)\u001b[49m\n\u001b[1;32m    893\u001b[0m hidden_states \u001b[38;5;241m=\u001b[39m residual \u001b[38;5;241m+\u001b[39m hidden_states\n\u001b[1;32m    895\u001b[0m \u001b[38;5;66;03m# Fully Connected\u001b[39;00m\n",
      "File \u001b[0;32m/opt/conda/lib/python3.10/site-packages/torch/nn/modules/module.py:1518\u001b[0m, in \u001b[0;36mModule._wrapped_call_impl\u001b[0;34m(self, *args, **kwargs)\u001b[0m\n\u001b[1;32m   1516\u001b[0m     \u001b[38;5;28;01mreturn\u001b[39;00m \u001b[38;5;28mself\u001b[39m\u001b[38;5;241m.\u001b[39m_compiled_call_impl(\u001b[38;5;241m*\u001b[39margs, \u001b[38;5;241m*\u001b[39m\u001b[38;5;241m*\u001b[39mkwargs)  \u001b[38;5;66;03m# type: ignore[misc]\u001b[39;00m\n\u001b[1;32m   1517\u001b[0m \u001b[38;5;28;01melse\u001b[39;00m:\n\u001b[0;32m-> 1518\u001b[0m     \u001b[38;5;28;01mreturn\u001b[39;00m \u001b[38;5;28;43mself\u001b[39;49m\u001b[38;5;241;43m.\u001b[39;49m\u001b[43m_call_impl\u001b[49m\u001b[43m(\u001b[49m\u001b[38;5;241;43m*\u001b[39;49m\u001b[43margs\u001b[49m\u001b[43m,\u001b[49m\u001b[43m \u001b[49m\u001b[38;5;241;43m*\u001b[39;49m\u001b[38;5;241;43m*\u001b[39;49m\u001b[43mkwargs\u001b[49m\u001b[43m)\u001b[49m\n",
      "File \u001b[0;32m/opt/conda/lib/python3.10/site-packages/torch/nn/modules/module.py:1527\u001b[0m, in \u001b[0;36mModule._call_impl\u001b[0;34m(self, *args, **kwargs)\u001b[0m\n\u001b[1;32m   1522\u001b[0m \u001b[38;5;66;03m# If we don't have any hooks, we want to skip the rest of the logic in\u001b[39;00m\n\u001b[1;32m   1523\u001b[0m \u001b[38;5;66;03m# this function, and just call forward.\u001b[39;00m\n\u001b[1;32m   1524\u001b[0m \u001b[38;5;28;01mif\u001b[39;00m \u001b[38;5;129;01mnot\u001b[39;00m (\u001b[38;5;28mself\u001b[39m\u001b[38;5;241m.\u001b[39m_backward_hooks \u001b[38;5;129;01mor\u001b[39;00m \u001b[38;5;28mself\u001b[39m\u001b[38;5;241m.\u001b[39m_backward_pre_hooks \u001b[38;5;129;01mor\u001b[39;00m \u001b[38;5;28mself\u001b[39m\u001b[38;5;241m.\u001b[39m_forward_hooks \u001b[38;5;129;01mor\u001b[39;00m \u001b[38;5;28mself\u001b[39m\u001b[38;5;241m.\u001b[39m_forward_pre_hooks\n\u001b[1;32m   1525\u001b[0m         \u001b[38;5;129;01mor\u001b[39;00m _global_backward_pre_hooks \u001b[38;5;129;01mor\u001b[39;00m _global_backward_hooks\n\u001b[1;32m   1526\u001b[0m         \u001b[38;5;129;01mor\u001b[39;00m _global_forward_hooks \u001b[38;5;129;01mor\u001b[39;00m _global_forward_pre_hooks):\n\u001b[0;32m-> 1527\u001b[0m     \u001b[38;5;28;01mreturn\u001b[39;00m \u001b[43mforward_call\u001b[49m\u001b[43m(\u001b[49m\u001b[38;5;241;43m*\u001b[39;49m\u001b[43margs\u001b[49m\u001b[43m,\u001b[49m\u001b[43m \u001b[49m\u001b[38;5;241;43m*\u001b[39;49m\u001b[38;5;241;43m*\u001b[39;49m\u001b[43mkwargs\u001b[49m\u001b[43m)\u001b[49m\n\u001b[1;32m   1529\u001b[0m \u001b[38;5;28;01mtry\u001b[39;00m:\n\u001b[1;32m   1530\u001b[0m     result \u001b[38;5;241m=\u001b[39m \u001b[38;5;28;01mNone\u001b[39;00m\n",
      "File \u001b[0;32m/code/ebany_research/llm_lora/changed_mistral.py:372\u001b[0m, in \u001b[0;36mMistralAttention.forward\u001b[0;34m(self, hidden_states, attention_mask, position_ids, past_key_value, output_attentions, use_cache, **kwargs)\u001b[0m\n\u001b[1;32m    369\u001b[0m     attn_weights \u001b[38;5;241m=\u001b[39m attn_weights \u001b[38;5;241m+\u001b[39m attention_mask\n\u001b[1;32m    371\u001b[0m \u001b[38;5;66;03m# upcast attention to fp32\u001b[39;00m\n\u001b[0;32m--> 372\u001b[0m attn_weights \u001b[38;5;241m=\u001b[39m \u001b[43mnn\u001b[49m\u001b[38;5;241;43m.\u001b[39;49m\u001b[43mfunctional\u001b[49m\u001b[38;5;241;43m.\u001b[39;49m\u001b[43msoftmax\u001b[49m\u001b[43m(\u001b[49m\n\u001b[1;32m    373\u001b[0m \u001b[43m    \u001b[49m\u001b[43mattn_weights\u001b[49m\u001b[43m,\u001b[49m\u001b[43m \u001b[49m\u001b[43mdim\u001b[49m\u001b[38;5;241;43m=\u001b[39;49m\u001b[38;5;241;43m-\u001b[39;49m\u001b[38;5;241;43m1\u001b[39;49m\u001b[43m,\u001b[49m\u001b[43m \u001b[49m\u001b[43mdtype\u001b[49m\u001b[38;5;241;43m=\u001b[39;49m\u001b[43mtorch\u001b[49m\u001b[38;5;241;43m.\u001b[39;49m\u001b[43mfloat32\u001b[49m\n\u001b[1;32m    374\u001b[0m \u001b[43m\u001b[49m\u001b[43m)\u001b[49m\u001b[38;5;241m.\u001b[39mto(query_states\u001b[38;5;241m.\u001b[39mdtype)\n\u001b[1;32m    375\u001b[0m attn_weights \u001b[38;5;241m=\u001b[39m nn\u001b[38;5;241m.\u001b[39mfunctional\u001b[38;5;241m.\u001b[39mdropout(\n\u001b[1;32m    376\u001b[0m     attn_weights, p\u001b[38;5;241m=\u001b[39m\u001b[38;5;28mself\u001b[39m\u001b[38;5;241m.\u001b[39mattention_dropout, training\u001b[38;5;241m=\u001b[39m\u001b[38;5;28mself\u001b[39m\u001b[38;5;241m.\u001b[39mtraining\n\u001b[1;32m    377\u001b[0m )\n\u001b[1;32m    378\u001b[0m attn_output \u001b[38;5;241m=\u001b[39m torch\u001b[38;5;241m.\u001b[39mmatmul(attn_weights, value_states)\n",
      "File \u001b[0;32m/opt/conda/lib/python3.10/site-packages/torch/nn/functional.py:1858\u001b[0m, in \u001b[0;36msoftmax\u001b[0;34m(input, dim, _stacklevel, dtype)\u001b[0m\n\u001b[1;32m   1856\u001b[0m     ret \u001b[38;5;241m=\u001b[39m \u001b[38;5;28minput\u001b[39m\u001b[38;5;241m.\u001b[39msoftmax(dim)\n\u001b[1;32m   1857\u001b[0m \u001b[38;5;28;01melse\u001b[39;00m:\n\u001b[0;32m-> 1858\u001b[0m     ret \u001b[38;5;241m=\u001b[39m \u001b[38;5;28;43minput\u001b[39;49m\u001b[38;5;241;43m.\u001b[39;49m\u001b[43msoftmax\u001b[49m\u001b[43m(\u001b[49m\u001b[43mdim\u001b[49m\u001b[43m,\u001b[49m\u001b[43m \u001b[49m\u001b[43mdtype\u001b[49m\u001b[38;5;241;43m=\u001b[39;49m\u001b[43mdtype\u001b[49m\u001b[43m)\u001b[49m\n\u001b[1;32m   1859\u001b[0m \u001b[38;5;28;01mreturn\u001b[39;00m ret\n",
      "\u001b[0;31mOutOfMemoryError\u001b[0m: CUDA out of memory. Tried to allocate 2.38 GiB. GPU 2 has a total capacty of 39.39 GiB of which 1.93 GiB is free. Process 2465559 has 37.45 GiB memory in use. Of the allocated memory 36.33 GiB is allocated by PyTorch, and 598.68 MiB is reserved by PyTorch but unallocated. If reserved but unallocated memory is large try setting max_split_size_mb to avoid fragmentation.  See documentation for Memory Management and PYTORCH_CUDA_ALLOC_CONF"
     ]
    }
   ],
   "source": [
    "import tqdm\n",
    "\n",
    "\n",
    "def train_model(model):\n",
    "    for param in model.named_parameters():\n",
    "        if \"L\" in param[0] or \"R\" in param[0]:\n",
    "            print(param[0])\n",
    "            param[1].requires_grad_(True)\n",
    "        else:\n",
    "            param[1].requires_grad_(False)\n",
    "\n",
    "    total_train_loss = 0\n",
    "    # model.train()\n",
    "    optimizer = torch.optim.Adam(model.parameters(), lr=0.000001)\n",
    "    accum_iter = 4\n",
    "    with torch.autocast(device_type=\"cuda\"):\n",
    "        for batch_id, train_batch in tqdm.tqdm(enumerate(train_dataloader)):\n",
    "            # print(eval_batch)\n",
    "\n",
    "            for key in train_batch.keys():\n",
    "                train_batch[key] = train_batch[key].to(model.device)\n",
    "\n",
    "            loss = model(\n",
    "                **train_batch,\n",
    "            )\n",
    "            loss = loss.loss / accum_iter\n",
    "            # loss = loss.loss\n",
    "\n",
    "            loss.backward()\n",
    "            total_train_loss += loss.item()\n",
    "\n",
    "            if (batch_id + 1) % accum_iter or (batch_id + 1 == len(train_dataloader)):\n",
    "                # print(loss.item())\n",
    "                optimizer.step()\n",
    "                optimizer.zero_grad()\n",
    "                break\n",
    "            # if (batch_id + 1) % accum_iter or (batch_id + 1 == len(train_dataloader)):\n",
    "            # optimizer.step()\n",
    "            # optimizer.zero_grad()\n",
    "        # break\n",
    "    total_train_loss = total_train_loss / len(train_dataloader)\n",
    "    return total_train_loss\n",
    "\n",
    "\n",
    "train_model(model=student_model)"
   ]
  },
  {
   "cell_type": "code",
   "execution_count": 12,
   "metadata": {},
   "outputs": [
    {
     "name": "stderr",
     "output_type": "stream",
     "text": [
      "100%|██████████| 50/50 [00:04<00:00, 10.10it/s]"
     ]
    },
    {
     "name": "stdout",
     "output_type": "stream",
     "text": [
      "2.466512999534607\n",
      "tensor(11.7813)\n"
     ]
    },
    {
     "name": "stderr",
     "output_type": "stream",
     "text": [
      "\n"
     ]
    }
   ],
   "source": [
    "student_model = student_model.eval()\n",
    "\n",
    "student_loss = eval_model(student_model)\n",
    "print(student_loss)\n",
    "print(torch.exp(torch.tensor(student_loss)))"
   ]
  }
 ],
 "metadata": {
  "kernelspec": {
   "display_name": "base",
   "language": "python",
   "name": "python3"
  },
  "language_info": {
   "codemirror_mode": {
    "name": "ipython",
    "version": 3
   },
   "file_extension": ".py",
   "mimetype": "text/x-python",
   "name": "python",
   "nbconvert_exporter": "python",
   "pygments_lexer": "ipython3",
   "version": "3.10.13"
  }
 },
 "nbformat": 4,
 "nbformat_minor": 2
}
