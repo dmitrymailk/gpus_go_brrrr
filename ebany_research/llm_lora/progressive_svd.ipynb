{
 "cells": [
  {
   "cell_type": "code",
   "execution_count": 1,
   "metadata": {},
   "outputs": [
    {
     "name": "stderr",
     "output_type": "stream",
     "text": [
      "/opt/conda/lib/python3.10/site-packages/tqdm/auto.py:21: TqdmWarning: IProgress not found. Please update jupyter and ipywidgets. See https://ipywidgets.readthedocs.io/en/stable/user_install.html\n",
      "  from .autonotebook import tqdm as notebook_tqdm\n",
      "Loading checkpoint shards:   0%|          | 0/2 [00:00<?, ?it/s]/opt/conda/lib/python3.10/site-packages/torch/_utils.py:831: UserWarning: TypedStorage is deprecated. It will be removed in the future and UntypedStorage will be the only storage class. This should only matter to you if you are using storages directly.  To access UntypedStorage directly, use tensor.untyped_storage() instead of tensor.storage()\n",
      "  return self.fget.__get__(instance, owner)()\n",
      "Loading checkpoint shards: 100%|██████████| 2/2 [00:36<00:00, 18.03s/it]\n"
     ]
    },
    {
     "name": "stdout",
     "output_type": "stream",
     "text": [
      "7241748480\n"
     ]
    },
    {
     "name": "stderr",
     "output_type": "stream",
     "text": [
      "Special tokens have been added in the vocabulary, make sure the associated word embeddings are fine-tuned or trained.\n",
      "Special tokens have been added in the vocabulary, make sure the associated word embeddings are fine-tuned or trained.\n",
      "/home/user-name-goes-here/.local/lib/python3.10/site-packages/datasets/table.py:1421: FutureWarning: promote has been superseded by promote_options='default'.\n",
      "  table = cls._concat_blocks(blocks, axis=0)\n"
     ]
    }
   ],
   "source": [
    "# import os\n",
    "# os.environ['CUDA_VISIBLE_DEVICES'] = '3'\n",
    "\n",
    "from transformers import AutoTokenizer, AutoConfig, MistralForCausalLM\n",
    "from ebany_research.llm_lora.changed_mistral import ChangedMistralForCausalLM\n",
    "from datasets import load_dataset\n",
    "import torch\n",
    "\n",
    "\n",
    "def count_parameters(model):\n",
    "    return sum(p.numel() for p in model.parameters() if p.requires_grad)\n",
    "\n",
    "\n",
    "model_name = \"Open-Orca/Mistral-7B-OpenOrca\"\n",
    "# model_name = \"ebany_research/llm_lora/train_results\"\n",
    "config = AutoConfig.from_pretrained(model_name)\n",
    "device = 3\n",
    "model = MistralForCausalLM.from_pretrained(model_name, device_map={\"\": device})\n",
    "model = model.eval()\n",
    "# 29410MiB\n",
    "model = model.half()\n",
    "print(count_parameters(model))\n",
    "# model = MistralForCausalLM.from_pretrained(\n",
    "#     model_name,\n",
    "# )\n",
    "# model = MistralForCausalLM._from_config(config=config)\n",
    "\n",
    "tokenizer = AutoTokenizer.from_pretrained(model_name, padding_side=\"left\")\n",
    "tokenizer.pad_token = tokenizer.eos_token\n",
    "tokenizer.pad_token_id = tokenizer.eos_token_id\n",
    "dataset = load_dataset(\"openaccess-ai-collective/oo-gpt4-filtered\")\n",
    "dataset = dataset[\"train\"].to_list()"
   ]
  },
  {
   "cell_type": "code",
   "execution_count": 7,
   "metadata": {},
   "outputs": [
    {
     "data": {
      "text/plain": [
       "MistralConfig {\n",
       "  \"_name_or_path\": \"Open-Orca/Mistral-7B-OpenOrca\",\n",
       "  \"architectures\": [\n",
       "    \"MistralForCausalLM\"\n",
       "  ],\n",
       "  \"attention_dropout\": 0.0,\n",
       "  \"bos_token_id\": 1,\n",
       "  \"eos_token_id\": 32000,\n",
       "  \"hidden_act\": \"silu\",\n",
       "  \"hidden_size\": 4096,\n",
       "  \"initializer_range\": 0.02,\n",
       "  \"intermediate_size\": 14336,\n",
       "  \"lora_layers\": [\n",
       "    1,\n",
       "    2,\n",
       "    3,\n",
       "    4\n",
       "  ],\n",
       "  \"max_position_embeddings\": 32768,\n",
       "  \"model_type\": \"mistral\",\n",
       "  \"num_attention_heads\": 32,\n",
       "  \"num_hidden_layers\": 32,\n",
       "  \"num_key_value_heads\": 8,\n",
       "  \"rms_norm_eps\": 1e-05,\n",
       "  \"rope_theta\": 10000.0,\n",
       "  \"sliding_window\": 4096,\n",
       "  \"tie_word_embeddings\": false,\n",
       "  \"torch_dtype\": \"bfloat16\",\n",
       "  \"transformers_version\": \"4.37.1\",\n",
       "  \"use_cache\": true,\n",
       "  \"vocab_size\": 32002\n",
       "}"
      ]
     },
     "execution_count": 7,
     "metadata": {},
     "output_type": "execute_result"
    }
   ],
   "source": [
    "from transformers import AutoTokenizer, AutoConfig\n",
    "\n",
    "config = AutoConfig.from_pretrained(\"Open-Orca/Mistral-7B-OpenOrca\")\n",
    "config.lora_layers = [1, 2, 3, 4]\n",
    "config"
   ]
  },
  {
   "cell_type": "code",
   "execution_count": 7,
   "metadata": {},
   "outputs": [
    {
     "data": {
      "text/plain": [
       "dict_keys(['id', 'system_prompt', 'question', 'response', '__index_level_0__'])"
      ]
     },
     "execution_count": 7,
     "metadata": {},
     "output_type": "execute_result"
    }
   ],
   "source": [
    "dataset[0].keys()"
   ]
  },
  {
   "cell_type": "code",
   "execution_count": 2,
   "metadata": {},
   "outputs": [
    {
     "data": {
      "text/plain": [
       "{'input_ids': tensor([[    1, 32001,  1587,    13,  1976,   460,   396, 16107, 13892, 28723,\n",
       "           995,   622,   347,  2078,   264,  3638, 28723,   995,  1580,  8270,\n",
       "           264, 10537,   304,  1043,  4372, 28723, 32000, 32001,  2188,    13,\n",
       "            13,    13, 28798,   556,   276,  1987, 11285, 28742, 28713,  3487,\n",
       "         20415,   298,  1912,   706,   684,   272,  6400,   354,   272,  8982,\n",
       "          4150, 28723, 28705, 12628,   272,  2996,   345, 11273,   400,  1987,\n",
       "           767,   863, 14151,   927,   298,   511, 28804,   548,   349,   345,\n",
       "         10847,   264,  4150, 28739,   264,  3716,  4372, 28804,    13,  2820,\n",
       "         16981, 28747, 32000, 32001, 13892,    13,  2501, 28725,   345, 10847,\n",
       "           264,  4150, 28739,   349,   459,   264,  3716,  4372,   298,   272,\n",
       "          2996,   345, 11273,   400,  1987,   767,   863, 14151,   927,   298,\n",
       "           511,  1110, 28723,   415,  2996, 21165,   356,   767, 14151,  3236,\n",
       "           298,   511,  1159,  2492,   272,  4126,  1034,   298, 11285, 28742,\n",
       "         28713,  3487, 20415, 28725,  3210,   821,   272,  4695,  1759,   302,\n",
       "          2170,  3864,   304, 15832,   272,  8982,  4150,  3837, 28723,   330,\n",
       "           680,  7658,  4372,   682, 17516,   272,  9796,   304,  1917,   697,\n",
       "         14151,   553,   298, 16353,   621,  4681,   298,  3754,   288, 11285,\n",
       "         28742, 28713,  3487, 20415,   684,   272,  8982,  4150,  6400, 28723,\n",
       "            13,    13, 11600,  2572,  3716, 11194,   298,   272,  2996,   829,\n",
       "          3024, 28747,    13,    13, 28740, 28723,  9116,   272,  8982,  4150,\n",
       "         28747,  7337,  6852, 11285, 28742, 28713,  3487, 20415, 28725, 14151,\n",
       "           682,   927,   298,   506,   264, 12230,  3028,   302,   767,   272,\n",
       "          8982,  4150,   682,   936,   614, 28723,   851,   829, 17516, 24568,\n",
       "           356,   264,  3608, 28725,   727, 28725,   304,  4723, 28725,   390,\n",
       "          1162,   390, 23689,   272, 11683,  1274, 28723,    13,    13, 28750,\n",
       "         28723, 23184,  4296,   395,  2663, 28747, 14151,  1659,   506,  3236,\n",
       "           298,  7731,   395,  2848,  3282,   304,  2005,  3338,   298,  1316,\n",
       "           395,  4150,  7394, 28725, 20083,   369,   272,  8982,  4150,   682,\n",
       "          8753,   395,  3376, 28742, 28713, 22245,  2464,   304, 22731, 28723,\n",
       "            13,    13, 28770, 28723,  5158, 21824,  4150,  4162, 28747,  7337,\n",
       "          6852, 11285, 28742, 28713,  3487, 20415, 28725, 14151,   682,   927,\n",
       "           298,  1917,  4118, 10936,   302,   272,  4150, 28725,  1259,   390,\n",
       "           272,  7335, 28725,  8059,   697, 28725,  2887,   304, 16195, 28725,\n",
       "          6290,   442, 15175, 28725,   304,   707,  8326, 14841, 28723,    13,\n",
       "            13, 28781, 28723,  8648,   442, 10221,  1304, 25964, 28747,  1791,\n",
       "         25491, 19411, 11285, 28742, 28713,  3487, 20415, 28725, 14151,   993,\n",
       "           506,  3236,   298,  2231,  5277,   442,  7153,  1304, 25964,   369,\n",
       "          4658,   544,  8598,  4162,   684,   272,  8982,  4150, 28723,    13,\n",
       "            13, 28782, 28723,  8702,   653,   264,  2796,  2838, 28747,   560,\n",
       "          1745,   298,  9087,   272,  2442,   302,  8982, 28725, 14151,   682,\n",
       "           927,   298,  1847,   864,   264,  2623,   442,  2796,  2838,   369,\n",
       "           682, 18951, 11285,   298,  8986,   272,  1951,  1671, 24593,   871,\n",
       "          1132,  6032, 28723,    13,    13,  2675,   455, 28725,   272,  2996,\n",
       "         21165,   356,   272,  7892,  5377,  5944,  3030,   354, 14151,   298,\n",
       "         10130,  1034, 11285, 28742, 28713,  3487, 20415,   304,  5227,   706,\n",
       "           684,   272,  8982,  4150,  6400, 28723,  8469, 28725,   345, 10847,\n",
       "           264,  4150, 28739,  1235,   459, 24329,  2962,   272,  6768, 14151,\n",
       "          3236,   298,  1388,  1159,  2492,   272,  4126,  1034, 28723, 32000,\n",
       "         32001, 13892,    13],\n",
       "        [32000, 32000, 32000, 32000, 32000, 32000, 32000, 32000, 32000, 32000,\n",
       "         32000, 32000, 32000, 32000, 32000, 32000, 32000, 32000, 32000, 32000,\n",
       "         32000, 32000, 32000, 32000, 32000, 32000, 32000, 32000, 32000, 32000,\n",
       "         32000, 32000, 32000, 32000, 32000, 32000, 32000, 32000, 32000, 32000,\n",
       "         32000, 32000, 32000, 32000, 32000, 32000, 32000, 32000, 32000, 32000,\n",
       "         32000, 32000, 32000, 32000, 32000, 32000, 32000, 32000, 32000, 32000,\n",
       "         32000, 32000, 32000, 32000, 32000, 32000, 32000, 32000, 32000, 32000,\n",
       "         32000, 32000, 32000, 32000, 32000, 32000, 32000, 32000, 32000, 32000,\n",
       "         32000, 32000, 32000, 32000, 32000, 32000, 32000, 32000, 32000, 32000,\n",
       "         32000, 32000, 32000, 32000, 32000, 32000, 32000, 32000, 32000, 32000,\n",
       "         32000, 32000, 32000, 32000, 32000, 32000, 32000, 32000, 32000, 32000,\n",
       "         32000, 32000, 32000, 32000, 32000, 32000, 32000, 32000, 32000, 32000,\n",
       "         32000, 32000, 32000, 32000, 32000, 32000, 32000, 32000, 32000, 32000,\n",
       "         32000, 32000, 32000, 32000, 32000, 32000, 32000, 32000, 32000, 32000,\n",
       "         32000, 32000, 32000, 32000, 32000, 32000, 32000, 32000, 32000, 32000,\n",
       "         32000, 32000, 32000, 32000, 32000, 32000, 32000, 32000, 32000, 32000,\n",
       "         32000, 32000, 32000, 32000, 32000, 32000, 32000, 32000, 32000, 32000,\n",
       "         32000, 32000, 32000, 32000, 32000, 32000, 32000, 32000, 32000, 32000,\n",
       "         32000, 32000, 32000, 32000, 32000, 32000, 32000, 32000, 32000, 32000,\n",
       "         32000, 32000, 32000, 32000, 32000, 32000, 32000, 32000, 32000, 32000,\n",
       "         32000, 32000, 32000, 32000, 32000, 32000, 32000, 32000, 32000, 32000,\n",
       "         32000, 32000, 32000, 32000, 32000, 32000, 32000, 32000, 32000, 32000,\n",
       "         32000,     1, 32001,  1587,    13,  1976,   460,   396, 16107, 13892,\n",
       "         28723,  1247,   622,   368,  2111,   368,   264,  3638, 28723,  3604,\n",
       "          5541,   349,   298,  4160,   272,  3638,   390,  7152,  3071,   390,\n",
       "           368,   541, 28723,  4023, 13801,   272,  3638,  1073,  3707, 28733,\n",
       "          1403, 28733,  7691,   304, 16205,   574,  5944, 28723, 32000, 32001,\n",
       "          2188,    13,  5238,   264, 12271,   297, 10177, 28723, 32000, 32001,\n",
       "         13892,    13,  9977, 28705, 28740, 28747, 21815,   264,  3817,   354,\n",
       "           272, 12271, 28723,    13, 28737,   622,  4987,   345,  5773,   660,\n",
       "           311, 28739,   325,  1237,  3914, 28731,   390,   272,  3817, 28723,\n",
       "            13,    13,  9977, 28705, 28750, 28747, 13341,   264, 12143,   304,\n",
       "           264, 28445, 28723,    13, 28737,   622,   938,   272, 12143,   345,\n",
       "          4754, 17749, 28739,   325,   532,  1482, 28731,   297,   272,  2169,\n",
       "         28445, 28723,    13,    13,  9977, 28705, 28770, 28747,  1325, 28768,\n",
       "           786,   380,   272, 12143, 28723,    13, 24091,   345,  5773,   660,\n",
       "           311, 28739,   349,   264, 15816, 28725,  4008, 28733,  9701,  3817,\n",
       "         28725,   315,   622, 11365,   786,   380,   345,  4754, 17749, 28739,\n",
       "           297,   272,  2169, 28445,   390,   345,  4754,   267,   611,    13,\n",
       "            13,  9977, 28705, 28781, 28747,  4849,   272, 12271, 28723,    13,\n",
       "          8479, 28725,   486, 27698,   272,  3817,   304,   272, 11365,   786,\n",
       "           601, 12143, 28725,   272, 12271,   297, 10177,   349, 28747,   345,\n",
       "          5773,   660,   311,  7952,   611,    13,    13, 10202,  2500, 28747,\n",
       "           851, 12271,   349,  3588, 28725,   847,  6461,  6789,  4714, 28725,\n",
       "           304,  6695,  1002,   272,  4979, 11365,   786,   352,   302,   272,\n",
       "         12143,   345,  4754, 17749, 28739,   297,   272,  2169, 28445,   354,\n",
       "           272,  3817,   345,  5773,   660,   311,   611,   661,  7254,  1002,\n",
       "           298,   345,  1014,  3914,  7825, 28739,   297,  4300, 28723, 32000,\n",
       "         32001, 13892,    13]]), 'attention_mask': tensor([[1, 1, 1, 1, 1, 1, 1, 1, 1, 1, 1, 1, 1, 1, 1, 1, 1, 1, 1, 1, 1, 1, 1, 1,\n",
       "         1, 1, 1, 1, 1, 1, 1, 1, 1, 1, 1, 1, 1, 1, 1, 1, 1, 1, 1, 1, 1, 1, 1, 1,\n",
       "         1, 1, 1, 1, 1, 1, 1, 1, 1, 1, 1, 1, 1, 1, 1, 1, 1, 1, 1, 1, 1, 1, 1, 1,\n",
       "         1, 1, 1, 1, 1, 1, 1, 1, 1, 1, 1, 1, 1, 1, 1, 1, 1, 1, 1, 1, 1, 1, 1, 1,\n",
       "         1, 1, 1, 1, 1, 1, 1, 1, 1, 1, 1, 1, 1, 1, 1, 1, 1, 1, 1, 1, 1, 1, 1, 1,\n",
       "         1, 1, 1, 1, 1, 1, 1, 1, 1, 1, 1, 1, 1, 1, 1, 1, 1, 1, 1, 1, 1, 1, 1, 1,\n",
       "         1, 1, 1, 1, 1, 1, 1, 1, 1, 1, 1, 1, 1, 1, 1, 1, 1, 1, 1, 1, 1, 1, 1, 1,\n",
       "         1, 1, 1, 1, 1, 1, 1, 1, 1, 1, 1, 1, 1, 1, 1, 1, 1, 1, 1, 1, 1, 1, 1, 1,\n",
       "         1, 1, 1, 1, 1, 1, 1, 1, 1, 1, 1, 1, 1, 1, 1, 1, 1, 1, 1, 1, 1, 1, 1, 1,\n",
       "         1, 1, 1, 1, 1, 1, 1, 1, 1, 1, 1, 1, 1, 1, 1, 1, 1, 1, 1, 1, 1, 1, 1, 1,\n",
       "         1, 1, 1, 1, 1, 1, 1, 1, 1, 1, 1, 1, 1, 1, 1, 1, 1, 1, 1, 1, 1, 1, 1, 1,\n",
       "         1, 1, 1, 1, 1, 1, 1, 1, 1, 1, 1, 1, 1, 1, 1, 1, 1, 1, 1, 1, 1, 1, 1, 1,\n",
       "         1, 1, 1, 1, 1, 1, 1, 1, 1, 1, 1, 1, 1, 1, 1, 1, 1, 1, 1, 1, 1, 1, 1, 1,\n",
       "         1, 1, 1, 1, 1, 1, 1, 1, 1, 1, 1, 1, 1, 1, 1, 1, 1, 1, 1, 1, 1, 1, 1, 1,\n",
       "         1, 1, 1, 1, 1, 1, 1, 1, 1, 1, 1, 1, 1, 1, 1, 1, 1, 1, 1, 1, 1, 1, 1, 1,\n",
       "         1, 1, 1, 1, 1, 1, 1, 1, 1, 1, 1, 1, 1, 1, 1, 1, 1, 1, 1, 1, 1, 1, 1, 1,\n",
       "         1, 1, 1, 1, 1, 1, 1, 1, 1, 1, 1, 1, 1, 1, 1, 1, 1, 1, 1, 1, 1, 1, 1, 1,\n",
       "         1, 1, 1, 1, 1, 1, 1, 1, 1, 1, 1, 1, 1, 1, 1, 1, 1, 1, 1, 1, 1, 1, 1, 1,\n",
       "         1, 1, 1, 1, 1, 1, 1, 1, 1, 1, 1, 1, 1, 1, 1, 1, 1, 1, 1, 1, 1, 1, 1, 1,\n",
       "         1, 1, 1, 1, 1, 1, 1, 1, 1, 1, 1, 1, 1, 1, 1, 1, 1, 1, 1, 1, 1, 1, 1, 1,\n",
       "         1, 1, 1],\n",
       "        [0, 0, 0, 0, 0, 0, 0, 0, 0, 0, 0, 0, 0, 0, 0, 0, 0, 0, 0, 0, 0, 0, 0, 0,\n",
       "         0, 0, 0, 0, 0, 0, 0, 0, 0, 0, 0, 0, 0, 0, 0, 0, 0, 0, 0, 0, 0, 0, 0, 0,\n",
       "         0, 0, 0, 0, 0, 0, 0, 0, 0, 0, 0, 0, 0, 0, 0, 0, 0, 0, 0, 0, 0, 0, 0, 0,\n",
       "         0, 0, 0, 0, 0, 0, 0, 0, 0, 0, 0, 0, 0, 0, 0, 0, 0, 0, 0, 0, 0, 0, 0, 0,\n",
       "         0, 0, 0, 0, 0, 0, 0, 0, 0, 0, 0, 0, 0, 0, 0, 0, 0, 0, 0, 0, 0, 0, 0, 0,\n",
       "         0, 0, 0, 0, 0, 0, 0, 0, 0, 0, 0, 0, 0, 0, 0, 0, 0, 0, 0, 0, 0, 0, 0, 0,\n",
       "         0, 0, 0, 0, 0, 0, 0, 0, 0, 0, 0, 0, 0, 0, 0, 0, 0, 0, 0, 0, 0, 0, 0, 0,\n",
       "         0, 0, 0, 0, 0, 0, 0, 0, 0, 0, 0, 0, 0, 0, 0, 0, 0, 0, 0, 0, 0, 0, 0, 0,\n",
       "         0, 0, 0, 0, 0, 0, 0, 0, 0, 0, 0, 0, 0, 0, 0, 0, 0, 0, 0, 0, 0, 0, 0, 0,\n",
       "         0, 0, 0, 0, 0, 1, 1, 1, 1, 1, 1, 1, 1, 1, 1, 1, 1, 1, 1, 1, 1, 1, 1, 1,\n",
       "         1, 1, 1, 1, 1, 1, 1, 1, 1, 1, 1, 1, 1, 1, 1, 1, 1, 1, 1, 1, 1, 1, 1, 1,\n",
       "         1, 1, 1, 1, 1, 1, 1, 1, 1, 1, 1, 1, 1, 1, 1, 1, 1, 1, 1, 1, 1, 1, 1, 1,\n",
       "         1, 1, 1, 1, 1, 1, 1, 1, 1, 1, 1, 1, 1, 1, 1, 1, 1, 1, 1, 1, 1, 1, 1, 1,\n",
       "         1, 1, 1, 1, 1, 1, 1, 1, 1, 1, 1, 1, 1, 1, 1, 1, 1, 1, 1, 1, 1, 1, 1, 1,\n",
       "         1, 1, 1, 1, 1, 1, 1, 1, 1, 1, 1, 1, 1, 1, 1, 1, 1, 1, 1, 1, 1, 1, 1, 1,\n",
       "         1, 1, 1, 1, 1, 1, 1, 1, 1, 1, 1, 1, 1, 1, 1, 1, 1, 1, 1, 1, 1, 1, 1, 1,\n",
       "         1, 1, 1, 1, 1, 1, 1, 1, 1, 1, 1, 1, 1, 1, 1, 1, 1, 1, 1, 1, 1, 1, 1, 1,\n",
       "         1, 1, 1, 1, 1, 1, 1, 1, 1, 1, 1, 1, 1, 1, 1, 1, 1, 1, 1, 1, 1, 1, 1, 1,\n",
       "         1, 1, 1, 1, 1, 1, 1, 1, 1, 1, 1, 1, 1, 1, 1, 1, 1, 1, 1, 1, 1, 1, 1, 1,\n",
       "         1, 1, 1, 1, 1, 1, 1, 1, 1, 1, 1, 1, 1, 1, 1, 1, 1, 1, 1, 1, 1, 1, 1, 1,\n",
       "         1, 1, 1]]), 'labels': tensor([[    1, 32001,  1587,    13,  1976,   460,   396, 16107, 13892, 28723,\n",
       "           995,   622,   347,  2078,   264,  3638, 28723,   995,  1580,  8270,\n",
       "           264, 10537,   304,  1043,  4372, 28723,  -100, 32001,  2188,    13,\n",
       "            13,    13, 28798,   556,   276,  1987, 11285, 28742, 28713,  3487,\n",
       "         20415,   298,  1912,   706,   684,   272,  6400,   354,   272,  8982,\n",
       "          4150, 28723, 28705, 12628,   272,  2996,   345, 11273,   400,  1987,\n",
       "           767,   863, 14151,   927,   298,   511, 28804,   548,   349,   345,\n",
       "         10847,   264,  4150, 28739,   264,  3716,  4372, 28804,    13,  2820,\n",
       "         16981, 28747,  -100, 32001, 13892,    13,  2501, 28725,   345, 10847,\n",
       "           264,  4150, 28739,   349,   459,   264,  3716,  4372,   298,   272,\n",
       "          2996,   345, 11273,   400,  1987,   767,   863, 14151,   927,   298,\n",
       "           511,  1110, 28723,   415,  2996, 21165,   356,   767, 14151,  3236,\n",
       "           298,   511,  1159,  2492,   272,  4126,  1034,   298, 11285, 28742,\n",
       "         28713,  3487, 20415, 28725,  3210,   821,   272,  4695,  1759,   302,\n",
       "          2170,  3864,   304, 15832,   272,  8982,  4150,  3837, 28723,   330,\n",
       "           680,  7658,  4372,   682, 17516,   272,  9796,   304,  1917,   697,\n",
       "         14151,   553,   298, 16353,   621,  4681,   298,  3754,   288, 11285,\n",
       "         28742, 28713,  3487, 20415,   684,   272,  8982,  4150,  6400, 28723,\n",
       "            13,    13, 11600,  2572,  3716, 11194,   298,   272,  2996,   829,\n",
       "          3024, 28747,    13,    13, 28740, 28723,  9116,   272,  8982,  4150,\n",
       "         28747,  7337,  6852, 11285, 28742, 28713,  3487, 20415, 28725, 14151,\n",
       "           682,   927,   298,   506,   264, 12230,  3028,   302,   767,   272,\n",
       "          8982,  4150,   682,   936,   614, 28723,   851,   829, 17516, 24568,\n",
       "           356,   264,  3608, 28725,   727, 28725,   304,  4723, 28725,   390,\n",
       "          1162,   390, 23689,   272, 11683,  1274, 28723,    13,    13, 28750,\n",
       "         28723, 23184,  4296,   395,  2663, 28747, 14151,  1659,   506,  3236,\n",
       "           298,  7731,   395,  2848,  3282,   304,  2005,  3338,   298,  1316,\n",
       "           395,  4150,  7394, 28725, 20083,   369,   272,  8982,  4150,   682,\n",
       "          8753,   395,  3376, 28742, 28713, 22245,  2464,   304, 22731, 28723,\n",
       "            13,    13, 28770, 28723,  5158, 21824,  4150,  4162, 28747,  7337,\n",
       "          6852, 11285, 28742, 28713,  3487, 20415, 28725, 14151,   682,   927,\n",
       "           298,  1917,  4118, 10936,   302,   272,  4150, 28725,  1259,   390,\n",
       "           272,  7335, 28725,  8059,   697, 28725,  2887,   304, 16195, 28725,\n",
       "          6290,   442, 15175, 28725,   304,   707,  8326, 14841, 28723,    13,\n",
       "            13, 28781, 28723,  8648,   442, 10221,  1304, 25964, 28747,  1791,\n",
       "         25491, 19411, 11285, 28742, 28713,  3487, 20415, 28725, 14151,   993,\n",
       "           506,  3236,   298,  2231,  5277,   442,  7153,  1304, 25964,   369,\n",
       "          4658,   544,  8598,  4162,   684,   272,  8982,  4150, 28723,    13,\n",
       "            13, 28782, 28723,  8702,   653,   264,  2796,  2838, 28747,   560,\n",
       "          1745,   298,  9087,   272,  2442,   302,  8982, 28725, 14151,   682,\n",
       "           927,   298,  1847,   864,   264,  2623,   442,  2796,  2838,   369,\n",
       "           682, 18951, 11285,   298,  8986,   272,  1951,  1671, 24593,   871,\n",
       "          1132,  6032, 28723,    13,    13,  2675,   455, 28725,   272,  2996,\n",
       "         21165,   356,   272,  7892,  5377,  5944,  3030,   354, 14151,   298,\n",
       "         10130,  1034, 11285, 28742, 28713,  3487, 20415,   304,  5227,   706,\n",
       "           684,   272,  8982,  4150,  6400, 28723,  8469, 28725,   345, 10847,\n",
       "           264,  4150, 28739,  1235,   459, 24329,  2962,   272,  6768, 14151,\n",
       "          3236,   298,  1388,  1159,  2492,   272,  4126,  1034, 28723,  -100,\n",
       "         32001, 13892,    13],\n",
       "        [ -100,  -100,  -100,  -100,  -100,  -100,  -100,  -100,  -100,  -100,\n",
       "          -100,  -100,  -100,  -100,  -100,  -100,  -100,  -100,  -100,  -100,\n",
       "          -100,  -100,  -100,  -100,  -100,  -100,  -100,  -100,  -100,  -100,\n",
       "          -100,  -100,  -100,  -100,  -100,  -100,  -100,  -100,  -100,  -100,\n",
       "          -100,  -100,  -100,  -100,  -100,  -100,  -100,  -100,  -100,  -100,\n",
       "          -100,  -100,  -100,  -100,  -100,  -100,  -100,  -100,  -100,  -100,\n",
       "          -100,  -100,  -100,  -100,  -100,  -100,  -100,  -100,  -100,  -100,\n",
       "          -100,  -100,  -100,  -100,  -100,  -100,  -100,  -100,  -100,  -100,\n",
       "          -100,  -100,  -100,  -100,  -100,  -100,  -100,  -100,  -100,  -100,\n",
       "          -100,  -100,  -100,  -100,  -100,  -100,  -100,  -100,  -100,  -100,\n",
       "          -100,  -100,  -100,  -100,  -100,  -100,  -100,  -100,  -100,  -100,\n",
       "          -100,  -100,  -100,  -100,  -100,  -100,  -100,  -100,  -100,  -100,\n",
       "          -100,  -100,  -100,  -100,  -100,  -100,  -100,  -100,  -100,  -100,\n",
       "          -100,  -100,  -100,  -100,  -100,  -100,  -100,  -100,  -100,  -100,\n",
       "          -100,  -100,  -100,  -100,  -100,  -100,  -100,  -100,  -100,  -100,\n",
       "          -100,  -100,  -100,  -100,  -100,  -100,  -100,  -100,  -100,  -100,\n",
       "          -100,  -100,  -100,  -100,  -100,  -100,  -100,  -100,  -100,  -100,\n",
       "          -100,  -100,  -100,  -100,  -100,  -100,  -100,  -100,  -100,  -100,\n",
       "          -100,  -100,  -100,  -100,  -100,  -100,  -100,  -100,  -100,  -100,\n",
       "          -100,  -100,  -100,  -100,  -100,  -100,  -100,  -100,  -100,  -100,\n",
       "          -100,  -100,  -100,  -100,  -100,  -100,  -100,  -100,  -100,  -100,\n",
       "          -100,  -100,  -100,  -100,  -100,  -100,  -100,  -100,  -100,  -100,\n",
       "          -100,     1, 32001,  1587,    13,  1976,   460,   396, 16107, 13892,\n",
       "         28723,  1247,   622,   368,  2111,   368,   264,  3638, 28723,  3604,\n",
       "          5541,   349,   298,  4160,   272,  3638,   390,  7152,  3071,   390,\n",
       "           368,   541, 28723,  4023, 13801,   272,  3638,  1073,  3707, 28733,\n",
       "          1403, 28733,  7691,   304, 16205,   574,  5944, 28723,  -100, 32001,\n",
       "          2188,    13,  5238,   264, 12271,   297, 10177, 28723,  -100, 32001,\n",
       "         13892,    13,  9977, 28705, 28740, 28747, 21815,   264,  3817,   354,\n",
       "           272, 12271, 28723,    13, 28737,   622,  4987,   345,  5773,   660,\n",
       "           311, 28739,   325,  1237,  3914, 28731,   390,   272,  3817, 28723,\n",
       "            13,    13,  9977, 28705, 28750, 28747, 13341,   264, 12143,   304,\n",
       "           264, 28445, 28723,    13, 28737,   622,   938,   272, 12143,   345,\n",
       "          4754, 17749, 28739,   325,   532,  1482, 28731,   297,   272,  2169,\n",
       "         28445, 28723,    13,    13,  9977, 28705, 28770, 28747,  1325, 28768,\n",
       "           786,   380,   272, 12143, 28723,    13, 24091,   345,  5773,   660,\n",
       "           311, 28739,   349,   264, 15816, 28725,  4008, 28733,  9701,  3817,\n",
       "         28725,   315,   622, 11365,   786,   380,   345,  4754, 17749, 28739,\n",
       "           297,   272,  2169, 28445,   390,   345,  4754,   267,   611,    13,\n",
       "            13,  9977, 28705, 28781, 28747,  4849,   272, 12271, 28723,    13,\n",
       "          8479, 28725,   486, 27698,   272,  3817,   304,   272, 11365,   786,\n",
       "           601, 12143, 28725,   272, 12271,   297, 10177,   349, 28747,   345,\n",
       "          5773,   660,   311,  7952,   611,    13,    13, 10202,  2500, 28747,\n",
       "           851, 12271,   349,  3588, 28725,   847,  6461,  6789,  4714, 28725,\n",
       "           304,  6695,  1002,   272,  4979, 11365,   786,   352,   302,   272,\n",
       "         12143,   345,  4754, 17749, 28739,   297,   272,  2169, 28445,   354,\n",
       "           272,  3817,   345,  5773,   660,   311,   611,   661,  7254,  1002,\n",
       "           298,   345,  1014,  3914,  7825, 28739,   297,  4300, 28723,  -100,\n",
       "         32001, 13892,    13]])}"
      ]
     },
     "execution_count": 2,
     "metadata": {},
     "output_type": "execute_result"
    }
   ],
   "source": [
    "from torch.utils.data import Dataset, DataLoader\n",
    "from transformers import DataCollatorWithPadding, DataCollatorForLanguageModeling\n",
    "\n",
    "\n",
    "class OpenOrcaDataset(Dataset):\n",
    "    def __init__(\n",
    "        self,\n",
    "        dataset=None,\n",
    "        tokenizer=None,\n",
    "    ):\n",
    "        self.dataset = dataset\n",
    "        self.tokenizer = tokenizer\n",
    "\n",
    "    def __len__(self):\n",
    "        return len(self.dataset)\n",
    "\n",
    "    def __getitem__(self, idx):\n",
    "        dataset_item = self.dataset[idx]\n",
    "        chat = [\n",
    "            {\"role\": \"system\", \"content\": dataset_item[\"system_prompt\"]},\n",
    "            {\"role\": \"user\", \"content\": dataset_item[\"question\"]},\n",
    "            {\"role\": \"assistant\", \"content\": dataset_item[\"response\"]},\n",
    "        ]\n",
    "        inputs = self.tokenizer.apply_chat_template(\n",
    "            chat,\n",
    "            tokenize=False,\n",
    "            add_generation_prompt=True,\n",
    "        )\n",
    "        inputs = self.tokenizer(\n",
    "            inputs,\n",
    "            return_tensors=\"pt\",\n",
    "        )\n",
    "        for key in inputs.keys():\n",
    "            inputs[key] = inputs[key].squeeze(0)\n",
    "        # print(inputs['input_ids'].shape)\n",
    "        return inputs\n",
    "\n",
    "\n",
    "train_elements = 1000\n",
    "valid_elements = 100\n",
    "\n",
    "train_dataset = OpenOrcaDataset(\n",
    "    dataset=dataset[:train_elements],\n",
    "    tokenizer=tokenizer,\n",
    ")\n",
    "\n",
    "valid_dataset = OpenOrcaDataset(\n",
    "    dataset=dataset[train_elements : train_elements + valid_elements],\n",
    "    tokenizer=tokenizer,\n",
    ")\n",
    "\n",
    "pad_datacollator = DataCollatorForLanguageModeling(\n",
    "    tokenizer=tokenizer,\n",
    "    # padding=True,\n",
    "    mlm=False,\n",
    ")\n",
    "\n",
    "train_dataloader = DataLoader(\n",
    "    dataset=train_dataset,\n",
    "    batch_size=2,\n",
    "    collate_fn=pad_datacollator,\n",
    ")\n",
    "valid_dataloader = DataLoader(\n",
    "    dataset=valid_dataset,\n",
    "    batch_size=2,\n",
    "    collate_fn=pad_datacollator,\n",
    ")\n",
    "\n",
    "next(iter(train_dataloader))\n",
    "next(iter(valid_dataloader))\n",
    "# train_dataset[0]"
   ]
  },
  {
   "cell_type": "markdown",
   "metadata": {},
   "source": [
    "### student model"
   ]
  },
  {
   "cell_type": "code",
   "execution_count": 2,
   "metadata": {},
   "outputs": [
    {
     "name": "stderr",
     "output_type": "stream",
     "text": [
      "Loading checkpoint shards: 100%|██████████| 2/2 [00:13<00:00,  6.94s/it]\n"
     ]
    }
   ],
   "source": [
    "device = 0\n",
    "student_model = MistralForCausalLM.from_pretrained(model_name, device_map={\"\": device})\n",
    "student_model = student_model.eval()\n",
    "student_model = student_model.half()"
   ]
  },
  {
   "cell_type": "code",
   "execution_count": 3,
   "metadata": {},
   "outputs": [],
   "source": [
    "distill_layer = 17\n",
    "student_mlp = student_model.model.layers[distill_layer].mlp\n",
    "\n",
    "student_gate_proj = student_mlp.gate_proj.weight.data\n",
    "student_up_proj = student_mlp.up_proj.weight.data\n",
    "student_down_proj = student_mlp.down_proj.weight.data"
   ]
  },
  {
   "cell_type": "code",
   "execution_count": 6,
   "metadata": {},
   "outputs": [
    {
     "data": {
      "text/plain": [
       "4096"
      ]
     },
     "execution_count": 6,
     "metadata": {},
     "output_type": "execute_result"
    }
   ],
   "source": [
    "import numpy as np\n",
    "\n",
    "# np.linalg.matrix_rank(student_gate_proj.to(torch.float32).cpu().numpy())\n",
    "# np.linalg.matrix_rank(student_up_proj.to(torch.float32).cpu().numpy())\n",
    "np.linalg.matrix_rank(student_down_proj.to(torch.float32).cpu().numpy())"
   ]
  },
  {
   "cell_type": "code",
   "execution_count": 9,
   "metadata": {},
   "outputs": [
    {
     "data": {
      "text/plain": [
       "4096"
      ]
     },
     "execution_count": 9,
     "metadata": {},
     "output_type": "execute_result"
    }
   ],
   "source": [
    "64 * 64"
   ]
  },
  {
   "cell_type": "code",
   "execution_count": null,
   "metadata": {},
   "outputs": [],
   "source": [
    "student_gate_proj.shape,"
   ]
  },
  {
   "cell_type": "code",
   "execution_count": 10,
   "metadata": {},
   "outputs": [],
   "source": [
    "from scipy.sparse.linalg import svds\n",
    "\n",
    "student_gate_proj_num = student_gate_proj.to(torch.float32).cpu().numpy()\n",
    "us, ss, vTs = svds(student_gate_proj_num, k=512)"
   ]
  },
  {
   "cell_type": "code",
   "execution_count": 11,
   "metadata": {},
   "outputs": [
    {
     "data": {
      "text/plain": [
       "((14336, 512), (512,), (512, 4096))"
      ]
     },
     "execution_count": 11,
     "metadata": {},
     "output_type": "execute_result"
    }
   ],
   "source": [
    "us.shape, ss.shape, vTs.shape"
   ]
  },
  {
   "cell_type": "code",
   "execution_count": 12,
   "metadata": {},
   "outputs": [
    {
     "data": {
      "image/png": "[encoded data removed]",
      "text/plain": [
       "<Figure size 640x480 with 1 Axes>"
      ]
     },
     "metadata": {},
     "output_type": "display_data"
    },
    {
     "data": {
      "image/png": "[encoded data removed]",
      "text/plain": [
       "<Figure size 640x480 with 1 Axes>"
      ]
     },
     "metadata": {},
     "output_type": "display_data"
    }
   ],
   "source": [
    "import matplotlib.pyplot as plt\n",
    "import numpy as np\n",
    "\n",
    "U, S, Vh = torch.linalg.svd(\n",
    "    student_gate_proj.to(torch.float32),\n",
    "    # student_up_proj.to(torch.float32),\n",
    "    # student_down_proj.to(torch.float32),\n",
    "    # student_model.model.embed_tokens.weight.data.to(torch.float32),\n",
    "    full_matrices=False,\n",
    ")\n",
    "\n",
    "\n",
    "area = 4\n",
    "\n",
    "plt.scatter(\n",
    "    torch.arange(0, S.shape[0]).numpy(),\n",
    "    S.cpu().numpy(),\n",
    "    s=area,\n",
    "    alpha=0.5,\n",
    ")\n",
    "plt.show()\n",
    "\n",
    "threshold = 128\n",
    "plt.scatter(\n",
    "    torch.arange(0, threshold).numpy(),\n",
    "    S[:threshold].cpu().numpy(),\n",
    "    s=area,\n",
    "    alpha=0.5,\n",
    ")\n",
    "plt.show()"
   ]
  },
  {
   "cell_type": "code",
   "execution_count": 13,
   "metadata": {},
   "outputs": [
    {
     "data": {
      "text/plain": [
       "(torch.Size([14336, 4096]), torch.Size([4096]), torch.Size([4096, 4096]))"
      ]
     },
     "execution_count": 13,
     "metadata": {},
     "output_type": "execute_result"
    }
   ],
   "source": [
    "U.shape, S.shape, Vh.shape"
   ]
  },
  {
   "cell_type": "code",
   "execution_count": 15,
   "metadata": {},
   "outputs": [
    {
     "data": {
      "image/png": "[encoded data removed]",
      "text/plain": [
       "<Figure size 640x480 with 1 Axes>"
      ]
     },
     "metadata": {},
     "output_type": "display_data"
    }
   ],
   "source": [
    "plt.scatter(\n",
    "    torch.arange(0, ss.shape[0]).numpy(),\n",
    "    ss.T,\n",
    "    s=area,\n",
    "    alpha=0.5,\n",
    ")\n",
    "plt.show()"
   ]
  },
  {
   "cell_type": "markdown",
   "metadata": {},
   "source": [
    "в целом можно заметить что самые основные значения лежат на первых 8-16"
   ]
  },
  {
   "cell_type": "code",
   "execution_count": 68,
   "metadata": {},
   "outputs": [
    {
     "data": {
      "text/plain": [
       "torch.Size([32002, 4096])"
      ]
     },
     "execution_count": 68,
     "metadata": {},
     "output_type": "execute_result"
    }
   ],
   "source": [
    "student_model.model.embed_tokens.weight.data.shape"
   ]
  },
  {
   "cell_type": "code",
   "execution_count": 69,
   "metadata": {},
   "outputs": [
    {
     "data": {
      "text/plain": [
       "131080192"
      ]
     },
     "execution_count": 69,
     "metadata": {},
     "output_type": "execute_result"
    }
   ],
   "source": [
    "32002 * 4096"
   ]
  },
  {
   "cell_type": "markdown",
   "metadata": {},
   "source": [
    "### Replace to lora"
   ]
  },
  {
   "cell_type": "code",
   "execution_count": 6,
   "metadata": {},
   "outputs": [
    {
     "data": {
      "text/plain": [
       "torch.Size([14336, 4096])"
      ]
     },
     "execution_count": 6,
     "metadata": {},
     "output_type": "execute_result"
    }
   ],
   "source": [
    "(U @ torch.diag(S) @ Vh).shape"
   ]
  },
  {
   "cell_type": "code",
   "execution_count": 6,
   "metadata": {},
   "outputs": [
    {
     "name": "stdout",
     "output_type": "stream",
     "text": [
      "torch.Size([4096, 64]) torch.Size([64, 14336])\n"
     ]
    }
   ],
   "source": [
    "# from ebany_research.llm_lora.changed_neox import LinearLora\n",
    "def get_L_R(weights=None, rank=64):\n",
    "    U, S, Vh = torch.linalg.svd(\n",
    "        weights.to(torch.float32),\n",
    "        full_matrices=False,\n",
    "    )\n",
    "\n",
    "    U = U[:, :rank]\n",
    "    S = torch.diag(S[:rank])\n",
    "    Vh = Vh[:rank, :]\n",
    "\n",
    "    L = U @ S\n",
    "    R = Vh\n",
    "    return L, R\n",
    "\n",
    "\n",
    "L, R = get_L_R(student_down_proj)\n",
    "print(L.shape, R.shape)\n",
    "\n",
    "\n",
    "class LinearLora(torch.nn.Module):\n",
    "    def __init__(self, in_dim=768, out_dim=768, r=16, bias=False):\n",
    "        super().__init__()\n",
    "        self.L = torch.nn.Linear(in_dim, r, bias=bias)\n",
    "        self.R = torch.nn.Linear(r, out_dim, bias=bias)\n",
    "\n",
    "    def forward(self, hidden_states):\n",
    "        hidden_states = self.R(hidden_states)\n",
    "        hidden_states = self.L(hidden_states)\n",
    "        return hidden_states\n",
    "\n",
    "\n",
    "def assign_new_weights(original_module, original_weights):\n",
    "    L, R = get_L_R(original_weights, rank=16)\n",
    "    original_module.L.weight.data = L\n",
    "    original_module.R.weight.data = R\n",
    "\n",
    "\n",
    "lora_gate_proj = LinearLora(\n",
    "    in_dim=config.hidden_size,\n",
    "    out_dim=config.intermediate_size,\n",
    "    bias=False,\n",
    ")\n",
    "lora_up_proj = LinearLora(\n",
    "    in_dim=config.hidden_size,\n",
    "    out_dim=config.intermediate_size,\n",
    "    bias=False,\n",
    ")\n",
    "lora_down_proj = LinearLora(\n",
    "    in_dim=config.intermediate_size,\n",
    "    out_dim=config.hidden_size,\n",
    "    bias=False,\n",
    ")\n",
    "\n",
    "assign_new_weights(\n",
    "    original_module=lora_gate_proj,\n",
    "    original_weights=student_gate_proj,\n",
    ")\n",
    "assign_new_weights(\n",
    "    original_module=lora_up_proj,\n",
    "    original_weights=student_up_proj,\n",
    ")\n",
    "assign_new_weights(\n",
    "    original_module=lora_down_proj,\n",
    "    original_weights=student_down_proj,\n",
    ")\n",
    "\n",
    "student_mlp.gate_proj = lora_gate_proj\n",
    "student_mlp.up_proj = lora_up_proj\n",
    "student_mlp.down_proj = lora_down_proj"
   ]
  },
  {
   "cell_type": "code",
   "execution_count": 7,
   "metadata": {},
   "outputs": [
    {
     "name": "stdout",
     "output_type": "stream",
     "text": [
      "7241748480\n",
      "7066472448\n"
     ]
    }
   ],
   "source": [
    "def count_parameters(model):\n",
    "    return sum(p.numel() for p in model.parameters() if p.requires_grad)\n",
    "\n",
    "\n",
    "print(count_parameters(model))\n",
    "print(count_parameters(student_model))"
   ]
  },
  {
   "cell_type": "markdown",
   "metadata": {},
   "source": [
    "### eval original model"
   ]
  },
  {
   "cell_type": "code",
   "execution_count": 7,
   "metadata": {},
   "outputs": [
    {
     "name": "stderr",
     "output_type": "stream",
     "text": [
      "100%|██████████| 50/50 [00:09<00:00,  5.49it/s]"
     ]
    },
    {
     "name": "stdout",
     "output_type": "stream",
     "text": [
      "2.3748738026618956\n",
      "tensor(10.7497)\n"
     ]
    },
    {
     "name": "stderr",
     "output_type": "stream",
     "text": [
      "\n"
     ]
    }
   ],
   "source": [
    "import tqdm\n",
    "\n",
    "\n",
    "def eval_model(model):\n",
    "    total_eval_loss = 0\n",
    "    with torch.no_grad():\n",
    "        with torch.autocast(device_type=\"cuda\"):\n",
    "            for eval_batch in tqdm.tqdm(valid_dataloader):\n",
    "                # print(eval_batch)\n",
    "\n",
    "                for key in eval_batch.keys():\n",
    "                    eval_batch[key] = eval_batch[key].to(model.device)\n",
    "\n",
    "                loss = model(\n",
    "                    **eval_batch,\n",
    "                )\n",
    "                total_eval_loss += loss.loss.item()\n",
    "    # break\n",
    "    total_eval_loss = total_eval_loss / len(valid_dataloader)\n",
    "    return total_eval_loss\n",
    "\n",
    "\n",
    "teacher_loss = eval_model(model)\n",
    "print(teacher_loss)\n",
    "print(torch.exp(torch.tensor(teacher_loss)))"
   ]
  },
  {
   "cell_type": "code",
   "execution_count": 8,
   "metadata": {},
   "outputs": [
    {
     "name": "stderr",
     "output_type": "stream",
     "text": [
      "100%|██████████| 50/50 [00:08<00:00,  5.75it/s]"
     ]
    },
    {
     "name": "stdout",
     "output_type": "stream",
     "text": [
      "2.3757719230651855\n",
      "tensor(10.7593)\n"
     ]
    },
    {
     "name": "stderr",
     "output_type": "stream",
     "text": [
      "\n"
     ]
    }
   ],
   "source": [
    "student_model = student_model.eval()\n",
    "\n",
    "student_loss = eval_model(student_model)\n",
    "print(student_loss)\n",
    "print(torch.exp(torch.tensor(student_loss)))"
   ]
  },
  {
   "cell_type": "code",
   "execution_count": null,
   "metadata": {},
   "outputs": [],
   "source": []
  },
  {
   "cell_type": "code",
   "execution_count": 9,
   "metadata": {},
   "outputs": [],
   "source": [
    "import gc\n",
    "\n",
    "# model = model.cpu()\n",
    "gc.collect()\n",
    "torch.cuda.empty_cache()"
   ]
  },
  {
   "cell_type": "markdown",
   "metadata": {},
   "source": [
    "### callibrate lora"
   ]
  },
  {
   "cell_type": "code",
   "execution_count": null,
   "metadata": {},
   "outputs": [],
   "source": [
    "import tqdm\n",
    "\n",
    "\n",
    "def train_model(model):\n",
    "    for param in model.named_parameters():\n",
    "        if \"L\" in param[0] or \"R\" in param[0]:\n",
    "            print(param[0])\n",
    "            param[1].requires_grad_(True)\n",
    "        else:\n",
    "            param[1].requires_grad_(False)\n",
    "\n",
    "    total_train_loss = 0\n",
    "    # model.train()\n",
    "    optimizer = torch.optim.Adam(model.parameters(), lr=0.000001)\n",
    "    accum_iter = 4\n",
    "    with torch.autocast(device_type=\"cuda\"):\n",
    "        for batch_id, train_batch in tqdm.tqdm(enumerate(train_dataloader)):\n",
    "            # print(eval_batch)\n",
    "\n",
    "            for key in train_batch.keys():\n",
    "                train_batch[key] = train_batch[key].to(model.device)\n",
    "\n",
    "            loss = model(\n",
    "                **train_batch,\n",
    "            )\n",
    "            loss = loss.loss / accum_iter\n",
    "            # loss = loss.loss\n",
    "\n",
    "            loss.backward()\n",
    "            total_train_loss += loss.item()\n",
    "\n",
    "            if (batch_id + 1) % accum_iter or (batch_id + 1 == len(train_dataloader)):\n",
    "                # print(loss.item())\n",
    "                optimizer.step()\n",
    "                optimizer.zero_grad()\n",
    "                break\n",
    "            # if (batch_id + 1) % accum_iter or (batch_id + 1 == len(train_dataloader)):\n",
    "            # optimizer.step()\n",
    "            # optimizer.zero_grad()\n",
    "        # break\n",
    "    total_train_loss = total_train_loss / len(train_dataloader)\n",
    "    return total_train_loss\n",
    "\n",
    "\n",
    "train_model(model=student_model)"
   ]
  },
  {
   "cell_type": "code",
   "execution_count": 12,
   "metadata": {},
   "outputs": [
    {
     "name": "stderr",
     "output_type": "stream",
     "text": [
      "100%|██████████| 50/50 [00:04<00:00, 10.10it/s]"
     ]
    },
    {
     "name": "stdout",
     "output_type": "stream",
     "text": [
      "2.466512999534607\n",
      "tensor(11.7813)\n"
     ]
    },
    {
     "name": "stderr",
     "output_type": "stream",
     "text": [
      "\n"
     ]
    }
   ],
   "source": [
    "student_model = student_model.eval()\n",
    "\n",
    "student_loss = eval_model(student_model)\n",
    "print(student_loss)\n",
    "print(torch.exp(torch.tensor(student_loss)))"
   ]
  },
  {
   "cell_type": "markdown",
   "metadata": {},
   "source": [
    "### split dataset"
   ]
  },
  {
   "cell_type": "code",
   "execution_count": 8,
   "metadata": {},
   "outputs": [
    {
     "name": "stderr",
     "output_type": "stream",
     "text": [
      "/home/user-name-goes-here/.local/lib/python3.10/site-packages/datasets/table.py:1421: FutureWarning: promote has been superseded by promote_options='default'.\n",
      "  table = cls._concat_blocks(blocks, axis=0)\n"
     ]
    }
   ],
   "source": [
    "from datasets import load_dataset\n",
    "\n",
    "dataset = load_dataset(\"openaccess-ai-collective/oo-gpt4-filtered\")\n",
    "dataset = dataset[\"train\"]"
   ]
  },
  {
   "cell_type": "code",
   "execution_count": 11,
   "metadata": {},
   "outputs": [],
   "source": [
    "dataset = dataset.train_test_split(test_size=100_000, seed=42)"
   ]
  },
  {
   "cell_type": "code",
   "execution_count": 13,
   "metadata": {},
   "outputs": [
    {
     "data": {
      "text/plain": [
       "DatasetDict({\n",
       "    train: Dataset({\n",
       "        features: ['id', 'system_prompt', 'question', 'response', '__index_level_0__'],\n",
       "        num_rows: 719045\n",
       "    })\n",
       "    test: Dataset({\n",
       "        features: ['id', 'system_prompt', 'question', 'response', '__index_level_0__'],\n",
       "        num_rows: 100000\n",
       "    })\n",
       "})"
      ]
     },
     "execution_count": 13,
     "metadata": {},
     "output_type": "execute_result"
    }
   ],
   "source": [
    "dataset"
   ]
  },
  {
   "cell_type": "code",
   "execution_count": 12,
   "metadata": {},
   "outputs": [
    {
     "name": "stderr",
     "output_type": "stream",
     "text": [
      "Creating parquet from Arrow format: 100%|██████████| 240/240 [00:11<00:00, 21.81ba/s]\n",
      "Creating parquet from Arrow format: 100%|██████████| 240/240 [00:10<00:00, 22.63ba/s]it]\n",
      "Creating parquet from Arrow format: 100%|██████████| 240/240 [00:10<00:00, 22.58ba/s]it]\n",
      "Pushing dataset shards to the dataset hub: 100%|██████████| 3/3 [02:38<00:00, 52.99s/it]\n",
      "Creating parquet from Arrow format: 100%|██████████| 100/100 [00:04<00:00, 22.10ba/s]\n",
      "Pushing dataset shards to the dataset hub: 100%|██████████| 1/1 [00:22<00:00, 22.06s/it]\n"
     ]
    }
   ],
   "source": [
    "dataset.push_to_hub(\"dim/openaccess-ai-collective-oo-gpt4-filtered\")"
   ]
  },
  {
   "cell_type": "code",
   "execution_count": 1,
   "metadata": {},
   "outputs": [
    {
     "data": {
      "text/plain": [
       "tensor(1.7683)"
      ]
     },
     "execution_count": 1,
     "metadata": {},
     "output_type": "execute_result"
    }
   ],
   "source": [
    "import torch\n",
    "\n",
    "torch.exp(torch.tensor(0.57))\n",
    "# 0.54 - ideal"
   ]
  },
  {
   "cell_type": "code",
   "execution_count": 34,
   "metadata": {},
   "outputs": [
    {
     "data": {
      "text/plain": [
       "'17_22_45'"
      ]
     },
     "execution_count": 34,
     "metadata": {},
     "output_type": "execute_result"
    }
   ],
   "source": [
    "name = \"ebany_research/llm_lora/models/openorca_lora_[17][17c_22_45c]\"\n",
    "name = name.split(\"[\")[-1][:-1]\n",
    "name = name.split(\"_\")\n",
    "name = [int(item.replace(\"c\", \"\")) for item in name]\n",
    "name = sorted(name)\n",
    "name = [str(item) for item in name]\n",
    "name = \"_\".join(name)\n",
    "name"
   ]
  },
  {
   "cell_type": "code",
   "execution_count": 42,
   "metadata": {},
   "outputs": [
    {
     "data": {
      "text/plain": [
       "'26'"
      ]
     },
     "execution_count": 42,
     "metadata": {},
     "output_type": "execute_result"
    }
   ],
   "source": [
    "\"model.layers.26.mlp.down_proj.L.weight\".split(\".\")[2]"
   ]
  },
  {
   "cell_type": "code",
   "execution_count": 56,
   "metadata": {},
   "outputs": [
    {
     "data": {
      "text/plain": [
       "7241748480"
      ]
     },
     "execution_count": 56,
     "metadata": {},
     "output_type": "execute_result"
    }
   ],
   "source": [
    "4096 * 14336 * 32 * 3 + 1604603904"
   ]
  },
  {
   "cell_type": "code",
   "execution_count": 57,
   "metadata": {},
   "outputs": [
    {
     "data": {
      "text/plain": [
       "3416543232"
      ]
     },
     "execution_count": 57,
     "metadata": {},
     "output_type": "execute_result"
    }
   ],
   "source": [
    "r = 1024\n",
    "(4096 * r + r * 14336) * 32 * 3 + 1604603904"
   ]
  },
  {
   "cell_type": "code",
   "execution_count": null,
   "metadata": {},
   "outputs": [],
   "source": [
    "from scipy.sparse.linalg import svds"
   ]
  },
  {
   "cell_type": "markdown",
   "metadata": {},
   "source": [
    "### Use Kronecker product"
   ]
  },
  {
   "cell_type": "code",
   "execution_count": 2,
   "metadata": {},
   "outputs": [
    {
     "data": {
      "text/plain": [
       "tensor([[1., 2., 0., 0.],\n",
       "        [3., 4., 0., 0.],\n",
       "        [0., 0., 1., 2.],\n",
       "        [0., 0., 3., 4.]])"
      ]
     },
     "execution_count": 2,
     "metadata": {},
     "output_type": "execute_result"
    }
   ],
   "source": [
    "import torch\n",
    "\n",
    "mat1 = torch.eye(2)\n",
    "mat2 = torch.ones(2, 2)\n",
    "torch.kron(mat1, mat2)\n",
    "\n",
    "mat1 = torch.eye(2)\n",
    "mat2 = torch.arange(1, 5).reshape(2, 2)\n",
    "torch.kron(mat1, mat2)"
   ]
  },
  {
   "cell_type": "code",
   "execution_count": 18,
   "metadata": {},
   "outputs": [
    {
     "ename": "RuntimeError",
     "evalue": "shape '[2, 200]' is invalid for input of size 100",
     "output_type": "error",
     "traceback": [
      "\u001b[0;31m---------------------------------------------------------------------------\u001b[0m",
      "\u001b[0;31mRuntimeError\u001b[0m                              Traceback (most recent call last)",
      "Cell \u001b[0;32mIn[18], line 22\u001b[0m\n\u001b[1;32m     13\u001b[0m \u001b[38;5;66;03m# B = (U[:, :1] * S[0])\u001b[39;00m\n\u001b[1;32m     14\u001b[0m \u001b[38;5;66;03m# B = toeplitz(B.numpy())\u001b[39;00m\n\u001b[1;32m     15\u001b[0m \u001b[38;5;66;03m# C = (Vh[:1, :] * S[0])\u001b[39;00m\n\u001b[0;32m   (...)\u001b[0m\n\u001b[1;32m     19\u001b[0m \n\u001b[1;32m     20\u001b[0m \u001b[38;5;66;03m# A_.shape\u001b[39;00m\n\u001b[1;32m     21\u001b[0m B \u001b[38;5;241m=\u001b[39m (U[:, :\u001b[38;5;241m1\u001b[39m] \u001b[38;5;241m*\u001b[39m S[\u001b[38;5;241m0\u001b[39m]\u001b[38;5;241m.\u001b[39msqrt())\u001b[38;5;241m.\u001b[39mview(m1, n1)\n\u001b[0;32m---> 22\u001b[0m C \u001b[38;5;241m=\u001b[39m \u001b[43m(\u001b[49m\u001b[43mVh\u001b[49m\u001b[43m[\u001b[49m\u001b[43m:\u001b[49m\u001b[43m,\u001b[49m\u001b[43m \u001b[49m\u001b[43m:\u001b[49m\u001b[38;5;241;43m1\u001b[39;49m\u001b[43m]\u001b[49m\u001b[43m \u001b[49m\u001b[38;5;241;43m*\u001b[39;49m\u001b[43m \u001b[49m\u001b[43mS\u001b[49m\u001b[43m[\u001b[49m\u001b[38;5;241;43m0\u001b[39;49m\u001b[43m]\u001b[49m\u001b[38;5;241;43m.\u001b[39;49m\u001b[43msqrt\u001b[49m\u001b[43m(\u001b[49m\u001b[43m)\u001b[49m\u001b[43m)\u001b[49m\u001b[38;5;241;43m.\u001b[39;49m\u001b[43mview\u001b[49m\u001b[43m(\u001b[49m\u001b[43mm2\u001b[49m\u001b[43m,\u001b[49m\u001b[43m \u001b[49m\u001b[43mn2\u001b[49m\u001b[43m)\u001b[49m\n\u001b[1;32m     23\u001b[0m A_ \u001b[38;5;241m=\u001b[39m torch\u001b[38;5;241m.\u001b[39mkron(B, C)\n\u001b[1;32m     25\u001b[0m \u001b[38;5;28mprint\u001b[39m(torch\u001b[38;5;241m.\u001b[39mnorm(A\u001b[38;5;241m-\u001b[39mA_,))\n",
      "\u001b[0;31mRuntimeError\u001b[0m: shape '[2, 200]' is invalid for input of size 100"
     ]
    }
   ],
   "source": [
    "import torch\n",
    "from scipy.linalg import toeplitz\n",
    "\n",
    "m, n = 100, 400\n",
    "L = torch.randn(m, n)\n",
    "U, S, Vh = torch.linalg.svd(\n",
    "    L,\n",
    "    full_matrices=False,\n",
    ")\n",
    "m1, m2 = m // 2, 2\n",
    "n1, n2 = 2, n // 2\n",
    "\n",
    "# B = (U[:, :1] * S[0])\n",
    "# B = toeplitz(B.numpy())\n",
    "# C = (Vh[:1, :] * S[0])\n",
    "# C = toeplitz(C.numpy())\n",
    "# B, C  = torch.tensor(B), torch.tensor(C)\n",
    "# A_ = torch.kron(B, C)\n",
    "\n",
    "# A_.shape\n",
    "R = (U[:, :1] * S[0].sqrt()).view(m1, n1)\n",
    "C = (Vh[:, :1] * S[0].sqrt()).view(m2, n2)\n",
    "A_ = torch.kron(R, C)\n",
    "\n",
    "print(\n",
    "    torch.norm(\n",
    "        L - A_,\n",
    "    )\n",
    ")\n",
    "rank = 1\n",
    "print(torch.norm(L - U[:, :rank] @ torch.diag(S[:rank]) @ Vh[:rank, :]))"
   ]
  },
  {
   "cell_type": "code",
   "execution_count": 13,
   "metadata": {},
   "outputs": [
    {
     "data": {
      "text/plain": [
       "torch.Size([100, 1])"
      ]
     },
     "execution_count": 13,
     "metadata": {},
     "output_type": "execute_result"
    }
   ],
   "source": [
    "(U[:, :1] * S[0].sqrt()).shape"
   ]
  },
  {
   "cell_type": "code",
   "execution_count": 5,
   "metadata": {},
   "outputs": [
    {
     "data": {
      "text/plain": [
       "False"
      ]
     },
     "execution_count": 5,
     "metadata": {},
     "output_type": "execute_result"
    }
   ],
   "source": [
    "torch.allclose(L, A_)"
   ]
  },
  {
   "cell_type": "code",
   "execution_count": 6,
   "metadata": {},
   "outputs": [
    {
     "data": {
      "text/plain": [
       "tensor(198.7227)"
      ]
     },
     "execution_count": 6,
     "metadata": {},
     "output_type": "execute_result"
    }
   ],
   "source": [
    "torch.norm(\n",
    "    L - A_,\n",
    ")"
   ]
  },
  {
   "cell_type": "code",
   "execution_count": 9,
   "metadata": {},
   "outputs": [
    {
     "data": {
      "text/plain": [
       "tensor(196.5673)"
      ]
     },
     "execution_count": 9,
     "metadata": {},
     "output_type": "execute_result"
    }
   ],
   "source": []
  },
  {
   "cell_type": "code",
   "execution_count": 53,
   "metadata": {},
   "outputs": [
    {
     "data": {
      "text/plain": [
       "torch.Size([100, 400])"
      ]
     },
     "execution_count": 53,
     "metadata": {},
     "output_type": "execute_result"
    }
   ],
   "source": [
    "A_.shape"
   ]
  },
  {
   "cell_type": "code",
   "execution_count": 28,
   "metadata": {},
   "outputs": [
    {
     "data": {
      "text/plain": [
       "5.46382259183655"
      ]
     },
     "execution_count": 28,
     "metadata": {},
     "output_type": "execute_result"
    }
   ],
   "source": [
    "float(S[0]) ** 0.5"
   ]
  },
  {
   "cell_type": "code",
   "execution_count": 22,
   "metadata": {},
   "outputs": [
    {
     "data": {
      "text/plain": [
       "torch.Size([400, 1])"
      ]
     },
     "execution_count": 22,
     "metadata": {},
     "output_type": "execute_result"
    }
   ],
   "source": [
    "Vh[:1, :].T.shape"
   ]
  },
  {
   "cell_type": "code",
   "execution_count": 21,
   "metadata": {},
   "outputs": [
    {
     "data": {
      "text/plain": [
       "torch.Size([100, 1])"
      ]
     },
     "execution_count": 21,
     "metadata": {},
     "output_type": "execute_result"
    }
   ],
   "source": [
    "U[:, :1].shape"
   ]
  },
  {
   "cell_type": "code",
   "execution_count": 15,
   "metadata": {},
   "outputs": [
    {
     "data": {
      "text/plain": [
       "(torch.Size([1, 4096]), torch.Size([1024, 1]))"
      ]
     },
     "execution_count": 15,
     "metadata": {},
     "output_type": "execute_result"
    }
   ],
   "source": [
    "Vh.shape, U.shape"
   ]
  },
  {
   "cell_type": "code",
   "execution_count": 14,
   "metadata": {},
   "outputs": [],
   "source": [
    "U = U[:, :1]\n",
    "S = torch.diag(S[:1])\n",
    "Vh = Vh[:1, :]"
   ]
  },
  {
   "cell_type": "code",
   "execution_count": null,
   "metadata": {},
   "outputs": [],
   "source": [
    "import torch\n",
    "from kronecker_attention_pytorch import KroneckerSelfAttention\n",
    "\n",
    "attn = KroneckerSelfAttention(\n",
    "    dim=32,\n",
    "    heads=16,\n",
    "    dim_heads=64,\n",
    ")\n",
    "\n",
    "x = torch.randn(1, 32, 256, 512)\n",
    "attn(x)  # (1, 32, 256, 512)"
   ]
  },
  {
   "cell_type": "code",
   "execution_count": 1,
   "metadata": {},
   "outputs": [
    {
     "name": "stdout",
     "output_type": "stream",
     "text": [
      "Reconstruction error: 2968.4312\n"
     ]
    }
   ],
   "source": [
    "import torch\n",
    "from ebany_research.llm_lora.generalized_kronecker_product_decomposition.gkpd import (\n",
    "    gkpd,\n",
    "    kron,\n",
    ")\n",
    "\n",
    "rank = 256\n",
    "a_shape, b_shape = (rank, 16, 16, 3, 1), (rank, 4, 4, 1, 3)\n",
    "\n",
    "# Full rank\n",
    "a, b = torch.randn(*a_shape), torch.randn(*b_shape)\n",
    "w = kron(a, b)\n",
    "\n",
    "# Approximation\n",
    "a_hat, b_hat = gkpd(w, a_shape[1:], b_shape[1:])\n",
    "w_hat = kron(a_hat, b_hat)\n",
    "\n",
    "# Reconstruction error\n",
    "print(\n",
    "    \"Reconstruction error: {}\".format(\n",
    "        round(\n",
    "            (\n",
    "                torch.linalg.norm((w.reshape(-1) - w_hat.reshape(-1))).detach().numpy()\n",
    "            ).item(),\n",
    "            4,\n",
    "        )\n",
    "    )\n",
    ")"
   ]
  },
  {
   "cell_type": "code",
   "execution_count": 2,
   "metadata": {},
   "outputs": [
    {
     "data": {
      "text/plain": [
       "torch.Size([48, 16, 16, 3, 1])"
      ]
     },
     "execution_count": 2,
     "metadata": {},
     "output_type": "execute_result"
    }
   ],
   "source": [
    "a_hat.shape"
   ]
  },
  {
   "cell_type": "code",
   "execution_count": 2,
   "metadata": {},
   "outputs": [
    {
     "data": {
      "text/plain": [
       "torch.Size([64, 64, 3, 3])"
      ]
     },
     "execution_count": 2,
     "metadata": {},
     "output_type": "execute_result"
    }
   ],
   "source": [
    "w.shape"
   ]
  },
  {
   "cell_type": "code",
   "execution_count": 2,
   "metadata": {},
   "outputs": [],
   "source": [
    "m, n = 100, 400\n",
    "m1, m2 = 50, 2\n",
    "n1, n2 = 2, 200\n",
    "a, b = torch.randn((1, m1, n1)), torch.randn((1, m2, n2))\n",
    "w_ = torch.kron(a, b)\n",
    "w = kron(a, b)"
   ]
  },
  {
   "cell_type": "code",
   "execution_count": 4,
   "metadata": {},
   "outputs": [
    {
     "data": {
      "text/plain": [
       "tensor([[-0.3303,  0.2095, -0.1851,  ...,  0.3175, -1.5097,  0.5148],\n",
       "        [-0.1194, -0.2758, -0.0448,  ..., -0.1935,  2.1286,  0.0274],\n",
       "        [ 1.2444, -0.7894,  0.6973,  ..., -0.2181,  1.0370, -0.3536],\n",
       "        ...,\n",
       "        [ 0.2061,  0.4758,  0.0773,  ..., -0.2350,  2.5853,  0.0333],\n",
       "        [ 0.2297, -0.1457,  0.1287,  ...,  0.1313, -0.6240,  0.2128],\n",
       "        [ 0.0831,  0.1918,  0.0312,  ..., -0.0800,  0.8799,  0.0113]])"
      ]
     },
     "execution_count": 4,
     "metadata": {},
     "output_type": "execute_result"
    }
   ],
   "source": [
    "w"
   ]
  },
  {
   "cell_type": "code",
   "execution_count": 5,
   "metadata": {},
   "outputs": [
    {
     "data": {
      "text/plain": [
       "tensor([[[-0.3303,  0.2095, -0.1851,  ...,  0.3175, -1.5097,  0.5148],\n",
       "         [-0.1194, -0.2758, -0.0448,  ..., -0.1935,  2.1286,  0.0274],\n",
       "         [ 1.2444, -0.7894,  0.6973,  ..., -0.2181,  1.0370, -0.3536],\n",
       "         ...,\n",
       "         [ 0.2061,  0.4758,  0.0773,  ..., -0.2350,  2.5853,  0.0333],\n",
       "         [ 0.2297, -0.1457,  0.1287,  ...,  0.1313, -0.6240,  0.2128],\n",
       "         [ 0.0831,  0.1918,  0.0312,  ..., -0.0800,  0.8799,  0.0113]]])"
      ]
     },
     "execution_count": 5,
     "metadata": {},
     "output_type": "execute_result"
    }
   ],
   "source": [
    "w_"
   ]
  },
  {
   "cell_type": "code",
   "execution_count": 6,
   "metadata": {},
   "outputs": [
    {
     "data": {
      "text/plain": [
       "torch.Size([100, 400])"
      ]
     },
     "execution_count": 6,
     "metadata": {},
     "output_type": "execute_result"
    }
   ],
   "source": [
    "w.shape"
   ]
  },
  {
   "cell_type": "code",
   "execution_count": 4,
   "metadata": {},
   "outputs": [],
   "source": [
    "a_hat, b_hat = gkpd(w, (m1, n1), (m2, n2))\n",
    "w_hat = kron(a_hat, b_hat)"
   ]
  },
  {
   "cell_type": "code",
   "execution_count": 6,
   "metadata": {},
   "outputs": [
    {
     "data": {
      "text/plain": [
       "torch.Size([1, 50, 2])"
      ]
     },
     "execution_count": 6,
     "metadata": {},
     "output_type": "execute_result"
    }
   ],
   "source": [
    "a_hat.shape"
   ]
  },
  {
   "cell_type": "code",
   "execution_count": 5,
   "metadata": {},
   "outputs": [
    {
     "name": "stdout",
     "output_type": "stream",
     "text": [
      "Reconstruction error: 0.0\n"
     ]
    }
   ],
   "source": [
    "print(\n",
    "    \"Reconstruction error: {}\".format(\n",
    "        round(\n",
    "            (\n",
    "                torch.linalg.norm((w.reshape(-1) - w_hat.reshape(-1))).detach().numpy()\n",
    "            ).item(),\n",
    "            4,\n",
    "        )\n",
    "    )\n",
    ")"
   ]
  },
  {
   "cell_type": "markdown",
   "metadata": {},
   "source": [
    "#### Try Mistral weight"
   ]
  },
  {
   "cell_type": "code",
   "execution_count": 1,
   "metadata": {},
   "outputs": [
    {
     "name": "stderr",
     "output_type": "stream",
     "text": [
      "/opt/conda/lib/python3.10/site-packages/tqdm/auto.py:21: TqdmWarning: IProgress not found. Please update jupyter and ipywidgets. See https://ipywidgets.readthedocs.io/en/stable/user_install.html\n",
      "  from .autonotebook import tqdm as notebook_tqdm\n",
      "Loading checkpoint shards:   0%|          | 0/2 [00:00<?, ?it/s]/opt/conda/lib/python3.10/site-packages/torch/_utils.py:831: UserWarning: TypedStorage is deprecated. It will be removed in the future and UntypedStorage will be the only storage class. This should only matter to you if you are using storages directly.  To access UntypedStorage directly, use tensor.untyped_storage() instead of tensor.storage()\n",
      "  return self.fget.__get__(instance, owner)()\n",
      "Loading checkpoint shards: 100%|██████████| 2/2 [00:38<00:00, 19.06s/it]\n"
     ]
    }
   ],
   "source": [
    "from transformers import AutoTokenizer, AutoConfig, MistralForCausalLM\n",
    "import torch\n",
    "from ebany_research.llm_lora.generalized_kronecker_product_decomposition.gkpd import (\n",
    "    gkpd,\n",
    "    kron,\n",
    ")\n",
    "\n",
    "model_name = \"Open-Orca/Mistral-7B-OpenOrca\"\n",
    "# model_name = \"ebany_research/llm_lora/train_results\"\n",
    "config = AutoConfig.from_pretrained(model_name)\n",
    "device = 0\n",
    "model = MistralForCausalLM.from_pretrained(\n",
    "    model_name, device_map={\"\": device}, torch_dtype=torch.bfloat16\n",
    ")\n",
    "model = model.eval()"
   ]
  },
  {
   "cell_type": "code",
   "execution_count": 2,
   "metadata": {},
   "outputs": [
    {
     "data": {
      "text/plain": [
       "torch.Size([14336, 4096])"
      ]
     },
     "execution_count": 2,
     "metadata": {},
     "output_type": "execute_result"
    }
   ],
   "source": [
    "gate_proj = model.model.layers[17].mlp.gate_proj.weight.data.cpu().to(torch.float32)\n",
    "gate_proj.shape"
   ]
  },
  {
   "cell_type": "code",
   "execution_count": null,
   "metadata": {},
   "outputs": [
    {
     "name": "stdout",
     "output_type": "stream",
     "text": [
      "Reconstruction error: 18.76\n"
     ]
    }
   ],
   "source": [
    "m1, m2 = 224, 64\n",
    "n1, n2 = 64, 64\n",
    "a_shape = (m1, n1)\n",
    "b_shape = (m2, n2)\n",
    "\n",
    "a_hat, b_hat = gkpd(gate_proj, a_shape, b_shape, max_rank=1024)\n",
    "w_hat = kron(a_hat, b_hat)\n",
    "\n",
    "print(\n",
    "    \"Reconstruction error: {}\".format(\n",
    "        round(\n",
    "            (\n",
    "                torch.linalg.norm((gate_proj.reshape(-1) - w_hat.reshape(-1)))\n",
    "                .detach()\n",
    "                .numpy()\n",
    "            ).item(),\n",
    "            4,\n",
    "        )\n",
    "    )\n",
    ")"
   ]
  },
  {
   "cell_type": "code",
   "execution_count": 21,
   "metadata": {},
   "outputs": [
    {
     "data": {
      "text/plain": [
       "(torch.Size([1024, 224, 64]),\n",
       " torch.Size([1024, 64, 64]),\n",
       " torch.Size([14336, 4096]))"
      ]
     },
     "execution_count": 21,
     "metadata": {},
     "output_type": "execute_result"
    }
   ],
   "source": [
    "a_hat.shape, b_hat.shape, w_hat.shape"
   ]
  },
  {
   "cell_type": "code",
   "execution_count": 12,
   "metadata": {},
   "outputs": [
    {
     "data": {
      "text/plain": [
       "229376"
      ]
     },
     "execution_count": 12,
     "metadata": {},
     "output_type": "execute_result"
    }
   ],
   "source": [
    "224 * 64 * 16"
   ]
  },
  {
   "cell_type": "code",
   "execution_count": 36,
   "metadata": {},
   "outputs": [
    {
     "name": "stdout",
     "output_type": "stream",
     "text": [
      "torch.Size([2, 230, 14336])\n"
     ]
    },
    {
     "ename": "RuntimeError",
     "evalue": "The size of tensor a (1024) must match the size of tensor b (2) at non-singleton dimension 0",
     "output_type": "error",
     "traceback": [
      "\u001b[0;31m---------------------------------------------------------------------------\u001b[0m",
      "\u001b[0;31mRuntimeError\u001b[0m                              Traceback (most recent call last)",
      "Cell \u001b[0;32mIn[36], line 4\u001b[0m\n\u001b[1;32m      2\u001b[0m nornmal_mul \u001b[38;5;241m=\u001b[39m x \u001b[38;5;241m@\u001b[39m w_hat\u001b[38;5;241m.\u001b[39mT\n\u001b[1;32m      3\u001b[0m \u001b[38;5;28mprint\u001b[39m(nornmal_mul\u001b[38;5;241m.\u001b[39mshape)\n\u001b[0;32m----> 4\u001b[0m kron_mul \u001b[38;5;241m=\u001b[39m \u001b[43mb_hat\u001b[49m\u001b[43m \u001b[49m\u001b[38;5;241;43m@\u001b[39;49m\u001b[43m \u001b[49m\u001b[43mx\u001b[49m \u001b[38;5;241m@\u001b[39m a_hat\u001b[38;5;241m.\u001b[39mT\n",
      "\u001b[0;31mRuntimeError\u001b[0m: The size of tensor a (1024) must match the size of tensor b (2) at non-singleton dimension 0"
     ]
    }
   ],
   "source": [
    "x = torch.randn(2, 230, 4096)\n",
    "nornmal_mul = x @ w_hat.T\n",
    "print(nornmal_mul.shape)\n",
    "kron_mul = b_hat @ x @ a_hat.T"
   ]
  },
  {
   "cell_type": "code",
   "execution_count": 35,
   "metadata": {},
   "outputs": [
    {
     "data": {
      "text/plain": [
       "torch.Size([1024, 64, 64])"
      ]
     },
     "execution_count": 35,
     "metadata": {},
     "output_type": "execute_result"
    }
   ],
   "source": [
    "b_hat.shape"
   ]
  },
  {
   "cell_type": "code",
   "execution_count": 34,
   "metadata": {},
   "outputs": [
    {
     "data": {
      "text/plain": [
       "torch.Size([2, 14720, 64])"
      ]
     },
     "execution_count": 34,
     "metadata": {},
     "output_type": "execute_result"
    }
   ],
   "source": [
    "x.view(2, -1, 64).shape"
   ]
  },
  {
   "cell_type": "code",
   "execution_count": 9,
   "metadata": {},
   "outputs": [
    {
     "name": "stdout",
     "output_type": "stream",
     "text": [
      "Reconstruction error: 17.3346\n"
     ]
    }
   ],
   "source": [
    "rank = 1024\n",
    "U, S, Vh = torch.linalg.svd(\n",
    "    gate_proj.cpu().to(torch.float32),\n",
    "    full_matrices=False,\n",
    ")\n",
    "\n",
    "L = U[:, :rank] @ torch.diag(S[:rank])\n",
    "R = Vh[:rank, :]\n",
    "\n",
    "print(\n",
    "    \"Reconstruction error: {}\".format(\n",
    "        round(\n",
    "            (\n",
    "                torch.linalg.norm(\n",
    "                    (\n",
    "                        gate_proj.cpu().reshape(-1)\n",
    "                        - (U[:, :rank] @ torch.diag(S[:rank]) @ Vh[:rank, :]).reshape(\n",
    "                            -1\n",
    "                        )\n",
    "                    )\n",
    "                )\n",
    "                .detach()\n",
    "                .numpy()\n",
    "            ).item(),\n",
    "            4,\n",
    "        )\n",
    "    )\n",
    ")"
   ]
  },
  {
   "cell_type": "code",
   "execution_count": 5,
   "metadata": {},
   "outputs": [
    {
     "data": {
      "text/plain": [
       "torch.Size([14336, 4096])"
      ]
     },
     "execution_count": 5,
     "metadata": {},
     "output_type": "execute_result"
    }
   ],
   "source": [
    "gate_proj.shape"
   ]
  },
  {
   "cell_type": "code",
   "execution_count": 10,
   "metadata": {},
   "outputs": [
    {
     "data": {
      "text/plain": [
       "(torch.Size([14336, 1024]), torch.Size([1024, 4096]))"
      ]
     },
     "execution_count": 10,
     "metadata": {},
     "output_type": "execute_result"
    }
   ],
   "source": [
    "L.shape, R.shape"
   ]
  },
  {
   "cell_type": "code",
   "execution_count": 60,
   "metadata": {},
   "outputs": [
    {
     "data": {
      "text/plain": [
       "(58720256, 37748736)"
      ]
     },
     "execution_count": 60,
     "metadata": {},
     "output_type": "execute_result"
    }
   ],
   "source": [
    "14336 * 4096, (14336 * 1024 + 1024 * 4096) * 2"
   ]
  },
  {
   "cell_type": "code",
   "execution_count": 36,
   "metadata": {},
   "outputs": [
    {
     "data": {
      "text/plain": [
       "(58720256, 56623104, 18874368)"
      ]
     },
     "execution_count": 36,
     "metadata": {},
     "output_type": "execute_result"
    }
   ],
   "source": [
    "r = 1024\n",
    "14336 * 4096, (14336 * r + r * 4096) * 3, 14336 * r + r * 4096"
   ]
  },
  {
   "cell_type": "code",
   "execution_count": 33,
   "metadata": {},
   "outputs": [
    {
     "name": "stdout",
     "output_type": "stream",
     "text": [
      "17.42437744140625\n",
      "17.4273681640625\n",
      "17.694669723510742\n",
      "17.434450149536133\n",
      "17.55069923400879\n",
      "17.59136390686035\n",
      "17.485074996948242\n",
      "17.43397331237793\n",
      "17.478452682495117\n",
      "17.517587661743164\n",
      "17.489971160888672\n",
      "17.442644119262695\n",
      "17.434368133544922\n",
      "17.459890365600586\n",
      "17.47407341003418\n",
      "17.45974349975586\n",
      "17.438119888305664\n",
      "17.432376861572266\n",
      "17.4425048828125\n",
      "17.450992584228516\n",
      "17.446123123168945\n",
      "17.434650421142578\n",
      "17.429784774780273\n",
      "17.433988571166992\n",
      "17.43879508972168\n",
      "17.437410354614258\n",
      "17.43189239501953\n",
      "17.428497314453125\n",
      "17.429706573486328\n",
      "17.432241439819336\n",
      "17.43203353881836\n",
      "17.429262161254883\n",
      "17.427236557006836\n",
      "17.42763900756836\n",
      "17.428878784179688\n",
      "17.428800582885742\n",
      "17.427410125732422\n",
      "17.42632484436035\n",
      "17.42645263671875\n",
      "17.42702293395996\n",
      "17.426918029785156\n",
      "17.426162719726562\n",
      "17.425640106201172\n",
      "17.425739288330078\n",
      "17.425973892211914\n",
      "17.425827026367188\n",
      "17.425416946411133\n",
      "17.425195693969727\n",
      "17.425270080566406\n",
      "17.425336837768555\n",
      "17.425193786621094\n",
      "17.42498016357422\n",
      "17.424911499023438\n",
      "17.424955368041992\n",
      "17.424943923950195\n",
      "17.424833297729492\n",
      "17.42473793029785\n",
      "17.424728393554688\n",
      "17.424741744995117\n",
      "17.424701690673828\n",
      "17.42463493347168\n",
      "17.424604415893555\n",
      "17.42460823059082\n",
      "17.424596786499023\n",
      "17.424560546875\n",
      "17.424530029296875\n",
      "17.424522399902344\n",
      "17.42452049255371\n",
      "17.424503326416016\n",
      "17.424482345581055\n",
      "17.42447280883789\n",
      "17.424470901489258\n",
      "17.424461364746094\n",
      "17.424448013305664\n",
      "17.424440383911133\n",
      "17.4244384765625\n",
      "17.4244327545166\n",
      "17.42442512512207\n",
      "17.424419403076172\n",
      "17.42441749572754\n",
      "17.424415588378906\n",
      "17.424409866333008\n",
      "17.424406051635742\n",
      "17.42440414428711\n",
      "17.424402236938477\n",
      "17.42439842224121\n",
      "17.424396514892578\n",
      "17.424394607543945\n",
      "17.424394607543945\n",
      "17.424392700195312\n",
      "17.42439079284668\n",
      "17.424388885498047\n",
      "17.424388885498047\n",
      "17.424386978149414\n",
      "17.42438507080078\n",
      "17.42438507080078\n",
      "17.42438316345215\n",
      "17.42438316345215\n",
      "17.42438316345215\n",
      "17.42438316345215\n",
      "17.42438316345215\n",
      "17.42438316345215\n",
      "17.424381256103516\n",
      "17.424381256103516\n",
      "17.424381256103516\n",
      "17.424379348754883\n",
      "17.424379348754883\n",
      "17.424379348754883\n",
      "17.424379348754883\n",
      "17.424379348754883\n",
      "17.424379348754883\n",
      "17.424379348754883\n",
      "17.424379348754883\n",
      "17.42437744140625\n",
      "17.42437744140625\n",
      "17.42437744140625\n",
      "17.42437744140625\n",
      "17.42437744140625\n",
      "17.42437744140625\n",
      "17.42437744140625\n",
      "17.42437744140625\n",
      "17.42437744140625\n",
      "17.42437744140625\n",
      "17.42437744140625\n",
      "17.42437744140625\n",
      "17.42437744140625\n",
      "17.42437744140625\n",
      "17.42437744140625\n",
      "17.42437744140625\n",
      "17.42437744140625\n",
      "17.42437744140625\n",
      "17.42437744140625\n",
      "17.42437744140625\n",
      "17.42437744140625\n",
      "17.42437744140625\n",
      "17.42437744140625\n",
      "17.42437744140625\n",
      "17.42437744140625\n",
      "17.42437744140625\n",
      "17.42437744140625\n",
      "17.42437744140625\n",
      "17.42437744140625\n",
      "17.42437744140625\n",
      "17.42437744140625\n",
      "17.42437744140625\n",
      "17.42437744140625\n",
      "17.42437744140625\n",
      "17.42437744140625\n",
      "17.424375534057617\n",
      "17.42437744140625\n",
      "17.42437744140625\n",
      "17.424375534057617\n",
      "17.42437744140625\n",
      "17.424375534057617\n",
      "17.42437744140625\n",
      "17.42437744140625\n",
      "17.42437744140625\n",
      "17.42437744140625\n",
      "17.42437744140625\n",
      "17.42437744140625\n",
      "17.42437744140625\n",
      "17.42437744140625\n",
      "17.42437744140625\n",
      "17.42437744140625\n",
      "17.42437744140625\n",
      "17.42437744140625\n",
      "17.42437744140625\n",
      "17.42437744140625\n",
      "17.42437744140625\n",
      "17.42437744140625\n",
      "17.42437744140625\n",
      "17.42437744140625\n",
      "17.42437744140625\n",
      "17.42437744140625\n",
      "17.42437744140625\n",
      "17.42437744140625\n",
      "17.42437744140625\n",
      "17.42437744140625\n",
      "17.424375534057617\n",
      "17.42437744140625\n",
      "17.42437744140625\n",
      "17.42437744140625\n",
      "17.42437744140625\n",
      "17.42437744140625\n",
      "17.42437744140625\n",
      "17.42437744140625\n",
      "17.42437744140625\n",
      "17.42437744140625\n",
      "17.42437744140625\n",
      "17.42437744140625\n",
      "17.42437744140625\n",
      "17.42437744140625\n",
      "17.42437744140625\n",
      "17.42437744140625\n",
      "17.42437744140625\n",
      "17.42437744140625\n",
      "17.42437744140625\n",
      "17.42437744140625\n",
      "17.424375534057617\n",
      "17.42437744140625\n",
      "17.42437744140625\n",
      "17.42437744140625\n",
      "17.42437744140625\n",
      "17.42437744140625\n",
      "17.42437744140625\n",
      "17.42437744140625\n",
      "17.42437744140625\n",
      "17.42437744140625\n",
      "17.42437744140625\n",
      "17.42437744140625\n",
      "17.42437744140625\n",
      "17.42437744140625\n",
      "17.42437744140625\n",
      "17.42437744140625\n",
      "17.42437744140625\n",
      "17.42437744140625\n",
      "17.42437744140625\n",
      "17.42437744140625\n",
      "17.42437744140625\n",
      "17.42437744140625\n",
      "17.42437744140625\n",
      "17.42437744140625\n",
      "17.42437744140625\n",
      "17.42437744140625\n",
      "17.42437744140625\n",
      "17.42437744140625\n",
      "17.42437744140625\n",
      "17.424375534057617\n",
      "17.42437744140625\n",
      "17.42437744140625\n",
      "17.42437744140625\n",
      "17.42437744140625\n",
      "17.42437744140625\n",
      "17.42437744140625\n",
      "17.424375534057617\n",
      "17.42437744140625\n",
      "17.42437744140625\n",
      "17.42437744140625\n",
      "17.42437744140625\n",
      "17.42437744140625\n",
      "17.42437744140625\n",
      "17.42437744140625\n",
      "17.42437744140625\n",
      "17.42437744140625\n",
      "17.42437744140625\n",
      "17.42437744140625\n",
      "17.424375534057617\n",
      "17.42437744140625\n",
      "17.42437744140625\n",
      "17.42437744140625\n",
      "17.42437744140625\n",
      "17.42437744140625\n",
      "17.42437744140625\n",
      "17.42437744140625\n",
      "17.424375534057617\n",
      "17.42437744140625\n",
      "17.42437744140625\n",
      "17.42437744140625\n",
      "17.42437744140625\n",
      "17.42437744140625\n",
      "17.42437744140625\n",
      "17.42437744140625\n",
      "17.42437744140625\n",
      "17.42437744140625\n",
      "17.42437744140625\n",
      "17.42437744140625\n",
      "17.42437744140625\n",
      "17.42437744140625\n",
      "17.42437744140625\n",
      "17.42437744140625\n",
      "17.42437744140625\n",
      "17.42437744140625\n",
      "17.42437744140625\n",
      "17.42437744140625\n",
      "17.42437744140625\n",
      "17.42437744140625\n",
      "17.42437744140625\n",
      "17.42437744140625\n",
      "17.42437744140625\n",
      "17.42437744140625\n",
      "17.42437744140625\n",
      "17.42437744140625\n",
      "17.42437744140625\n",
      "17.42437744140625\n",
      "17.42437744140625\n",
      "17.42437744140625\n",
      "17.42437744140625\n",
      "17.42437744140625\n",
      "17.42437744140625\n",
      "17.42437744140625\n",
      "17.42437744140625\n",
      "17.42437744140625\n",
      "17.42437744140625\n",
      "17.42437744140625\n",
      "17.42437744140625\n",
      "17.42437744140625\n",
      "17.42437744140625\n",
      "17.42437744140625\n",
      "17.42437744140625\n",
      "17.42437744140625\n",
      "17.42437744140625\n",
      "17.42437744140625\n",
      "17.42437744140625\n",
      "17.42437744140625\n",
      "17.42437744140625\n",
      "17.42437744140625\n",
      "17.42437744140625\n",
      "17.42437744140625\n",
      "17.42437744140625\n",
      "17.42437744140625\n",
      "17.42437744140625\n",
      "17.42437744140625\n",
      "17.42437744140625\n",
      "17.42437744140625\n",
      "17.42437744140625\n",
      "17.42437744140625\n",
      "17.42437744140625\n",
      "17.42437744140625\n",
      "17.42437744140625\n",
      "17.42437744140625\n",
      "17.42437744140625\n",
      "17.42437744140625\n",
      "17.42437744140625\n",
      "17.42437744140625\n",
      "17.42437744140625\n",
      "17.42437744140625\n",
      "17.42437744140625\n",
      "17.42437744140625\n",
      "17.42437744140625\n",
      "17.42437744140625\n",
      "17.42437744140625\n",
      "17.42437744140625\n",
      "17.42437744140625\n",
      "17.42437744140625\n",
      "17.42437744140625\n",
      "17.42437744140625\n",
      "17.42437744140625\n",
      "17.42437744140625\n",
      "17.42437744140625\n",
      "17.42437744140625\n",
      "17.42437744140625\n",
      "17.42437744140625\n",
      "17.42437744140625\n",
      "17.42437744140625\n",
      "17.42437744140625\n",
      "17.42437744140625\n",
      "17.42437744140625\n",
      "17.42437744140625\n",
      "17.42437744140625\n",
      "17.42437744140625\n",
      "17.42437744140625\n",
      "17.42437744140625\n",
      "17.42437744140625\n",
      "17.42437744140625\n",
      "17.42437744140625\n",
      "17.42437744140625\n",
      "17.42437744140625\n",
      "17.42437744140625\n",
      "17.42437744140625\n",
      "17.42437744140625\n",
      "17.42437744140625\n",
      "17.42437744140625\n",
      "17.42437744140625\n",
      "17.42437744140625\n",
      "17.42437744140625\n",
      "17.42437744140625\n",
      "17.42437744140625\n",
      "17.42437744140625\n",
      "17.42437744140625\n",
      "17.42437744140625\n",
      "17.42437744140625\n",
      "17.42437744140625\n",
      "17.42437744140625\n",
      "17.42437744140625\n",
      "17.42437744140625\n",
      "17.42437744140625\n",
      "17.42437744140625\n",
      "17.42437744140625\n",
      "17.42437744140625\n",
      "17.42437744140625\n",
      "17.42437744140625\n",
      "17.42437744140625\n",
      "17.42437744140625\n",
      "17.42437744140625\n",
      "17.42437744140625\n",
      "17.42437744140625\n",
      "17.42437744140625\n",
      "17.42437744140625\n",
      "17.42437744140625\n",
      "17.424379348754883\n",
      "17.42437744140625\n",
      "17.42437744140625\n",
      "17.42437744140625\n",
      "17.424379348754883\n",
      "17.42437744140625\n",
      "17.42437744140625\n",
      "17.424379348754883\n",
      "17.42437744140625\n",
      "17.424379348754883\n",
      "17.424379348754883\n",
      "17.42437744140625\n",
      "17.42437744140625\n",
      "17.424379348754883\n",
      "17.424379348754883\n",
      "17.424379348754883\n",
      "17.424379348754883\n",
      "17.424379348754883\n",
      "17.424379348754883\n",
      "17.424379348754883\n",
      "17.424379348754883\n",
      "17.424379348754883\n",
      "17.424379348754883\n",
      "17.424379348754883\n",
      "17.424379348754883\n",
      "17.424379348754883\n",
      "17.424379348754883\n",
      "17.424379348754883\n",
      "17.424379348754883\n",
      "17.424379348754883\n",
      "17.424379348754883\n",
      "17.424379348754883\n",
      "17.424379348754883\n",
      "17.424379348754883\n",
      "17.424379348754883\n",
      "17.424379348754883\n",
      "17.424379348754883\n",
      "17.424379348754883\n",
      "17.424379348754883\n",
      "17.424379348754883\n",
      "17.424379348754883\n",
      "17.424379348754883\n",
      "17.424379348754883\n",
      "17.424379348754883\n",
      "17.424381256103516\n",
      "17.424381256103516\n",
      "17.424381256103516\n",
      "17.424381256103516\n",
      "17.424381256103516\n",
      "17.424381256103516\n",
      "17.424381256103516\n",
      "17.42438316345215\n",
      "17.42438316345215\n",
      "17.42438316345215\n",
      "17.42438316345215\n",
      "17.424381256103516\n",
      "17.42438316345215\n",
      "17.42438316345215\n",
      "17.42438316345215\n",
      "17.424381256103516\n",
      "17.424381256103516\n",
      "17.424381256103516\n",
      "17.42438316345215\n",
      "17.424381256103516\n",
      "17.424381256103516\n",
      "17.42438316345215\n",
      "17.424381256103516\n",
      "17.42438316345215\n",
      "17.42438316345215\n",
      "17.42438316345215\n",
      "17.42438316345215\n",
      "17.42438316345215\n",
      "17.42438316345215\n",
      "17.42438316345215\n",
      "17.42438316345215\n",
      "17.42438316345215\n",
      "17.42438316345215\n",
      "17.42438316345215\n",
      "17.42438316345215\n",
      "17.42438316345215\n",
      "17.42438316345215\n",
      "17.42438316345215\n",
      "17.42438316345215\n",
      "17.42438316345215\n",
      "17.42438316345215\n",
      "17.42438316345215\n",
      "17.42438316345215\n",
      "17.42438316345215\n",
      "17.42438316345215\n",
      "17.42438316345215\n",
      "17.42438316345215\n",
      "17.42438316345215\n",
      "17.42438316345215\n",
      "17.42438316345215\n",
      "17.42438316345215\n",
      "17.42438316345215\n",
      "17.42438316345215\n",
      "17.42438316345215\n",
      "17.42438316345215\n",
      "17.42438316345215\n",
      "17.42438316345215\n",
      "17.42438316345215\n",
      "17.42438316345215\n",
      "17.42438316345215\n",
      "17.42438316345215\n",
      "17.42438316345215\n",
      "17.42438316345215\n",
      "17.42438316345215\n",
      "17.42438507080078\n",
      "17.42438507080078\n",
      "17.42438507080078\n",
      "17.424386978149414\n",
      "17.424386978149414\n",
      "17.424386978149414\n",
      "17.424388885498047\n",
      "17.424388885498047\n",
      "17.424388885498047\n",
      "17.424388885498047\n",
      "17.424388885498047\n",
      "17.424388885498047\n",
      "17.424388885498047\n",
      "17.424388885498047\n",
      "17.424388885498047\n",
      "17.424388885498047\n",
      "17.424388885498047\n",
      "17.424386978149414\n",
      "17.424386978149414\n",
      "17.424386978149414\n",
      "17.424386978149414\n",
      "17.424386978149414\n",
      "17.424386978149414\n",
      "17.42438507080078\n",
      "17.42438507080078\n",
      "17.42438507080078\n",
      "17.42438507080078\n",
      "17.42438507080078\n",
      "17.42438507080078\n",
      "17.42438507080078\n",
      "17.42438507080078\n",
      "17.42438507080078\n",
      "17.42438316345215\n",
      "17.42438316345215\n",
      "17.42438507080078\n",
      "17.42438507080078\n",
      "17.42438507080078\n",
      "17.42438507080078\n",
      "17.42438507080078\n",
      "17.424386978149414\n",
      "17.424386978149414\n",
      "17.424388885498047\n",
      "17.424388885498047\n",
      "17.424388885498047\n",
      "17.42439079284668\n",
      "17.42439079284668\n",
      "17.424392700195312\n",
      "17.424392700195312\n",
      "17.424392700195312\n",
      "17.424394607543945\n",
      "17.424394607543945\n",
      "17.424392700195312\n",
      "17.424394607543945\n",
      "17.424392700195312\n",
      "17.424392700195312\n",
      "17.424392700195312\n",
      "17.424392700195312\n",
      "17.424392700195312\n",
      "17.424392700195312\n",
      "17.424392700195312\n",
      "17.42439079284668\n",
      "17.42439079284668\n",
      "17.42439079284668\n",
      "17.42439079284668\n",
      "17.424388885498047\n",
      "17.424388885498047\n",
      "17.424388885498047\n",
      "17.424388885498047\n",
      "17.424388885498047\n",
      "17.424388885498047\n",
      "17.424388885498047\n",
      "17.424386978149414\n",
      "17.424388885498047\n",
      "17.424388885498047\n",
      "17.424388885498047\n",
      "17.424388885498047\n",
      "17.424388885498047\n",
      "17.424388885498047\n",
      "17.42439079284668\n",
      "17.424388885498047\n",
      "17.424388885498047\n",
      "17.42439079284668\n",
      "17.42439079284668\n",
      "17.42439079284668\n",
      "17.42439079284668\n",
      "17.42439079284668\n",
      "17.42439079284668\n",
      "17.424392700195312\n",
      "17.424392700195312\n",
      "17.424392700195312\n",
      "17.424394607543945\n",
      "17.424394607543945\n",
      "17.424394607543945\n",
      "17.424394607543945\n",
      "17.424394607543945\n",
      "17.424394607543945\n",
      "17.424394607543945\n",
      "17.424394607543945\n",
      "17.424394607543945\n",
      "17.424396514892578\n",
      "17.424396514892578\n",
      "17.424396514892578\n",
      "17.424396514892578\n",
      "17.42439842224121\n",
      "17.42439842224121\n",
      "17.42439842224121\n",
      "17.424400329589844\n",
      "17.424400329589844\n",
      "17.424400329589844\n",
      "17.424400329589844\n",
      "17.424400329589844\n",
      "17.424400329589844\n",
      "17.424400329589844\n",
      "17.424400329589844\n",
      "17.424400329589844\n",
      "17.424400329589844\n",
      "17.424400329589844\n",
      "17.424400329589844\n",
      "17.424400329589844\n",
      "17.424400329589844\n",
      "17.424400329589844\n",
      "17.424402236938477\n",
      "17.424402236938477\n",
      "17.424402236938477\n",
      "17.42440414428711\n",
      "17.42440414428711\n",
      "17.424406051635742\n",
      "17.424406051635742\n",
      "17.424406051635742\n",
      "17.424406051635742\n",
      "17.424406051635742\n",
      "17.424406051635742\n",
      "17.424406051635742\n",
      "17.424406051635742\n",
      "17.424406051635742\n",
      "17.42440414428711\n",
      "17.42440414428711\n",
      "17.42440414428711\n",
      "17.42440414428711\n",
      "17.42440414428711\n",
      "17.42440414428711\n",
      "17.42440414428711\n",
      "17.42440414428711\n",
      "17.42440414428711\n",
      "17.424406051635742\n",
      "17.424406051635742\n",
      "17.42440414428711\n",
      "17.424406051635742\n",
      "17.424406051635742\n",
      "17.424406051635742\n",
      "17.424406051635742\n",
      "17.424407958984375\n",
      "17.424407958984375\n",
      "17.424407958984375\n",
      "17.424409866333008\n",
      "17.424409866333008\n",
      "17.424409866333008\n",
      "17.42441177368164\n",
      "17.42441177368164\n",
      "17.42441177368164\n",
      "17.42441177368164\n",
      "17.424413681030273\n",
      "17.424413681030273\n",
      "17.424413681030273\n",
      "17.424413681030273\n",
      "17.424413681030273\n",
      "17.424415588378906\n",
      "17.424415588378906\n",
      "17.424415588378906\n",
      "17.424415588378906\n",
      "17.424415588378906\n",
      "17.424415588378906\n",
      "17.424415588378906\n",
      "17.42441749572754\n",
      "17.42441749572754\n",
      "17.424419403076172\n",
      "17.424419403076172\n",
      "17.424421310424805\n",
      "17.424421310424805\n",
      "17.424423217773438\n",
      "17.424423217773438\n",
      "17.424423217773438\n",
      "17.424423217773438\n",
      "17.424423217773438\n",
      "17.424423217773438\n",
      "17.42442512512207\n",
      "17.424423217773438\n",
      "17.424423217773438\n"
     ]
    },
    {
     "ename": "KeyboardInterrupt",
     "evalue": "",
     "output_type": "error",
     "traceback": [
      "\u001b[0;31m---------------------------------------------------------------------------\u001b[0m",
      "\u001b[0;31mKeyboardInterrupt\u001b[0m                         Traceback (most recent call last)",
      "Cell \u001b[0;32mIn[33], line 37\u001b[0m\n\u001b[1;32m     35\u001b[0m loss\u001b[38;5;241m.\u001b[39mbackward()\n\u001b[1;32m     36\u001b[0m optimizer\u001b[38;5;241m.\u001b[39mstep()\n\u001b[0;32m---> 37\u001b[0m \u001b[38;5;28mprint\u001b[39m(\u001b[43mloss\u001b[49m\u001b[38;5;241;43m.\u001b[39;49m\u001b[43mitem\u001b[49m\u001b[43m(\u001b[49m\u001b[43m)\u001b[49m)\n",
      "\u001b[0;31mKeyboardInterrupt\u001b[0m: "
     ]
    }
   ],
   "source": [
    "class LinearLora(torch.nn.Module):\n",
    "    def __init__(self, in_dim=768, out_dim=768, r=16, bias=False):\n",
    "        super().__init__()\n",
    "        self.L = torch.nn.Parameter(torch.empty((r, out_dim)))\n",
    "        self.R = torch.nn.Parameter(torch.empty((in_dim, r)))\n",
    "\n",
    "    def forward(\n",
    "        self,\n",
    "    ):\n",
    "        # hidden_states = self.R(hidden_states)\n",
    "        # hidden_states = self.L(hidden_states)\n",
    "        W = torch.fft.ifft2(torch.fft.fft2(self.L)) @ torch.fft.ifft2(\n",
    "            torch.fft.fft2(self.R)\n",
    "        )\n",
    "        # W = torch.fft.fft2(W)\n",
    "        return W\n",
    "\n",
    "\n",
    "\n",
    "net = LinearLora(\n",
    "    in_dim=gate_proj.shape[0],\n",
    "    out_dim=gate_proj.shape[1],\n",
    "    r=1024,\n",
    ")\n",
    "\n",
    "\n",
    "net.L.data = L\n",
    "\n",
    "\n",
    "net.R.data = R\n",
    "\n",
    "\n",
    "\n",
    "gate_proj = gate_proj.to(\"cuda\")\n",
    "\n",
    "\n",
    "net.cuda()\n",
    "\n",
    "\n",
    "\n",
    "optimizer = torch.optim.Adam(net.parameters(), lr=0.001)\n",
    "\n",
    "\n",
    "epochs = 50000\n",
    "\n",
    "\n",
    "# 17.3346 - svd best\n",
    "\n",
    "\n",
    "# 6.77 - 37748736\n",
    "\n",
    "\n",
    "# 9.52 (64)\n",
    "\n",
    "\n",
    "for epoch in range(epochs):\n",
    "\n",
    "\n",
    "    optimizer.zero_grad()\n",
    "\n",
    "\n",
    "    result = net()\n",
    "\n",
    "\n",
    "    loss = torch.linalg.norm((gate_proj.reshape(-1) - result.reshape(-1)))\n",
    "\n",
    "\n",
    "    loss.backward()\n",
    "\n",
    "\n",
    "    optimizer.step()\n",
    "    print(loss.item())"
   ]
  },
  {
   "cell_type": "code",
   "execution_count": 3,
   "metadata": {},
   "outputs": [
    {
     "data": {
      "text/plain": [
       "tensor([[ 4.6387e-03,  4.2114e-03,  2.2697e-04,  ...,  2.8992e-03,\n",
       "         -2.7313e-03,  3.7689e-03],\n",
       "        [-1.2436e-03,  2.2125e-04,  7.2479e-04,  ..., -1.1063e-03,\n",
       "         -3.2043e-03,  2.3346e-03],\n",
       "        [-3.1891e-03, -2.5635e-03,  1.5106e-03,  ...,  3.5706e-03,\n",
       "          1.0681e-03, -1.9455e-03],\n",
       "        ...,\n",
       "        [ 3.5667e-04,  5.3406e-04,  2.3460e-04,  ..., -1.2207e-03,\n",
       "          1.1292e-03,  7.6675e-04],\n",
       "        [ 4.6387e-03,  3.7079e-03, -2.4872e-03,  ...,  9.1553e-03,\n",
       "         -4.0894e-03, -3.4332e-03],\n",
       "        [-5.1880e-03,  1.2817e-03,  1.8234e-03,  ..., -3.3875e-03,\n",
       "         -6.9809e-04, -4.9829e-05]])"
      ]
     },
     "execution_count": 3,
     "metadata": {},
     "output_type": "execute_result"
    }
   ],
   "source": [
    "gate_proj"
   ]
  },
  {
   "cell_type": "code",
   "execution_count": 4,
   "metadata": {},
   "outputs": [
    {
     "data": {
      "text/plain": [
       "torch.Size([14336, 4096])"
      ]
     },
     "execution_count": 4,
     "metadata": {},
     "output_type": "execute_result"
    }
   ],
   "source": [
    "gate_proj.shape"
   ]
  },
  {
   "cell_type": "markdown",
   "metadata": {},
   "source": [
    "### Compression and the FFT"
   ]
  },
  {
   "cell_type": "code",
   "execution_count": null,
   "metadata": {},
   "outputs": [],
   "source": [
    "from matplotlib.image import imread\n",
    "import numpy as np\n",
    "import matplotlib.pyplot as plt\n",
    "import os\n",
    "\n",
    "plt.rcParams[\"figure.figsize\"] = [12, 8]\n",
    "plt.rcParams.update({\"font.size\": 18})\n",
    "\n",
    "# A = imread(os.path.join(\"..\", \"DATA\", \"dog.jpg\"))\n",
    "# B = np.mean(A, -1)\n",
    "# Convert RGB to grayscale\n",
    "\n",
    "# Bt = np.fft.fft2(B)\n",
    "Bt = np.fft.fft2(gate_proj.numpy())\n",
    "Btsort = np.sort(np.abs(Bt.reshape(-1)))  # sort by magnitude\n",
    "\n",
    "# Zero out all small coefficients and inverse transform\n",
    "for keep in (0.1, 0.05, 0.01, 0.002):\n",
    "    thresh = Btsort[int(np.floor((1 - keep) * len(Btsort)))]\n",
    "    ind = np.abs(Bt) > thresh  # Find small indices\n",
    "    Atlow = Bt * ind  # Threshold small indices\n",
    "    Alow = np.fft.ifft2(Atlow).real  # Compressed image\n",
    "    plt.figure()\n",
    "    plt.imshow(Alow, cmap=\"gray\")\n",
    "    plt.axis(\"off\")\n",
    "    plt.title(\"Compressed image: keep = \" + str(keep))"
   ]
  },
  {
   "cell_type": "code",
   "execution_count": 6,
   "metadata": {},
   "outputs": [
    {
     "data": {
      "text/plain": [
       "torch.Size([14336, 4096])"
      ]
     },
     "execution_count": 6,
     "metadata": {},
     "output_type": "execute_result"
    }
   ],
   "source": [
    "gate_proj.shape"
   ]
  },
  {
   "cell_type": "code",
   "execution_count": 28,
   "metadata": {},
   "outputs": [],
   "source": [
    "Bt = np.fft.fft2(gate_proj.numpy())\n",
    "Btsort = np.sort(np.abs(Bt.reshape(-1)))  # sort by magnitude"
   ]
  },
  {
   "cell_type": "code",
   "execution_count": 29,
   "metadata": {},
   "outputs": [],
   "source": [
    "gate_proj = gate_proj.to(\"cuda:0\")"
   ]
  },
  {
   "cell_type": "code",
   "execution_count": 21,
   "metadata": {},
   "outputs": [
    {
     "data": {
      "text/plain": [
       "tensor([[ 4.6387e-03,  4.2114e-03,  2.2697e-04,  ...,  2.8992e-03,\n",
       "         -2.7313e-03,  3.7689e-03],\n",
       "        [-1.2436e-03,  2.2125e-04,  7.2479e-04,  ..., -1.1063e-03,\n",
       "         -3.2043e-03,  2.3346e-03],\n",
       "        [-3.1891e-03, -2.5635e-03,  1.5106e-03,  ...,  3.5706e-03,\n",
       "          1.0681e-03, -1.9455e-03],\n",
       "        ...,\n",
       "        [ 3.5667e-04,  5.3406e-04,  2.3460e-04,  ..., -1.2207e-03,\n",
       "          1.1292e-03,  7.6675e-04],\n",
       "        [ 4.6387e-03,  3.7079e-03, -2.4872e-03,  ...,  9.1553e-03,\n",
       "         -4.0894e-03, -3.4332e-03],\n",
       "        [-5.1880e-03,  1.2817e-03,  1.8234e-03,  ..., -3.3874e-03,\n",
       "         -6.9809e-04, -4.9827e-05]], device='cuda:0')"
      ]
     },
     "execution_count": 21,
     "metadata": {},
     "output_type": "execute_result"
    }
   ],
   "source": [
    "torch.fft.ifft2(torch.fft.fft2(gate_proj)).real"
   ]
  },
  {
   "cell_type": "code",
   "execution_count": 34,
   "metadata": {},
   "outputs": [],
   "source": [
    "Bt = np.fft.fft2(gate_proj.numpy())  # это веса\n",
    "Btsort = np.sort(np.abs(Bt.reshape(-1)))  # sort by magnitude\n",
    "keep = 0.5\n",
    "thresh = Btsort[int(np.floor((1 - keep) * len(Btsort)))]\n",
    "ind = np.abs(Bt) > thresh  # Find small indices\n",
    "Atlow = Bt * ind  # Threshold small indices <- вот тут много нулей\n",
    "Alow = np.fft.ifft2(Atlow).real  # Compressed image"
   ]
  },
  {
   "cell_type": "code",
   "execution_count": 5,
   "metadata": {},
   "outputs": [
    {
     "ename": "NameError",
     "evalue": "name 'Atlow' is not defined",
     "output_type": "error",
     "traceback": [
      "\u001b[0;31m---------------------------------------------------------------------------\u001b[0m",
      "\u001b[0;31mNameError\u001b[0m                                 Traceback (most recent call last)",
      "Cell \u001b[0;32mIn[5], line 1\u001b[0m\n\u001b[0;32m----> 1\u001b[0m \u001b[43mAtlow\u001b[49m\u001b[38;5;241m.\u001b[39mreal\n",
      "\u001b[0;31mNameError\u001b[0m: name 'Atlow' is not defined"
     ]
    }
   ],
   "source": [
    "Atlow.real"
   ]
  },
  {
   "cell_type": "code",
   "execution_count": 13,
   "metadata": {},
   "outputs": [
    {
     "data": {
      "text/plain": [
       "(58720256,)"
      ]
     },
     "execution_count": 13,
     "metadata": {},
     "output_type": "execute_result"
    }
   ],
   "source": [
    "Btsort.shape"
   ]
  },
  {
   "cell_type": "code",
   "execution_count": 27,
   "metadata": {},
   "outputs": [
    {
     "data": {
      "text/plain": [
       "46976204"
      ]
     },
     "execution_count": 27,
     "metadata": {},
     "output_type": "execute_result"
    }
   ],
   "source": [
    "ind.astype(int).sum()"
   ]
  },
  {
   "cell_type": "code",
   "execution_count": 17,
   "metadata": {},
   "outputs": [
    {
     "data": {
      "text/plain": [
       "(14336, 4096)"
      ]
     },
     "execution_count": 17,
     "metadata": {},
     "output_type": "execute_result"
    }
   ],
   "source": [
    "Alow.shape"
   ]
  },
  {
   "cell_type": "code",
   "execution_count": 16,
   "metadata": {},
   "outputs": [
    {
     "data": {
      "text/plain": [
       "(14336, 4096)"
      ]
     },
     "execution_count": 16,
     "metadata": {},
     "output_type": "execute_result"
    }
   ],
   "source": [
    "Atlow.shape"
   ]
  },
  {
   "cell_type": "code",
   "execution_count": 33,
   "metadata": {},
   "outputs": [
    {
     "data": {
      "text/plain": [
       "tensor(3.6878, dtype=torch.float64)"
      ]
     },
     "execution_count": 33,
     "metadata": {},
     "output_type": "execute_result"
    }
   ],
   "source": [
    "torch.linalg.norm((gate_proj.cpu().reshape(-1) - torch.tensor(Alow).reshape(-1)))"
   ]
  },
  {
   "cell_type": "code",
   "execution_count": 45,
   "metadata": {},
   "outputs": [
    {
     "name": "stdout",
     "output_type": "stream",
     "text": [
      "117440560\n"
     ]
    },
    {
     "ename": "NotImplementedError",
     "evalue": "Cannot access storage of SparseTensorImpl",
     "output_type": "error",
     "traceback": [
      "\u001b[0;31m---------------------------------------------------------------------------\u001b[0m",
      "\u001b[0;31mNotImplementedError\u001b[0m                       Traceback (most recent call last)",
      "Cell \u001b[0;32mIn[45], line 3\u001b[0m\n\u001b[1;32m      1\u001b[0m \u001b[38;5;28;01mimport\u001b[39;00m \u001b[38;5;21;01mtorch\u001b[39;00m\u001b[38;5;241m,\u001b[39m \u001b[38;5;21;01msys\u001b[39;00m\n\u001b[1;32m      2\u001b[0m \u001b[38;5;28mprint\u001b[39m(sys\u001b[38;5;241m.\u001b[39mgetsizeof(gate_proj\u001b[38;5;241m.\u001b[39mto(torch\u001b[38;5;241m.\u001b[39mfloat16)\u001b[38;5;241m.\u001b[39mstorage()))\n\u001b[0;32m----> 3\u001b[0m \u001b[38;5;28mprint\u001b[39m(sys\u001b[38;5;241m.\u001b[39mgetsizeof(\u001b[43mtorch\u001b[49m\u001b[38;5;241;43m.\u001b[39;49m\u001b[43mtensor\u001b[49m\u001b[43m(\u001b[49m\u001b[43mAlow\u001b[49m\u001b[43m)\u001b[49m\u001b[38;5;241;43m.\u001b[39;49m\u001b[43mto_sparse\u001b[49m\u001b[43m(\u001b[49m\u001b[43m)\u001b[49m\u001b[38;5;241;43m.\u001b[39;49m\u001b[43mto\u001b[49m\u001b[43m(\u001b[49m\u001b[43mtorch\u001b[49m\u001b[38;5;241;43m.\u001b[39;49m\u001b[43mfloat16\u001b[49m\u001b[43m)\u001b[49m\u001b[38;5;241;43m.\u001b[39;49m\u001b[43mstorage\u001b[49m\u001b[43m(\u001b[49m\u001b[43m)\u001b[49m))\n",
      "File \u001b[0;32m/opt/conda/lib/python3.10/site-packages/torch/_tensor.py:238\u001b[0m, in \u001b[0;36mTensor.storage\u001b[0;34m(self)\u001b[0m\n\u001b[1;32m    235\u001b[0m     \u001b[38;5;28;01mreturn\u001b[39;00m handle_torch_function(Tensor\u001b[38;5;241m.\u001b[39mstorage, (\u001b[38;5;28mself\u001b[39m,), \u001b[38;5;28mself\u001b[39m)\n\u001b[1;32m    237\u001b[0m torch\u001b[38;5;241m.\u001b[39mstorage\u001b[38;5;241m.\u001b[39m_warn_typed_storage_removal(stacklevel\u001b[38;5;241m=\u001b[39m\u001b[38;5;241m2\u001b[39m)\n\u001b[0;32m--> 238\u001b[0m \u001b[38;5;28;01mreturn\u001b[39;00m \u001b[38;5;28;43mself\u001b[39;49m\u001b[38;5;241;43m.\u001b[39;49m\u001b[43m_typed_storage\u001b[49m\u001b[43m(\u001b[49m\u001b[43m)\u001b[49m\n",
      "File \u001b[0;32m/opt/conda/lib/python3.10/site-packages/torch/_tensor.py:242\u001b[0m, in \u001b[0;36mTensor._typed_storage\u001b[0;34m(self)\u001b[0m\n\u001b[1;32m    241\u001b[0m \u001b[38;5;28;01mdef\u001b[39;00m \u001b[38;5;21m_typed_storage\u001b[39m(\u001b[38;5;28mself\u001b[39m):\n\u001b[0;32m--> 242\u001b[0m     untyped_storage \u001b[38;5;241m=\u001b[39m \u001b[38;5;28;43mself\u001b[39;49m\u001b[38;5;241;43m.\u001b[39;49m\u001b[43muntyped_storage\u001b[49m\u001b[43m(\u001b[49m\u001b[43m)\u001b[49m\n\u001b[1;32m    243\u001b[0m     \u001b[38;5;28;01mreturn\u001b[39;00m torch\u001b[38;5;241m.\u001b[39mTypedStorage(\n\u001b[1;32m    244\u001b[0m         wrap_storage\u001b[38;5;241m=\u001b[39muntyped_storage, dtype\u001b[38;5;241m=\u001b[39m\u001b[38;5;28mself\u001b[39m\u001b[38;5;241m.\u001b[39mdtype, _internal\u001b[38;5;241m=\u001b[39m\u001b[38;5;28;01mTrue\u001b[39;00m\n\u001b[1;32m    245\u001b[0m     )\n",
      "\u001b[0;31mNotImplementedError\u001b[0m: Cannot access storage of SparseTensorImpl"
     ]
    }
   ],
   "source": [
    "import torch, sys\n",
    "\n",
    "\n",
    "\n",
    "print(sys.getsizeof(gate_proj.to(torch.float16).storage()))\n",
    "\n",
    "\n",
    "print(sys.getsizeof(torch.tensor(Alow).to_sparse().to(torch.float16).storage()))"
   ]
  },
  {
   "cell_type": "code",
   "execution_count": 46,
   "metadata": {},
   "outputs": [
    {
     "data": {
      "text/plain": [
       "tensor(indices=tensor([[    0,     0,     0,  ..., 14335, 14335, 14335],\n",
       "                       [    0,     1,     2,  ...,  4093,  4094,  4095]]),\n",
       "       values=tensor([ 0.0034,  0.0073, -0.0008,  ..., -0.0038,  0.0016,\n",
       "                      -0.0002]),\n",
       "       size=(14336, 4096), nnz=58720256, dtype=torch.float64,\n",
       "       layout=torch.sparse_coo)"
      ]
     },
     "execution_count": 46,
     "metadata": {},
     "output_type": "execute_result"
    }
   ],
   "source": [
    "torch.tensor(Alow).to_sparse()"
   ]
  },
  {
   "cell_type": "code",
   "execution_count": 40,
   "metadata": {},
   "outputs": [
    {
     "data": {
      "text/plain": [
       "array([[ 0.00342234,  0.00729747, -0.00079843, ...,  0.00410324,\n",
       "        -0.00095315,  0.00368936],\n",
       "       [-0.00038301,  0.00045047, -0.00060559, ..., -0.00050858,\n",
       "        -0.00141482,  0.00244444],\n",
       "       [-0.00081623, -0.0026195 ,  0.00104601, ...,  0.00367553,\n",
       "         0.00218834, -0.00219541],\n",
       "       ...,\n",
       "       [-0.00032325,  0.00123588, -0.00047496, ..., -0.00052891,\n",
       "         0.00160069, -0.00171719],\n",
       "       [ 0.00432611,  0.00359148, -0.00118633, ...,  0.00619399,\n",
       "        -0.00471996, -0.0022335 ],\n",
       "       [-0.00406702,  0.00186096,  0.00244315, ..., -0.00376996,\n",
       "         0.00161317, -0.00024044]])"
      ]
     },
     "execution_count": 40,
     "metadata": {},
     "output_type": "execute_result"
    }
   ],
   "source": [
    "Alow"
   ]
  },
  {
   "cell_type": "code",
   "execution_count": 51,
   "metadata": {},
   "outputs": [
    {
     "data": {
      "text/plain": [
       "tensor(indices=tensor([[    0,     0,     0,  ..., 14335, 14335, 14335],\n",
       "                       [    0,     1,     2,  ...,  4093,  4094,  4095]]),\n",
       "       values=tensor([ 0.0034,  0.0073, -0.0008,  ..., -0.0038,  0.0016,\n",
       "                      -0.0002]),\n",
       "       size=(14336, 4096), nnz=58720256, dtype=torch.float16,\n",
       "       layout=torch.sparse_coo)"
      ]
     },
     "execution_count": 51,
     "metadata": {},
     "output_type": "execute_result"
    }
   ],
   "source": []
  },
  {
   "cell_type": "code",
   "execution_count": 48,
   "metadata": {},
   "outputs": [
    {
     "data": {
      "text/plain": [
       "tensor([[ 4.6387e-03,  4.2114e-03,  2.2697e-04,  ...,  2.8992e-03,\n",
       "         -2.7313e-03,  3.7689e-03],\n",
       "        [-1.2436e-03,  2.2125e-04,  7.2479e-04,  ..., -1.1063e-03,\n",
       "         -3.2043e-03,  2.3346e-03],\n",
       "        [-3.1891e-03, -2.5635e-03,  1.5106e-03,  ...,  3.5706e-03,\n",
       "          1.0681e-03, -1.9455e-03],\n",
       "        ...,\n",
       "        [ 3.5667e-04,  5.3406e-04,  2.3460e-04,  ..., -1.2207e-03,\n",
       "          1.1292e-03,  7.6675e-04],\n",
       "        [ 4.6387e-03,  3.7079e-03, -2.4872e-03,  ...,  9.1553e-03,\n",
       "         -4.0894e-03, -3.4332e-03],\n",
       "        [-5.1880e-03,  1.2817e-03,  1.8234e-03,  ..., -3.3875e-03,\n",
       "         -6.9809e-04, -4.9829e-05]], device='cuda:0')"
      ]
     },
     "execution_count": 48,
     "metadata": {},
     "output_type": "execute_result"
    }
   ],
   "source": [
    "gate_proj"
   ]
  },
  {
   "cell_type": "code",
   "execution_count": 67,
   "metadata": {},
   "outputs": [],
   "source": [
    "# Alow_torch = torch.tensor(Alow).to(torch.float16).to_sparse()\n",
    "Atlow_torch = torch.tensor(Atlow.real).to(torch.float16).to_sparse()"
   ]
  },
  {
   "cell_type": "code",
   "execution_count": 68,
   "metadata": {},
   "outputs": [
    {
     "data": {
      "text/plain": [
       "528482304"
      ]
     },
     "execution_count": 68,
     "metadata": {},
     "output_type": "execute_result"
    }
   ],
   "source": [
    "import torch\n",
    "\n",
    "device = \"cuda:0\"\n",
    "\n",
    "# before\n",
    "torch._C._cuda_clearCublasWorkspaces()\n",
    "memory_before = torch.cuda.memory_allocated(device)\n",
    "\n",
    "# your tensor or network\n",
    "# gate_proj_copy_1 = gate_proj.to(torch.float16).clone()\n",
    "Atlow_torch_sparse = Atlow_torch.to(device)\n",
    "# after\n",
    "memory_after = torch.cuda.memory_allocated(device)\n",
    "latent_size = memory_after - memory_before\n",
    "\n",
    "latent_size"
   ]
  },
  {
   "cell_type": "code",
   "execution_count": null,
   "metadata": {},
   "outputs": [],
   "source": [
    "# 117440512 - gate_proj.to(torch.float16).clone()\n",
    "# 1056964608\n",
    "# 528482304"
   ]
  },
  {
   "cell_type": "code",
   "execution_count": 69,
   "metadata": {},
   "outputs": [
    {
     "data": {
      "text/plain": [
       "tensor(indices=tensor([[    0,     0,     0,  ..., 14335, 14335, 14335],\n",
       "                       [    0,     1,     2,  ...,  4092,  4094,  4095]]),\n",
       "       values=tensor([ 46.5000, 101.1250, 336.0000,  ..., -24.1875,\n",
       "                       32.6562,  12.9766]),\n",
       "       device='cuda:0', size=(14336, 4096), nnz=29360127, dtype=torch.float16,\n",
       "       layout=torch.sparse_coo)"
      ]
     },
     "execution_count": 69,
     "metadata": {},
     "output_type": "execute_result"
    }
   ],
   "source": [
    "Atlow_torch_sparse"
   ]
  },
  {
   "cell_type": "code",
   "execution_count": 2,
   "metadata": {},
   "outputs": [
    {
     "name": "stdout",
     "output_type": "stream",
     "text": [
      "16.024398803710938\n"
     ]
    }
   ],
   "source": [
    "import torch\n",
    "\n",
    "\n",
    "\n",
    "DEVICE = \"cuda:0\"\n",
    "\n",
    "n = 100\n",
    "\n",
    "\n",
    "c = 0.6\n",
    "\n",
    "\n",
    "\n",
    "t1 = torch.randn(100, n, n).to(\"cuda\")\n",
    "\n",
    "\n",
    "t1[torch.rand_like(t1) > c] = 0\n",
    "\n",
    "\n",
    "t2 = t1.to_sparse()\n",
    "\n",
    "\n",
    "\n",
    "print((t2.indices().nelement() * 8 + t2.values().nelement() * 4) / 1024**2)"
   ]
  },
  {
   "cell_type": "code",
   "execution_count": 4,
   "metadata": {},
   "outputs": [
    {
     "data": {
      "text/plain": [
       "tensor([[[ 1.5193e+00,  0.0000e+00,  0.0000e+00,  ..., -2.0527e+00,\n",
       "          -2.6845e-01,  0.0000e+00],\n",
       "         [-7.7700e-01,  1.0802e+00,  0.0000e+00,  ...,  0.0000e+00,\n",
       "           0.0000e+00,  0.0000e+00],\n",
       "         [ 1.2253e+00,  0.0000e+00,  0.0000e+00,  ...,  0.0000e+00,\n",
       "          -1.1418e-01,  4.8530e-01],\n",
       "         ...,\n",
       "         [-2.6703e-01,  0.0000e+00,  0.0000e+00,  ..., -7.9718e-01,\n",
       "          -9.0903e-01,  2.6881e-01],\n",
       "         [ 0.0000e+00, -1.2604e-01, -5.7897e-04,  ..., -5.1620e-02,\n",
       "           0.0000e+00, -1.8099e-01],\n",
       "         [ 2.0012e+00, -5.0144e-01,  3.9186e-01,  ...,  1.5074e+00,\n",
       "           0.0000e+00,  0.0000e+00]],\n",
       "\n",
       "        [[ 0.0000e+00, -5.4264e-01,  9.0716e-01,  ..., -1.0123e+00,\n",
       "           0.0000e+00, -7.1073e-01],\n",
       "         [ 4.4939e-01, -1.9415e-01,  0.0000e+00,  ...,  1.0840e+00,\n",
       "           0.0000e+00, -1.6075e+00],\n",
       "         [ 1.6987e+00,  0.0000e+00,  0.0000e+00,  ..., -2.5648e-01,\n",
       "           0.0000e+00,  2.3451e-01],\n",
       "         ...,\n",
       "         [ 0.0000e+00, -3.3541e-01,  0.0000e+00,  ...,  0.0000e+00,\n",
       "           0.0000e+00,  0.0000e+00],\n",
       "         [ 0.0000e+00, -3.7399e-02,  1.4020e+00,  ...,  0.0000e+00,\n",
       "          -3.3168e-01, -1.3014e+00],\n",
       "         [ 0.0000e+00, -1.3710e-01,  9.1300e-01,  ...,  2.7533e-01,\n",
       "           9.8663e-01, -4.4500e-02]],\n",
       "\n",
       "        [[-5.6347e-01, -1.5533e+00, -1.1093e+00,  ..., -1.4442e+00,\n",
       "           0.0000e+00,  4.8923e-01],\n",
       "         [ 0.0000e+00,  3.7460e-01, -8.2326e-01,  ...,  1.8870e-01,\n",
       "           0.0000e+00, -1.2414e-01],\n",
       "         [-1.2227e+00,  0.0000e+00, -1.7995e+00,  ...,  0.0000e+00,\n",
       "           0.0000e+00,  0.0000e+00],\n",
       "         ...,\n",
       "         [ 3.5850e-01, -1.5769e+00,  0.0000e+00,  ...,  0.0000e+00,\n",
       "           1.7785e+00,  0.0000e+00],\n",
       "         [-9.6101e-01,  1.8633e+00, -2.3913e+00,  ...,  0.0000e+00,\n",
       "           0.0000e+00,  0.0000e+00],\n",
       "         [ 4.5698e-01,  1.6946e+00, -7.2262e-01,  ...,  6.1332e-01,\n",
       "          -1.4735e+00,  0.0000e+00]],\n",
       "\n",
       "        ...,\n",
       "\n",
       "        [[-1.0269e+00, -1.9034e+00,  0.0000e+00,  ..., -1.3125e+00,\n",
       "           0.0000e+00,  0.0000e+00],\n",
       "         [ 5.7715e-01,  0.0000e+00,  0.0000e+00,  ...,  0.0000e+00,\n",
       "           6.8831e-01,  5.4015e-01],\n",
       "         [ 5.6197e-01,  7.1095e-01,  2.1833e+00,  ..., -4.3746e-01,\n",
       "           1.5499e+00,  2.0271e+00],\n",
       "         ...,\n",
       "         [-5.2457e-01,  0.0000e+00, -2.2610e-01,  ..., -2.6920e-01,\n",
       "           7.2030e-02,  0.0000e+00],\n",
       "         [-2.8236e-01, -8.6795e-01, -1.2963e+00,  ..., -2.1135e-01,\n",
       "           0.0000e+00,  0.0000e+00],\n",
       "         [-1.2653e-01,  0.0000e+00,  7.1709e-01,  ...,  8.5987e-01,\n",
       "           0.0000e+00,  0.0000e+00]],\n",
       "\n",
       "        [[ 0.0000e+00,  0.0000e+00,  0.0000e+00,  ...,  0.0000e+00,\n",
       "           0.0000e+00, -1.5670e+00],\n",
       "         [ 0.0000e+00, -1.2543e+00,  0.0000e+00,  ...,  2.1306e-01,\n",
       "           0.0000e+00,  0.0000e+00],\n",
       "         [ 0.0000e+00,  0.0000e+00,  1.2936e+00,  ...,  0.0000e+00,\n",
       "           0.0000e+00, -4.3609e-01],\n",
       "         ...,\n",
       "         [ 7.1669e-01, -4.7880e-02,  0.0000e+00,  ...,  0.0000e+00,\n",
       "           1.8727e+00, -1.7434e-01],\n",
       "         [ 7.3796e-03,  3.9465e-01,  6.6363e-01,  ...,  4.8805e-01,\n",
       "           0.0000e+00,  0.0000e+00],\n",
       "         [ 0.0000e+00,  3.1111e-01,  0.0000e+00,  ...,  0.0000e+00,\n",
       "          -1.4183e+00, -8.1835e-01]],\n",
       "\n",
       "        [[ 6.6923e-01,  1.2285e-01,  5.3571e-01,  ...,  0.0000e+00,\n",
       "           0.0000e+00,  0.0000e+00],\n",
       "         [-1.9052e+00,  3.1966e-01, -6.6479e-01,  ..., -1.4349e+00,\n",
       "           1.7118e-01, -1.4049e+00],\n",
       "         [ 0.0000e+00,  3.2412e-01, -4.1430e-02,  ...,  0.0000e+00,\n",
       "           0.0000e+00,  0.0000e+00],\n",
       "         ...,\n",
       "         [-1.9524e-01, -2.4131e-01,  0.0000e+00,  ..., -2.3070e-01,\n",
       "           2.2533e+00,  0.0000e+00],\n",
       "         [ 0.0000e+00,  2.3636e+00,  5.0900e-01,  ...,  0.0000e+00,\n",
       "           0.0000e+00,  0.0000e+00],\n",
       "         [ 9.0040e-01,  0.0000e+00,  2.1989e-01,  ...,  0.0000e+00,\n",
       "           9.2969e-01, -1.0726e+00]]], device='cuda:0')"
      ]
     },
     "execution_count": 4,
     "metadata": {},
     "output_type": "execute_result"
    }
   ],
   "source": [
    "t1"
   ]
  },
  {
   "cell_type": "code",
   "execution_count": 3,
   "metadata": {},
   "outputs": [
    {
     "ename": "RuntimeError",
     "evalue": "indices expected sparse coordinate tensor layout but got Strided",
     "output_type": "error",
     "traceback": [
      "\u001b[0;31m---------------------------------------------------------------------------\u001b[0m",
      "\u001b[0;31mRuntimeError\u001b[0m                              Traceback (most recent call last)",
      "Cell \u001b[0;32mIn[3], line 1\u001b[0m\n\u001b[0;32m----> 1\u001b[0m \u001b[38;5;28mprint\u001b[39m((\u001b[43mt1\u001b[49m\u001b[38;5;241;43m.\u001b[39;49m\u001b[43mindices\u001b[49m\u001b[43m(\u001b[49m\u001b[43m)\u001b[49m\u001b[38;5;241m.\u001b[39mnelement() \u001b[38;5;241m*\u001b[39m \u001b[38;5;241m8\u001b[39m \u001b[38;5;241m+\u001b[39m t1\u001b[38;5;241m.\u001b[39mvalues()\u001b[38;5;241m.\u001b[39mnelement() \u001b[38;5;241m*\u001b[39m \u001b[38;5;241m4\u001b[39m) \u001b[38;5;241m/\u001b[39m \u001b[38;5;241m1024\u001b[39m\u001b[38;5;241m*\u001b[39m\u001b[38;5;241m*\u001b[39m\u001b[38;5;241m2\u001b[39m)\n",
      "\u001b[0;31mRuntimeError\u001b[0m: indices expected sparse coordinate tensor layout but got Strided"
     ]
    }
   ],
   "source": [
    "print((t1.indices().nelement() * 8 + t1.values().nelement() * 4) / 1024**2)"
   ]
  }
 ],
 "metadata": {
  "kernelspec": {
   "display_name": "base",
   "language": "python",
   "name": "python3"
  },
  "language_info": {
   "codemirror_mode": {
    "name": "ipython",
    "version": 3
   },
   "file_extension": ".py",
   "mimetype": "text/x-python",
   "name": "python",
   "nbconvert_exporter": "python",
   "pygments_lexer": "ipython3",
   "version": "3.10.13"
  }
 },
 "nbformat": 4,
 "nbformat_minor": 2
}
