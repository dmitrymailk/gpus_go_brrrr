{
 "cells": [
  {
   "cell_type": "code",
   "execution_count": 1,
   "metadata": {},
   "outputs": [
    {
     "name": "stderr",
     "output_type": "stream",
     "text": [
      "/opt/conda/lib/python3.10/site-packages/tqdm/auto.py:21: TqdmWarning: IProgress not found. Please update jupyter and ipywidgets. See https://ipywidgets.readthedocs.io/en/stable/user_install.html\n",
      "  from .autonotebook import tqdm as notebook_tqdm\n",
      "Loading checkpoint shards: 100%|██████████| 3/3 [00:21<00:00,  7.20s/it]\n",
      "Special tokens have been added in the vocabulary, make sure the associated word embeddings are fine-tuned or trained.\n",
      "Special tokens have been added in the vocabulary, make sure the associated word embeddings are fine-tuned or trained.\n"
     ]
    }
   ],
   "source": [
    "import os\n",
    "\n",
    "os.environ[\"CUDA_VISIBLE_DEVICES\"] = \"2\"\n",
    "\n",
    "from ebany_research.llm_lora.changed_mistral import (\n",
    "    LinearLora,\n",
    "    ChangedMistralForCausalLM,\n",
    ")\n",
    "from transformers import AutoTokenizer, AutoConfig\n",
    "import torch\n",
    "\n",
    "model_name = \"Open-Orca/Mistral-7B-OpenOrca\"\n",
    "lora_model_name = \"ebany_research/llm_lora/models/\"\n",
    "lora_model_name += \"52[6c_11c_14_17c_20c_22c_25c_26][6_10_11_14_17_20_22_25_26_30][6c_10c_11c_14c_17c_20_22c_25c_26c_30c]\"\n",
    "\n",
    "config = AutoConfig.from_pretrained(lora_model_name)\n",
    "student_model = ChangedMistralForCausalLM.from_pretrained(\n",
    "    lora_model_name,\n",
    "    device_map={\"\": 0},\n",
    "    attn_implementation=\"flash_attention_2\",\n",
    "    torch_dtype=torch.bfloat16,\n",
    ")\n",
    "student_model = student_model.eval()\n",
    "tokenizer = AutoTokenizer.from_pretrained(\n",
    "    model_name,\n",
    ")\n",
    "tokenizer.pad_token = tokenizer.eos_token\n",
    "tokenizer.pad_token_id = tokenizer.eos_token_id"
   ]
  },
  {
   "cell_type": "code",
   "execution_count": 6,
   "metadata": {},
   "outputs": [
    {
     "name": "stderr",
     "output_type": "stream",
     "text": [
      "Setting `pad_token_id` to `eos_token_id`:32000 for open-end generation.\n"
     ]
    },
    {
     "name": "stdout",
     "output_type": "stream",
     "text": [
      "<s><|im_start|> system\n",
      "You are an AI assistant. You will be given a task. You must generate a detailed and long answer.<|im_end|> \n",
      "\n",
      "The task is to generate a response to the statement \"I am a professional AI assistant and I have been assigned to this task.\".\n",
      "\n",
      "The task involves generating a response to the statement \"I am a professional AI assistant and I have been assigned to this task.\".\n",
      "\n",
      "The task involves generating a response to the statement \"I am a professional AI assistant and I have been assigned to this task.\".\n",
      "\n",
      "The task involves generating a response to the statement \"I am a professional AI assistant and I have been assigned to this task.\".\n",
      "\n",
      "The task involves generating a response to the statement \"I am a professional AI assistant and I have been assigned to this task.\"<|im_start|> response is as follows:\n",
      "\n",
      "\"I am a professional AI assistant and I have been assigned to this task.\"\n",
      "\n",
      "\"I am a professional AI assistant and I have been assigned to this task.\"\n",
      "\n",
      "\"I am a professional AI assistant and I have been assigned to this task.\"\n",
      "\n",
      "\"I am a professional AI assistant and I have been assigned to this task.\"\n",
      "\n",
      "\"I am a professional AI assistant and I have been assigned to this task.\"\n",
      "\n",
      "\"I am a professional AI assistant and I have been assigned to this task.\"\n",
      "\n",
      "\"\n"
     ]
    }
   ],
   "source": [
    "with torch.no_grad():\n",
    "    chat = [\n",
    "        {\"role\": \"system\", \"content\": \"You are an AI assistant. You will be given a task. You must generate a detailed and long answer.\"},\n",
    "        # {\n",
    "        #     \"role\": \"user\",\n",
    "        #     \"content\": \"\"\"Please add punctuation to this: The cause of the explosion has never been clear the affected area was completely uninhabited\"\"\",\n",
    "        # },\n",
    "        # {\"role\": \"assistant\", \"content\": dataset_item[\"response\"]},\n",
    "    ]\n",
    "    inputs_text = tokenizer.apply_chat_template(\n",
    "        chat,\n",
    "        tokenize=False,\n",
    "        # add_generation_prompt=True,\n",
    "    )\n",
    "    # print(inputs)\n",
    "    inputs = tokenizer(\n",
    "        inputs_text,\n",
    "        return_tensors=\"pt\",\n",
    "        truncation=True,\n",
    "        # max_length=4096,\n",
    "        max_length=2048,\n",
    "    ).to(student_model.device)\n",
    "\n",
    "    outputs = student_model.generate(\n",
    "        **inputs,\n",
    "        max_new_tokens=256,\n",
    "        do_sample=False,\n",
    "        # top_k=50,\n",
    "        # top_p=0.95,\n",
    "    )\n",
    "    outputs = tokenizer.batch_decode(outputs, skip_special_tokens=False)\n",
    "    print(outputs[0])"
   ]
  },
  {
   "cell_type": "markdown",
   "metadata": {},
   "source": [
    "The A in COATS stands for Cadet Organations Administration and Training Service. It is a cadet organization that provides training, safety, supervision and administration for cadet members in the Canadian Cadet Movement. The Cadet Instructors Cadle (CIC) branch of the CAF is a part of the Cadet Organations Administration and Training Service. The Cadet Instructors Supplementary Staff List (CISS List) is a list of cadet instructors who may be held in anticipation of their employment in the same manner as other cadet instructors are held as members of the Supplementary Reserve."
   ]
  },
  {
   "cell_type": "code",
   "execution_count": 3,
   "metadata": {},
   "outputs": [
    {
     "data": {
      "text/plain": [
       "{'input_ids': [[1, 6312, 28709, 1526, 6312, 28709, 1526, 6312, 28709, 1526, 21558, 1526], [32000, 32000, 32000, 32000, 32000, 32000, 32000, 32000, 32000, 1, 6312, 28709]], 'attention_mask': [[1, 1, 1, 1, 1, 1, 1, 1, 1, 1, 1, 1], [0, 0, 0, 0, 0, 0, 0, 0, 0, 1, 1, 1]]}"
      ]
     },
     "execution_count": 3,
     "metadata": {},
     "output_type": "execute_result"
    }
   ],
   "source": [
    "tokenizer(\n",
    "    [\"hello world hello world hello worldhello world\", \"hello\", ],\n",
    "    # return_tensors=\"pt\",\n",
    "    truncation=True,\n",
    "    # max_length=4096,\n",
    "    max_length=2048,\n",
    "    padding=True,\n",
    ")"
   ]
  },
  {
   "cell_type": "code",
   "execution_count": 11,
   "metadata": {},
   "outputs": [
    {
     "data": {
      "text/plain": [
       "'<|im_start|>system\\nYou are an AI assistant. User will you give you a task. Your goal is to complete the task as faithfully as you can. While performing the task think step-by-step and justify your steps.<|im_end|>\\n<|im_start|>user\\nDavid has three sisters. Each of them has one brother. How many brothers does David have?<|im_end|>\\n'"
      ]
     },
     "execution_count": 11,
     "metadata": {},
     "output_type": "execute_result"
    }
   ],
   "source": [
    "chat = [\n",
    "    {\n",
    "        \"role\": \"system\",\n",
    "        \"content\": \"You are an AI assistant. User will you give you a task. Your goal is to complete the task as faithfully as you can. While performing the task think step-by-step and justify your steps.\",\n",
    "    },\n",
    "    {\n",
    "        \"role\": \"user\",\n",
    "        \"content\": \"\"\"David has three sisters. Each of them has one brother. How many brothers does David have?\"\"\",\n",
    "    },\n",
    "    # {\"role\": \"assistant\", \"content\": \"The Confederation of British Industry (CBI) and British Chambers of Commerce have called for market stability and political clarity following the UK's decision to leave the EU. Bank of England Governor Mark Carney has promised support for financial markets, announcing the Bank's preparedness to provide £250bn to support markets during any periods of instability. Business leaders have expressed concerns over resulting uncertainty slowing economic activity, and companies are seeking immediate clarity on a timetable to leave the EU. Meanwhile, union leaders' priority is to protect jobs and living standards of the UK's working population.\"},\n",
    "]\n",
    "inputs = tokenizer.apply_chat_template(\n",
    "    chat,\n",
    "    tokenize=False,\n",
    "    # add_generation_prompt=True,\n",
    ")\n",
    "inputs"
   ]
  }
 ],
 "metadata": {
  "kernelspec": {
   "display_name": "base",
   "language": "python",
   "name": "python3"
  },
  "language_info": {
   "codemirror_mode": {
    "name": "ipython",
    "version": 3
   },
   "file_extension": ".py",
   "mimetype": "text/x-python",
   "name": "python",
   "nbconvert_exporter": "python",
   "pygments_lexer": "ipython3",
   "version": "3.10.13"
  }
 },
 "nbformat": 4,
 "nbformat_minor": 2
}
