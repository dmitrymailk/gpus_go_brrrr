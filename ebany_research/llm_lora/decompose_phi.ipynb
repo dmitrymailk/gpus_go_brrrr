{
 "cells": [
  {
   "cell_type": "code",
   "execution_count": null,
   "metadata": {},
   "outputs": [],
   "source": [
    "from ebany_research.llm_lora.modeling_mixformer_sequential import MixFormerSequentialForCausalLM\n",
    "\n",
    "model = MixFormerSequentialForCausalLM.from_pretrained(\"Open-Orca/oo-phi-1_5\")"
   ]
  }
 ],
 "metadata": {
  "language_info": {
   "name": "python"
  }
 },
 "nbformat": 4,
 "nbformat_minor": 2
}
